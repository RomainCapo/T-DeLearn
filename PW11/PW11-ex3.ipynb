{
 "cells": [
  {
   "cell_type": "code",
   "execution_count": 29,
   "metadata": {
    "executionInfo": {
     "elapsed": 485,
     "status": "ok",
     "timestamp": 1621517085744,
     "user": {
      "displayName": "romain capocasale",
      "photoUrl": "https://lh3.googleusercontent.com/a-/AOh14GiWGoBjFIySC4NHegkPbddUXgZNNeEFe0uEHQKX=s64",
      "userId": "09406023985350001315"
     },
     "user_tz": -120
    },
    "id": "Wr4Wayhe2EU2"
   },
   "outputs": [],
   "source": [
    "import csv\n",
    "import numpy as np\n",
    "import numpy as np\n",
    "import random\n",
    "import matplotlib.pyplot as plt\n",
    "import tensorflow as tf\n",
    "\n",
    "from keras.layers import Dense, SimpleRNN\n",
    "from keras.models import Model, Sequential"
   ]
  },
  {
   "cell_type": "markdown",
   "metadata": {
    "id": "gLtNqZ-k8F5Z"
   },
   "source": [
    "## Get data from disk"
   ]
  },
  {
   "cell_type": "code",
   "execution_count": 79,
   "metadata": {
    "executionInfo": {
     "elapsed": 508,
     "status": "ok",
     "timestamp": 1621519428531,
     "user": {
      "displayName": "romain capocasale",
      "photoUrl": "https://lh3.googleusercontent.com/a-/AOh14GiWGoBjFIySC4NHegkPbddUXgZNNeEFe0uEHQKX=s64",
      "userId": "09406023985350001315"
     },
     "user_tz": -120
    },
    "id": "3c5XEHxv3ekR"
   },
   "outputs": [],
   "source": [
    "corpus = ''\n",
    "with open('companies.csv', newline='') as csvfile:\n",
    "  reader = csv.reader(csvfile, delimiter=' ')\n",
    "  for row in reader:\n",
    "     corpus += row[0] + ' '"
   ]
  },
  {
   "cell_type": "markdown",
   "metadata": {
    "id": "2Cb3VKgA8Nas"
   },
   "source": [
    "## Get a unique identifier for each char"
   ]
  },
  {
   "cell_type": "code",
   "execution_count": 80,
   "metadata": {
    "colab": {
     "base_uri": "https://localhost:8080/"
    },
    "executionInfo": {
     "elapsed": 1335,
     "status": "ok",
     "timestamp": 1621519429911,
     "user": {
      "displayName": "romain capocasale",
      "photoUrl": "https://lh3.googleusercontent.com/a-/AOh14GiWGoBjFIySC4NHegkPbddUXgZNNeEFe0uEHQKX=s64",
      "userId": "09406023985350001315"
     },
     "user_tz": -120
    },
    "id": "T8O4zfE34OA6",
    "outputId": "9c0e7338-7113-4dcf-dd91-0d82196fbefc"
   },
   "outputs": [
    {
     "name": "stdout",
     "output_type": "stream",
     "text": [
      "Our corpus contains 142 unique characters.\n"
     ]
    }
   ],
   "source": [
    "# Get a unique identifier for each char in the corpus,\n",
    "# then make some dicts to ease encoding and decoding\n",
    "chars = sorted(list(set(corpus)))\n",
    "num_chars = len(chars)\n",
    "encoding = {c: i for i, c in enumerate(chars)}\n",
    "decoding = {i: c for i, c in enumerate(chars)}\n",
    "\n",
    "print(\"Our corpus contains {0} unique characters.\".format(num_chars))\n"
   ]
  },
  {
   "cell_type": "markdown",
   "metadata": {
    "id": "zC30pZe98Pmx"
   },
   "source": [
    "## Prepare data"
   ]
  },
  {
   "cell_type": "code",
   "execution_count": 81,
   "metadata": {
    "colab": {
     "base_uri": "https://localhost:8080/"
    },
    "executionInfo": {
     "elapsed": 2153,
     "status": "ok",
     "timestamp": 1621519431737,
     "user": {
      "displayName": "romain capocasale",
      "photoUrl": "https://lh3.googleusercontent.com/a-/AOh14GiWGoBjFIySC4NHegkPbddUXgZNNeEFe0uEHQKX=s64",
      "userId": "09406023985350001315"
     },
     "user_tz": -120
    },
    "id": "jhHvZk-o63x7",
    "outputId": "9ffc4212-c215-4a1b-9a95-fc63cd1a9d87"
   },
   "outputs": [
    {
     "name": "stdout",
     "output_type": "stream",
     "text": [
      "Sliced our corpus into 478065 sentences of length 10\n"
     ]
    }
   ],
   "source": [
    "# chop up our data into X and y, slice into roughly\n",
    "# (num_chars / skip) overlapping 'sentences' of length\n",
    "# sentence_length, and encode the chars\n",
    "sentence_length = 10\n",
    "skip = 3\n",
    "X_data = []\n",
    "y_data = []\n",
    "\n",
    "for i in range (0, len(corpus) - sentence_length, skip):\n",
    "  sentence = corpus[i:i + sentence_length]\n",
    "  next_char = corpus[i + sentence_length]\n",
    "  X_data.append([encoding[char] for char in sentence])\n",
    "  y_data.append(encoding[next_char])\n",
    "\n",
    "num_sentences = len(X_data)\n",
    "print(\"Sliced our corpus into {0} sentences of length {1}\".format(num_sentences, sentence_length))"
   ]
  },
  {
   "cell_type": "code",
   "execution_count": 82,
   "metadata": {
    "colab": {
     "base_uri": "https://localhost:8080/"
    },
    "executionInfo": {
     "elapsed": 1242,
     "status": "ok",
     "timestamp": 1621519431931,
     "user": {
      "displayName": "romain capocasale",
      "photoUrl": "https://lh3.googleusercontent.com/a-/AOh14GiWGoBjFIySC4NHegkPbddUXgZNNeEFe0uEHQKX=s64",
      "userId": "09406023985350001315"
     },
     "user_tz": -120
    },
    "id": "hseqEVof7Jjx",
    "outputId": "8e06dce0-03da-4167-a2b8-16264817fefc"
   },
   "outputs": [
    {
     "name": "stdout",
     "output_type": "stream",
     "text": [
      "[37, 61, 79, 68, 76, 72, 61, 85, 0, 43]\n"
     ]
    }
   ],
   "source": [
    "print(X_data[0])"
   ]
  },
  {
   "cell_type": "code",
   "execution_count": 83,
   "metadata": {
    "colab": {
     "base_uri": "https://localhost:8080/"
    },
    "executionInfo": {
     "elapsed": 635,
     "status": "ok",
     "timestamp": 1621519431932,
     "user": {
      "displayName": "romain capocasale",
      "photoUrl": "https://lh3.googleusercontent.com/a-/AOh14GiWGoBjFIySC4NHegkPbddUXgZNNeEFe0uEHQKX=s64",
      "userId": "09406023985350001315"
     },
     "user_tz": -120
    },
    "id": "BRuSNN5Z7K0B",
    "outputId": "860c4d9d-d132-402f-cc84-a4148dd1488f"
   },
   "outputs": [
    {
     "name": "stdout",
     "output_type": "stream",
     "text": [
      "['H', 'a', 's', 'h', 'p', 'l', 'a', 'y', ' ', 'N']\n",
      "e\n"
     ]
    }
   ],
   "source": [
    "print([decoding[idx] for idx in X_data[0]])\n",
    "print(decoding[y_data[0]])"
   ]
  },
  {
   "cell_type": "markdown",
   "metadata": {
    "id": "B0Jy_Qsc76lx"
   },
   "source": [
    "## Vectorize our data and labels. We want everything in one-hot."
   ]
  },
  {
   "cell_type": "code",
   "execution_count": 84,
   "metadata": {
    "executionInfo": {
     "elapsed": 3715,
     "status": "ok",
     "timestamp": 1621519436042,
     "user": {
      "displayName": "romain capocasale",
      "photoUrl": "https://lh3.googleusercontent.com/a-/AOh14GiWGoBjFIySC4NHegkPbddUXgZNNeEFe0uEHQKX=s64",
      "userId": "09406023985350001315"
     },
     "user_tz": -120
    },
    "id": "jGNGuoCo7XWZ"
   },
   "outputs": [],
   "source": [
    "X = np.zeros((num_sentences, sentence_length, num_chars),dtype=np.bool)\n",
    "y = np.zeros((num_sentences, num_chars), dtype=np.bool)\n",
    "for i, sentence in enumerate(X_data):\n",
    "  for t, encoded_char in enumerate(sentence):\n",
    "    X[i, t, encoded_char] = 1\n",
    "    y[i, y_data[i]] = 1"
   ]
  },
  {
   "cell_type": "markdown",
   "metadata": {
    "id": "QNUirVbV75GY"
   },
   "source": [
    "## Double check our vectorized data before we sink hours into fitting a model"
   ]
  },
  {
   "cell_type": "code",
   "execution_count": 85,
   "metadata": {
    "colab": {
     "base_uri": "https://localhost:8080/"
    },
    "executionInfo": {
     "elapsed": 3062,
     "status": "ok",
     "timestamp": 1621519436044,
     "user": {
      "displayName": "romain capocasale",
      "photoUrl": "https://lh3.googleusercontent.com/a-/AOh14GiWGoBjFIySC4NHegkPbddUXgZNNeEFe0uEHQKX=s64",
      "userId": "09406023985350001315"
     },
     "user_tz": -120
    },
    "id": "O1n8rhpW7gEC",
    "outputId": "f03c8747-b766-4eb2-d714-b8ba337b6843"
   },
   "outputs": [
    {
     "name": "stdout",
     "output_type": "stream",
     "text": [
      "Sanity check y. Dimension: (478065, 142) # Sentences: 478065 Characters in corpus: 142\n",
      "Sanity check X. Dimension: (478065, 10, 142)  Sentence length: 10\n"
     ]
    }
   ],
   "source": [
    "print(\"Sanity check y. Dimension: {0} # Sentences: {1} Characters in corpus: {2}\".format(y.shape, num_sentences, len(chars)))\n",
    "print(\"Sanity check X. Dimension: {0}  Sentence length: {1}\".format(X.shape, sentence_length))"
   ]
  },
  {
   "cell_type": "markdown",
   "metadata": {
    "id": "QsaYbq2b8fXi"
   },
   "source": [
    "## Define model"
   ]
  },
  {
   "cell_type": "code",
   "execution_count": 88,
   "metadata": {
    "colab": {
     "base_uri": "https://localhost:8080/"
    },
    "executionInfo": {
     "elapsed": 891,
     "status": "ok",
     "timestamp": 1621519955756,
     "user": {
      "displayName": "romain capocasale",
      "photoUrl": "https://lh3.googleusercontent.com/a-/AOh14GiWGoBjFIySC4NHegkPbddUXgZNNeEFe0uEHQKX=s64",
      "userId": "09406023985350001315"
     },
     "user_tz": -120
    },
    "id": "lna2WoCR8fBi",
    "outputId": "6d989cb8-fa50-4190-8ea4-650a1c43d372"
   },
   "outputs": [
    {
     "name": "stdout",
     "output_type": "stream",
     "text": [
      "Model: \"sequential_3\"\n",
      "_________________________________________________________________\n",
      "Layer (type)                 Output Shape              Param #   \n",
      "=================================================================\n",
      "simple_rnn_3 (SimpleRNN)     (None, 128)               34688     \n",
      "_________________________________________________________________\n",
      "dense_3 (Dense)              (None, 142)               18318     \n",
      "=================================================================\n",
      "Total params: 53,006\n",
      "Trainable params: 53,006\n",
      "Non-trainable params: 0\n",
      "_________________________________________________________________\n"
     ]
    }
   ],
   "source": [
    "model = Sequential()\n",
    "model.add(SimpleRNN(128, input_shape=(sentence_length, num_chars), return_sequences=False))\n",
    "model.add(Dense(num_chars, activation='softmax'))\n",
    "\n",
    "model.compile(loss='categorical_crossentropy', optimizer='adam',metrics=['accuracy'])\n",
    "\n",
    "model.summary()"
   ]
  },
  {
   "cell_type": "markdown",
   "metadata": {
    "id": "e1O8YBHN8XXa"
   },
   "source": [
    "## Training"
   ]
  },
  {
   "cell_type": "code",
   "execution_count": 89,
   "metadata": {
    "colab": {
     "base_uri": "https://localhost:8080/"
    },
    "executionInfo": {
     "elapsed": 2333409,
     "status": "ok",
     "timestamp": 1621522289314,
     "user": {
      "displayName": "romain capocasale",
      "photoUrl": "https://lh3.googleusercontent.com/a-/AOh14GiWGoBjFIySC4NHegkPbddUXgZNNeEFe0uEHQKX=s64",
      "userId": "09406023985350001315"
     },
     "user_tz": -120
    },
    "id": "AXMdIsH-8W4B",
    "outputId": "6459183d-2208-406c-fb7b-5cb3982936d8"
   },
   "outputs": [
    {
     "name": "stdout",
     "output_type": "stream",
     "text": [
      "Epoch 1/50\n",
      "1868/1868 [==============================] - 52s 27ms/step - loss: 3.1334 - accuracy: 0.1841\n",
      "Epoch 2/50\n",
      "1868/1868 [==============================] - 44s 23ms/step - loss: 2.5761 - accuracy: 0.2908\n",
      "Epoch 3/50\n",
      "1868/1868 [==============================] - 44s 23ms/step - loss: 2.4785 - accuracy: 0.3204\n",
      "Epoch 4/50\n",
      "1868/1868 [==============================] - 44s 23ms/step - loss: 2.4270 - accuracy: 0.3337\n",
      "Epoch 5/50\n",
      "1868/1868 [==============================] - 44s 23ms/step - loss: 2.3925 - accuracy: 0.3440\n",
      "Epoch 6/50\n",
      "1868/1868 [==============================] - 44s 24ms/step - loss: 2.3610 - accuracy: 0.3532\n",
      "Epoch 7/50\n",
      "1868/1868 [==============================] - 48s 25ms/step - loss: 2.3410 - accuracy: 0.3586\n",
      "Epoch 8/50\n",
      "1868/1868 [==============================] - 47s 25ms/step - loss: 2.3190 - accuracy: 0.3636\n",
      "Epoch 9/50\n",
      "1868/1868 [==============================] - 46s 24ms/step - loss: 2.3047 - accuracy: 0.3679\n",
      "Epoch 10/50\n",
      "1868/1868 [==============================] - 44s 24ms/step - loss: 2.2868 - accuracy: 0.3722\n",
      "Epoch 11/50\n",
      "1868/1868 [==============================] - 44s 23ms/step - loss: 2.2770 - accuracy: 0.3760\n",
      "Epoch 12/50\n",
      "1868/1868 [==============================] - 46s 25ms/step - loss: 2.2667 - accuracy: 0.3796\n",
      "Epoch 13/50\n",
      "1868/1868 [==============================] - 56s 30ms/step - loss: 2.2484 - accuracy: 0.3841\n",
      "Epoch 14/50\n",
      "1868/1868 [==============================] - 57s 31ms/step - loss: 2.2364 - accuracy: 0.3874\n",
      "Epoch 15/50\n",
      "1868/1868 [==============================] - 50s 27ms/step - loss: 2.2343 - accuracy: 0.3891\n",
      "Epoch 16/50\n",
      "1868/1868 [==============================] - 56s 30ms/step - loss: 2.2266 - accuracy: 0.3897\n",
      "Epoch 17/50\n",
      "1868/1868 [==============================] - 44s 23ms/step - loss: 2.2142 - accuracy: 0.3932\n",
      "Epoch 18/50\n",
      "1868/1868 [==============================] - 43s 23ms/step - loss: 2.2117 - accuracy: 0.3947\n",
      "Epoch 19/50\n",
      "1868/1868 [==============================] - 43s 23ms/step - loss: 2.2047 - accuracy: 0.3970\n",
      "Epoch 20/50\n",
      "1868/1868 [==============================] - 50s 27ms/step - loss: 2.1968 - accuracy: 0.3974\n",
      "Epoch 21/50\n",
      "1868/1868 [==============================] - 51s 27ms/step - loss: 2.1924 - accuracy: 0.4002\n",
      "Epoch 22/50\n",
      "1868/1868 [==============================] - 48s 26ms/step - loss: 2.1913 - accuracy: 0.4019\n",
      "Epoch 23/50\n",
      "1868/1868 [==============================] - 53s 28ms/step - loss: 2.1828 - accuracy: 0.4031\n",
      "Epoch 24/50\n",
      "1868/1868 [==============================] - 50s 27ms/step - loss: 2.1768 - accuracy: 0.4047\n",
      "Epoch 25/50\n",
      "1868/1868 [==============================] - 51s 27ms/step - loss: 2.1770 - accuracy: 0.4046\n",
      "Epoch 26/50\n",
      "1868/1868 [==============================] - 43s 23ms/step - loss: 2.1711 - accuracy: 0.4063\n",
      "Epoch 27/50\n",
      "1868/1868 [==============================] - 43s 23ms/step - loss: 2.1600 - accuracy: 0.4096\n",
      "Epoch 28/50\n",
      "1868/1868 [==============================] - 43s 23ms/step - loss: 2.1629 - accuracy: 0.4083\n",
      "Epoch 29/50\n",
      "1868/1868 [==============================] - 44s 24ms/step - loss: 2.1613 - accuracy: 0.4085\n",
      "Epoch 30/50\n",
      "1868/1868 [==============================] - 45s 24ms/step - loss: 2.1556 - accuracy: 0.4112\n",
      "Epoch 31/50\n",
      "1868/1868 [==============================] - 44s 24ms/step - loss: 2.1544 - accuracy: 0.4107\n",
      "Epoch 32/50\n",
      "1868/1868 [==============================] - 44s 24ms/step - loss: 2.1536 - accuracy: 0.4121\n",
      "Epoch 33/50\n",
      "1868/1868 [==============================] - 44s 23ms/step - loss: 2.1495 - accuracy: 0.4120\n",
      "Epoch 34/50\n",
      "1868/1868 [==============================] - 43s 23ms/step - loss: 2.1460 - accuracy: 0.4129\n",
      "Epoch 35/50\n",
      "1868/1868 [==============================] - 43s 23ms/step - loss: 2.1425 - accuracy: 0.4129\n",
      "Epoch 36/50\n",
      "1868/1868 [==============================] - 44s 23ms/step - loss: 2.1359 - accuracy: 0.4155\n",
      "Epoch 37/50\n",
      "1868/1868 [==============================] - 44s 23ms/step - loss: 2.1399 - accuracy: 0.4143\n",
      "Epoch 38/50\n",
      "1868/1868 [==============================] - 45s 24ms/step - loss: 2.1324 - accuracy: 0.4163\n",
      "Epoch 39/50\n",
      "1868/1868 [==============================] - 44s 23ms/step - loss: 2.1341 - accuracy: 0.4165\n",
      "Epoch 40/50\n",
      "1868/1868 [==============================] - 43s 23ms/step - loss: 2.1347 - accuracy: 0.4155\n",
      "Epoch 41/50\n",
      "1868/1868 [==============================] - 43s 23ms/step - loss: 2.1341 - accuracy: 0.4163\n",
      "Epoch 42/50\n",
      "1868/1868 [==============================] - 59s 32ms/step - loss: 2.1298 - accuracy: 0.4177\n",
      "Epoch 43/50\n",
      "1868/1868 [==============================] - 52s 28ms/step - loss: 2.1312 - accuracy: 0.4169\n",
      "Epoch 44/50\n",
      "1868/1868 [==============================] - 59s 32ms/step - loss: 2.1222 - accuracy: 0.4195\n",
      "Epoch 45/50\n",
      "1868/1868 [==============================] - 44s 24ms/step - loss: 2.1255 - accuracy: 0.4185\n",
      "Epoch 46/50\n",
      "1868/1868 [==============================] - 44s 24ms/step - loss: 2.1227 - accuracy: 0.4207\n",
      "Epoch 47/50\n",
      "1868/1868 [==============================] - 44s 24ms/step - loss: 2.1213 - accuracy: 0.4200\n",
      "Epoch 48/50\n",
      "1868/1868 [==============================] - 44s 24ms/step - loss: 2.1253 - accuracy: 0.4192\n",
      "Epoch 49/50\n",
      "1868/1868 [==============================] - 44s 24ms/step - loss: 2.1261 - accuracy: 0.4189\n",
      "Epoch 50/50\n",
      "1868/1868 [==============================] - 44s 24ms/step - loss: 2.1198 - accuracy: 0.4210\n"
     ]
    }
   ],
   "source": [
    "history = model.fit(X, y, epochs=50, batch_size=256)"
   ]
  },
  {
   "cell_type": "code",
   "execution_count": 90,
   "metadata": {
    "colab": {
     "base_uri": "https://localhost:8080/",
     "height": 295
    },
    "executionInfo": {
     "elapsed": 1496,
     "status": "ok",
     "timestamp": 1621522304564,
     "user": {
      "displayName": "romain capocasale",
      "photoUrl": "https://lh3.googleusercontent.com/a-/AOh14GiWGoBjFIySC4NHegkPbddUXgZNNeEFe0uEHQKX=s64",
      "userId": "09406023985350001315"
     },
     "user_tz": -120
    },
    "id": "YDXg9WjVBxNN",
    "outputId": "10872561-f13b-43c4-884c-d403ce195d22"
   },
   "outputs": [
    {
     "data": {
      "image/png": "[encoded data removed]",
      "text/plain": [
       "<Figure size 432x288 with 1 Axes>"
      ]
     },
     "metadata": {
      "needs_background": "light",
      "tags": []
     },
     "output_type": "display_data"
    }
   ],
   "source": [
    "plt.plot(history.history['loss'], label='Training')\n",
    "plt.title(\"Loss\")\n",
    "plt.xlabel(\"Epochs\")\n",
    "plt.ylabel(\"Loss\")\n",
    "plt.legend()\n",
    "plt.grid()"
   ]
  },
  {
   "cell_type": "code",
   "execution_count": 91,
   "metadata": {
    "colab": {
     "base_uri": "https://localhost:8080/",
     "height": 295
    },
    "executionInfo": {
     "elapsed": 858,
     "status": "ok",
     "timestamp": 1621522307107,
     "user": {
      "displayName": "romain capocasale",
      "photoUrl": "https://lh3.googleusercontent.com/a-/AOh14GiWGoBjFIySC4NHegkPbddUXgZNNeEFe0uEHQKX=s64",
      "userId": "09406023985350001315"
     },
     "user_tz": -120
    },
    "id": "4jOqTQT3CVH6",
    "outputId": "4e3045c4-9e91-40a6-b608-30946a1b11ba"
   },
   "outputs": [
    {
     "data": {
      "image/png": "[encoded data removed]",
      "text/plain": [
       "<Figure size 432x288 with 1 Axes>"
      ]
     },
     "metadata": {
      "needs_background": "light",
      "tags": []
     },
     "output_type": "display_data"
    }
   ],
   "source": [
    "plt.plot(history.history['accuracy'], label='Training')\n",
    "plt.title(\"Accuracy\")\n",
    "plt.xlabel(\"Epochs\")\n",
    "plt.ylabel(\"Accuracy\")\n",
    "plt.legend()\n",
    "plt.grid()"
   ]
  },
  {
   "cell_type": "markdown",
   "metadata": {
    "id": "JJXx2r4-9MMJ"
   },
   "source": [
    "## Prediction"
   ]
  },
  {
   "cell_type": "code",
   "execution_count": 92,
   "metadata": {
    "executionInfo": {
     "elapsed": 480,
     "status": "ok",
     "timestamp": 1621522387833,
     "user": {
      "displayName": "romain capocasale",
      "photoUrl": "https://lh3.googleusercontent.com/a-/AOh14GiWGoBjFIySC4NHegkPbddUXgZNNeEFe0uEHQKX=s64",
      "userId": "09406023985350001315"
     },
     "user_tz": -120
    },
    "id": "xlm3vGr49KCT"
   },
   "outputs": [],
   "source": [
    "def make_seed(seed_phrase=\"\"):\n",
    "  if seed_phrase:\n",
    "    phrase_length = len(seed_phrase)\n",
    "    pattern = \"\"\n",
    "    for i in range (0, sentence_length):\n",
    "      pattern += seed_phrase[i % phrase_length]\n",
    "  else:\n",
    "    seed = randint(0, corpus_length - sentence_length)\n",
    "    pattern = corpus[seed:seed + sentence_length]\n",
    "  return pattern"
   ]
  },
  {
   "cell_type": "code",
   "execution_count": 98,
   "metadata": {
    "executionInfo": {
     "elapsed": 476,
     "status": "ok",
     "timestamp": 1621522453046,
     "user": {
      "displayName": "romain capocasale",
      "photoUrl": "https://lh3.googleusercontent.com/a-/AOh14GiWGoBjFIySC4NHegkPbddUXgZNNeEFe0uEHQKX=s64",
      "userId": "09406023985350001315"
     },
     "user_tz": -120
    },
    "id": "wmMOXmFG-t2R"
   },
   "outputs": [],
   "source": [
    "seed_pattern = make_seed(\"energy\")\n",
    "\n",
    "X = np.zeros((1, sentence_length, num_chars), dtype=np.float)\n",
    "for i, character in enumerate(seed_pattern):\n",
    "  X[0, i, encoding[character]] = 1"
   ]
  },
  {
   "cell_type": "code",
   "execution_count": 99,
   "metadata": {
    "colab": {
     "base_uri": "https://localhost:8080/"
    },
    "executionInfo": {
     "elapsed": 990,
     "status": "ok",
     "timestamp": 1621522454889,
     "user": {
      "displayName": "romain capocasale",
      "photoUrl": "https://lh3.googleusercontent.com/a-/AOh14GiWGoBjFIySC4NHegkPbddUXgZNNeEFe0uEHQKX=s64",
      "userId": "09406023985350001315"
     },
     "user_tz": -120
    },
    "id": "Ueth-9M4-6XB",
    "outputId": "a5939b1c-72d8-4203-e541-5bf953d5040d"
   },
   "outputs": [
    {
     "name": "stdout",
     "output_type": "stream",
     "text": [
      "ana Sensid b\n"
     ]
    }
   ],
   "source": [
    "generated_text = \"\"\n",
    "for i in range(12):\n",
    "  output_prob = model.predict(X, verbose=0)[0]\n",
    "  prediction = np.random.choice(num_chars, p = output_prob )\n",
    "  generated_text += decoding[prediction]\n",
    "  activations = np.zeros((1, 1, num_chars), dtype=np.bool)\n",
    "  activations[0, 0, prediction] = 1\n",
    "\n",
    "  X = np.concatenate((X[:, 1:, :], activations), axis=1)\n",
    "print(generated_text)"
   ]
  }
 ],
 "metadata": {
  "colab": {
   "authorship_tag": "ABX9TyPfTwTivldpL+6kwQG+E/tT",
   "collapsed_sections": [],
   "name": "PW11-ex3.ipynb",
   "provenance": []
  },
  "kernelspec": {
   "display_name": "Python 3",
   "language": "python",
   "name": "python3"
  },
  "language_info": {
   "codemirror_mode": {
    "name": "ipython",
    "version": 3
   },
   "file_extension": ".py",
   "mimetype": "text/x-python",
   "name": "python",
   "nbconvert_exporter": "python",
   "pygments_lexer": "ipython3",
   "version": "3.8.5"
  }
 },
 "nbformat": 4,
 "nbformat_minor": 1
}
