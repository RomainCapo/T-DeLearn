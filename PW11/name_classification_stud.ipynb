{
  "nbformat": 4,
  "nbformat_minor": 0,
  "metadata": {
    "kernelspec": {
      "display_name": "Python 3",
      "language": "python",
      "name": "python3"
    },
    "language_info": {
      "codemirror_mode": {
        "name": "ipython",
        "version": 3
      },
      "file_extension": ".py",
      "mimetype": "text/x-python",
      "name": "python",
      "nbconvert_exporter": "python",
      "pygments_lexer": "ipython3",
      "version": "3.7.10"
    },
    "colab": {
      "name": "name_classification-stud.ipynb",
      "provenance": [],
      "collapsed_sections": [],
      "toc_visible": true
    },
    "accelerator": "GPU"
  },
  "cells": [
    {
      "cell_type": "code",
      "metadata": {
        "scrolled": true,
        "id": "0Za81RfTbHqQ"
      },
      "source": [
        "import glob\n",
        "import os\n",
        "import string\n",
        "\n",
        "import numpy as np\n",
        "import pandas as pd\n",
        "\n",
        "from matplotlib import pyplot as plt\n",
        "import matplotlib.ticker as ticker\n",
        "\n",
        "from sklearn.metrics import confusion_matrix"
      ],
      "execution_count": 2,
      "outputs": []
    },
    {
      "cell_type": "code",
      "metadata": {
        "colab": {
          "base_uri": "https://localhost:8080/"
        },
        "id": "f23eY80eba6M",
        "outputId": "fd96a7b8-52db-4972-813c-5b5fe9cbde57"
      },
      "source": [
        "!unzip data.zip"
      ],
      "execution_count": 3,
      "outputs": [
        {
          "output_type": "stream",
          "text": [
            "Archive:  data.zip\n",
            "   creating: data/\n",
            "  inflating: data/.DS_Store          \n",
            "  inflating: data/eng-fra.txt        \n",
            "   creating: data/names/\n",
            "   creating: data/names/.ipynb_checkpoints/\n",
            "  inflating: data/names/.ipynb_checkpoints/English-checkpoint.txt  \n",
            "  inflating: data/names/.ipynb_checkpoints/French-checkpoint.txt  \n",
            "  inflating: data/names/.ipynb_checkpoints/German-checkpoint.txt  \n",
            "  inflating: data/names/Arabic.txt   \n",
            "  inflating: data/names/Chinese.txt  \n",
            "  inflating: data/names/Czech.txt    \n",
            "  inflating: data/names/Dutch.txt    \n",
            "  inflating: data/names/English.txt  \n",
            "  inflating: data/names/French.txt   \n",
            "  inflating: data/names/German.txt   \n",
            "  inflating: data/names/Greek.txt    \n",
            "  inflating: data/names/Irish.txt    \n",
            "  inflating: data/names/Italian.txt  \n",
            "  inflating: data/names/Japanese.txt  \n",
            "  inflating: data/names/Korean.txt   \n",
            "  inflating: data/names/Polish.txt   \n",
            "  inflating: data/names/Portuguese.txt  \n",
            "  inflating: data/names/Russian.txt  \n",
            "  inflating: data/names/Scottish.txt  \n",
            "  inflating: data/names/Spanish.txt  \n",
            "  inflating: data/names/Vietnamese.txt  \n"
          ],
          "name": "stdout"
        }
      ]
    },
    {
      "cell_type": "markdown",
      "metadata": {
        "id": "Iu7ZtUg6bHqW"
      },
      "source": [
        "### Load Data\n",
        "\n",
        "The names can be found in text files in a src directory, one file per language.\n",
        "\n",
        "In the following you can find some utilities to load the data into pandas data frames. \n",
        "\n",
        "We will restrict to some common European languages. \n",
        "\n",
        "With the given selection, we will identify all the occurring characters and initialize an alphabet.<br>\n",
        "For this alphabet, we will use a one-hot-encoding to map them into a vector space representation. \n",
        "\n",
        "Foresee a suitable character for the end of the word, e.g. 'END'."
      ]
    },
    {
      "cell_type": "code",
      "metadata": {
        "id": "7wKokc_BbHqY"
      },
      "source": [
        "srcdir = 'data/names'\n",
        "languages = [\"English\",\"French\",\"Italian\",\"German\",\"Spanish\"]"
      ],
      "execution_count": 4,
      "outputs": []
    },
    {
      "cell_type": "code",
      "metadata": {
        "id": "X8EiIA6cbHqY"
      },
      "source": [
        "# inspect the data directory\n",
        "def findFiles(path): \n",
        "    return glob.glob(path)"
      ],
      "execution_count": 5,
      "outputs": []
    },
    {
      "cell_type": "code",
      "metadata": {
        "colab": {
          "base_uri": "https://localhost:8080/"
        },
        "id": "GPVcdiQobHqZ",
        "outputId": "ea9386e6-e950-4b73-8ae8-039538fa4187"
      },
      "source": [
        "print('\\n'.join(findFiles(os.path.join(srcdir,'*.txt'))))"
      ],
      "execution_count": 6,
      "outputs": [
        {
          "output_type": "stream",
          "text": [
            "data/names/Japanese.txt\n",
            "data/names/Czech.txt\n",
            "data/names/Greek.txt\n",
            "data/names/French.txt\n",
            "data/names/Arabic.txt\n",
            "data/names/Italian.txt\n",
            "data/names/German.txt\n",
            "data/names/Dutch.txt\n",
            "data/names/Vietnamese.txt\n",
            "data/names/Russian.txt\n",
            "data/names/Chinese.txt\n",
            "data/names/Scottish.txt\n",
            "data/names/Portuguese.txt\n",
            "data/names/Irish.txt\n",
            "data/names/Spanish.txt\n",
            "data/names/Korean.txt\n",
            "data/names/Polish.txt\n",
            "data/names/English.txt\n"
          ],
          "name": "stdout"
        }
      ]
    },
    {
      "cell_type": "code",
      "metadata": {
        "id": "MakbDC6zbHqa"
      },
      "source": [
        "# Read a file and split into lines\n",
        "def readLines(filename):\n",
        "    lines = open(filename, encoding='utf-8').read().strip().split('\\n')\n",
        "    return lines\n",
        "\n",
        "def load_data(srcdir, categories=None):\n",
        "    names_list = []\n",
        "    for filename in findFiles(os.path.join(srcdir,'*.txt')):\n",
        "        category = os.path.splitext(os.path.basename(filename))[0]\n",
        "        if not categories or category in categories: \n",
        "            names = readLines(filename)\n",
        "            names_list.extend([(name,category) for name in names])\n",
        "    df = pd.DataFrame(names_list)\n",
        "    df.columns = [\"name\",\"lang\"]\n",
        "    return df"
      ],
      "execution_count": 7,
      "outputs": []
    },
    {
      "cell_type": "code",
      "metadata": {
        "colab": {
          "base_uri": "https://localhost:8080/",
          "height": 204
        },
        "id": "5_slNlI2bHqa",
        "outputId": "64649c3b-b55d-4ec3-f16d-4964261aff39"
      },
      "source": [
        "names = load_data(srcdir,categories=languages)\n",
        "names.head()"
      ],
      "execution_count": 8,
      "outputs": [
        {
          "output_type": "execute_result",
          "data": {
            "text/html": [
              "<div>\n",
              "<style scoped>\n",
              "    .dataframe tbody tr th:only-of-type {\n",
              "        vertical-align: middle;\n",
              "    }\n",
              "\n",
              "    .dataframe tbody tr th {\n",
              "        vertical-align: top;\n",
              "    }\n",
              "\n",
              "    .dataframe thead th {\n",
              "        text-align: right;\n",
              "    }\n",
              "</style>\n",
              "<table border=\"1\" class=\"dataframe\">\n",
              "  <thead>\n",
              "    <tr style=\"text-align: right;\">\n",
              "      <th></th>\n",
              "      <th>name</th>\n",
              "      <th>lang</th>\n",
              "    </tr>\n",
              "  </thead>\n",
              "  <tbody>\n",
              "    <tr>\n",
              "      <th>0</th>\n",
              "      <td>Abel</td>\n",
              "      <td>French</td>\n",
              "    </tr>\n",
              "    <tr>\n",
              "      <th>1</th>\n",
              "      <td>Abraham</td>\n",
              "      <td>French</td>\n",
              "    </tr>\n",
              "    <tr>\n",
              "      <th>2</th>\n",
              "      <td>Adam</td>\n",
              "      <td>French</td>\n",
              "    </tr>\n",
              "    <tr>\n",
              "      <th>3</th>\n",
              "      <td>Albert</td>\n",
              "      <td>French</td>\n",
              "    </tr>\n",
              "    <tr>\n",
              "      <th>4</th>\n",
              "      <td>Allard</td>\n",
              "      <td>French</td>\n",
              "    </tr>\n",
              "  </tbody>\n",
              "</table>\n",
              "</div>"
            ],
            "text/plain": [
              "      name    lang\n",
              "0     Abel  French\n",
              "1  Abraham  French\n",
              "2     Adam  French\n",
              "3   Albert  French\n",
              "4   Allard  French"
            ]
          },
          "metadata": {
            "tags": []
          },
          "execution_count": 8
        }
      ]
    },
    {
      "cell_type": "code",
      "metadata": {
        "colab": {
          "base_uri": "https://localhost:8080/"
        },
        "id": "S39aIncObHqb",
        "outputId": "5527074a-8908-40c7-f1e8-16ff944521cf"
      },
      "source": [
        "maxlen = np.max([len(name) for name in names.name])\n",
        "print(\"Maximum name length: \", maxlen)"
      ],
      "execution_count": 9,
      "outputs": [
        {
          "output_type": "stream",
          "text": [
            "Maximum name length:  18\n"
          ],
          "name": "stdout"
        }
      ]
    },
    {
      "cell_type": "code",
      "metadata": {
        "colab": {
          "base_uri": "https://localhost:8080/"
        },
        "id": "bhCF5aLDbHqb",
        "outputId": "5a65a7a9-d22c-41df-fdbd-6f44f48f8c70"
      },
      "source": [
        "alphabet = sorted(list(set(''.join([name for name in names.name]))))\n",
        "alphabet.append('END')\n",
        "len_alphabet = len(alphabet)\n",
        "char_index = dict((c, i) for i, c in enumerate(alphabet))\n",
        "print(\"Size of alphabet: \",len_alphabet)\n",
        "print(alphabet)"
      ],
      "execution_count": 10,
      "outputs": [
        {
          "output_type": "stream",
          "text": [
            "Size of alphabet:  74\n",
            "[' ', \"'\", 'A', 'B', 'C', 'D', 'E', 'F', 'G', 'H', 'I', 'J', 'K', 'L', 'M', 'N', 'O', 'P', 'Q', 'R', 'S', 'T', 'U', 'V', 'W', 'X', 'Y', 'Z', 'a', 'b', 'c', 'd', 'e', 'f', 'g', 'h', 'i', 'j', 'k', 'l', 'm', 'n', 'o', 'p', 'q', 'r', 's', 't', 'u', 'v', 'w', 'x', 'y', 'z', 'Á', 'É', 'ß', 'à', 'á', 'ä', 'ç', 'è', 'é', 'ê', 'ì', 'í', 'ñ', 'ò', 'ó', 'ö', 'ù', 'ú', 'ü', 'END']\n"
          ],
          "name": "stdout"
        }
      ]
    },
    {
      "cell_type": "code",
      "metadata": {
        "colab": {
          "base_uri": "https://localhost:8080/"
        },
        "id": "zl8dO1ElbHqc",
        "outputId": "187eeed1-c50a-40f7-89e8-f3e690c1e9d5"
      },
      "source": [
        "names.groupby('lang')['name'].count()/len(names)"
      ],
      "execution_count": 11,
      "outputs": [
        {
          "output_type": "execute_result",
          "data": {
            "text/plain": [
              "lang\n",
              "English    0.646230\n",
              "French     0.048802\n",
              "German     0.127555\n",
              "Italian    0.124912\n",
              "Spanish    0.052502\n",
              "Name: name, dtype: float64"
            ]
          },
          "metadata": {
            "tags": []
          },
          "execution_count": 11
        }
      ]
    },
    {
      "cell_type": "markdown",
      "metadata": {
        "id": "aiwYUmwfbHqc"
      },
      "source": [
        "### Vector Representations\n",
        "\n",
        "Now construct the vector representation by using one-hot-vectors. "
      ]
    },
    {
      "cell_type": "code",
      "metadata": {
        "id": "PaXYuEjrbHqc"
      },
      "source": [
        "language_to_index = {country:index for index,country in enumerate(names.lang.unique())}\n",
        "index_to_language = {index:country for index,country in enumerate(names.lang.unique())}\n",
        "\n",
        "def onehot(i, length):\n",
        "    v = np.zeros(length);\n",
        "    v[i] = 1\n",
        "    return v\n",
        "\n",
        "def name_representation(name, maxlen):\n",
        "    ### START YOUR CODE\n",
        "    name_trunc = str(name)[0:maxlen]\n",
        "    size = len(char_index)\n",
        "    vector = [onehot(char_index[j], size) for j in str(name)]\n",
        "    # fill the rest with \n",
        "    for k in range(0,maxlen - len(str(name))):\n",
        "        vector.append(onehot(char_index['END'], size))\n",
        "    return vector\n",
        "    ### START YOUR CODE\n",
        "\n",
        "def lang_representation(language, language_to_index):\n",
        "    y = np.zeros(len(language_to_index))\n",
        "    y[language_to_index[language]]=1\n",
        "    return y\n",
        "\n",
        "def lang_from_output(score):\n",
        "    return index_to_language[np.argmax(score)]\n",
        "\n",
        "def predict(name, model):\n",
        "    score = model.predict(np.array([name_representation(name, maxlen)]))[0]\n",
        "    return lang_from_output(score)"
      ],
      "execution_count": 12,
      "outputs": []
    },
    {
      "cell_type": "markdown",
      "metadata": {
        "id": "CAfuqI0ybHqd"
      },
      "source": [
        "### Prepare train/test\n",
        "\n",
        "Split the data into train/test\n",
        "\n",
        "Shuffle the data\n",
        "\n",
        "Transform the names data into a suitable vector respresentation:\n",
        "* names into numpy arrays of shape (*,maxlen,len_alphabet)\n",
        "* language into numpy array of shape (*,len(languages))\n",
        "\n"
      ]
    },
    {
      "cell_type": "code",
      "metadata": {
        "id": "FjXiq7XBbHqd"
      },
      "source": [
        "test_split = 0.2\n",
        "\n",
        "### START YOUR CODE\n",
        "# Shuffle and split names data\n",
        "\n",
        "from sklearn.model_selection import train_test_split\n",
        "\n",
        "\n",
        "train, test = train_test_split(names, test_size=test_split)\n",
        "\n",
        "### END YOUR CODE"
      ],
      "execution_count": 120,
      "outputs": []
    },
    {
      "cell_type": "code",
      "metadata": {
        "id": "Vtfi_BnkbHqe"
      },
      "source": [
        "### START YOUR CODE\n",
        "\n",
        "# Map train and test data into vector space (one-hot-vectors)\n",
        "\n",
        "X_train = np.array([name_representation(i, maxlen) for i in train['name']])\n",
        "Y_train = np.array([lang_representation(i, language_to_index) for i in train['lang']])\n",
        "\n",
        "X_test = np.array([name_representation(i, maxlen) for i in test['name']])\n",
        "Y_test =np.array([lang_representation(i, language_to_index) for i in test['lang']])\n",
        "### END YOUR CODE"
      ],
      "execution_count": 121,
      "outputs": []
    },
    {
      "cell_type": "markdown",
      "metadata": {
        "id": "ufvzaxMCbHqe"
      },
      "source": [
        "### Utilities"
      ]
    },
    {
      "cell_type": "code",
      "metadata": {
        "id": "6O__8PlPbHqe"
      },
      "source": [
        "def performance_plots(model, X_test, Y_test, log, epochs):    \n",
        "    acc = log.history['accuracy']\n",
        "    val_acc = log.history['val_accuracy']\n",
        "    print('Train accuracy (end):', acc[-1])\n",
        "    print('Train accuracy (max):', np.max(acc))\n",
        "    print('Test accuracy (end) :', val_acc[-1])\n",
        "    print('Test accuracy (max) :', np.max(val_acc))\n",
        "\n",
        "    plt.plot(log.history['accuracy'])\n",
        "    plt.plot(log.history['val_accuracy'])\n",
        "    plt.title('model accuracy')\n",
        "    plt.ylabel('accuracy')\n",
        "    plt.xlabel('epoch')\n",
        "    plt.legend(['train','test'], loc='upper left')\n",
        "    plt.axis([0,epochs,0.0,1.0])\n",
        "    plt.show()\n",
        "\n",
        "    plt.plot(log.history['loss'])\n",
        "    plt.plot(log.history['val_loss'])\n",
        "    plt.title('model loss')\n",
        "    plt.ylabel('loss')\n",
        "    plt.xlabel('epoch')\n",
        "    plt.legend(['train','test'], loc = 'upper left')\n",
        "    plt.axis([0,epochs,0.0,2.0])\n",
        "    plt.show()"
      ],
      "execution_count": 68,
      "outputs": []
    },
    {
      "cell_type": "code",
      "metadata": {
        "id": "fBQZ2-jnbHqf"
      },
      "source": [
        "import sklearn\n",
        "import pandas as pd\n",
        "\n",
        "def confusion_matrix(model, X_test, Y_test):\n",
        "    scores = model.predict(X_test)\n",
        "    predictions = np.argmax(scores, axis=1)\n",
        "    labels = np.argmax(Y_test, axis=1)\n",
        "    nsamples = Y_test.shape[0]\n",
        "    cm = sklearn.metrics.confusion_matrix(labels, predictions)\n",
        "    df = pd.DataFrame({languages[i] : cm[:,i] for i in range(len(languages))}, languages)\n",
        "    return df, cm"
      ],
      "execution_count": 70,
      "outputs": []
    },
    {
      "cell_type": "markdown",
      "metadata": {
        "id": "3P24DaknbHqg"
      },
      "source": [
        "### Define and Train Model: Single Layer with SimpleRNN\n",
        "\n",
        "Create an RNN consisting of a single layer with a SimpleRNN (keras) and a softmax.\n",
        "\n",
        "Then train the model. Play with different number of hidden units in the layer to obtain a good accuracy."
      ]
    },
    {
      "cell_type": "code",
      "metadata": {
        "tags": [],
        "colab": {
          "base_uri": "https://localhost:8080/"
        },
        "id": "FHn0hReSbHqg",
        "outputId": "66a864f8-6374-467d-c789-4c65b15591d6"
      },
      "source": [
        "### START YOUR CODE\n",
        "from keras.models import Sequential\n",
        "from keras.layers import SimpleRNN, Dense\n",
        "\n",
        "# SImpleRNN, single layer with tf.keras....\n",
        "\n",
        "model = Sequential()\n",
        "model.add(SimpleRNN(units=64, input_shape=(maxlen, len_alphabet), activation='tanh'))\n",
        "model.add(Dense(len(languages), activation='softmax'))\n",
        "\n",
        "model.compile(loss='categorical_crossentropy', optimizer='adam', metrics=['accuracy'])\n",
        "model.summary()\n",
        "\n",
        "### END YOUR CODE"
      ],
      "execution_count": 122,
      "outputs": [
        {
          "output_type": "stream",
          "text": [
            "Model: \"sequential_18\"\n",
            "_________________________________________________________________\n",
            "Layer (type)                 Output Shape              Param #   \n",
            "=================================================================\n",
            "simple_rnn_28 (SimpleRNN)    (None, 64)                8896      \n",
            "_________________________________________________________________\n",
            "dense_18 (Dense)             (None, 5)                 325       \n",
            "=================================================================\n",
            "Total params: 9,221\n",
            "Trainable params: 9,221\n",
            "Non-trainable params: 0\n",
            "_________________________________________________________________\n"
          ],
          "name": "stdout"
        }
      ]
    },
    {
      "cell_type": "code",
      "metadata": {
        "colab": {
          "base_uri": "https://localhost:8080/"
        },
        "id": "e9TyITzdbHqg",
        "outputId": "f1726980-a7af-4b79-e235-87ae754f19b6"
      },
      "source": [
        "### START YOUR CODE\n",
        "batch_size= 64\n",
        "nepochs = 50\n",
        "\n",
        "log = model.fit(X_train, Y_train, batch_size=batch_size, epochs=nepochs, validation_data=(X_test, Y_test))\n",
        "\n",
        "### END YOUR CODE"
      ],
      "execution_count": 123,
      "outputs": [
        {
          "output_type": "stream",
          "text": [
            "Epoch 1/50\n",
            "71/71 [==============================] - 2s 14ms/step - loss: 1.1384 - accuracy: 0.6407 - val_loss: 0.9692 - val_accuracy: 0.6708\n",
            "Epoch 2/50\n",
            "71/71 [==============================] - 1s 7ms/step - loss: 0.9149 - accuracy: 0.6768 - val_loss: 0.8520 - val_accuracy: 0.7139\n",
            "Epoch 3/50\n",
            "71/71 [==============================] - 1s 7ms/step - loss: 0.8021 - accuracy: 0.7219 - val_loss: 0.7552 - val_accuracy: 0.7386\n",
            "Epoch 4/50\n",
            "71/71 [==============================] - 0s 7ms/step - loss: 0.7309 - accuracy: 0.7371 - val_loss: 0.7278 - val_accuracy: 0.7553\n",
            "Epoch 5/50\n",
            "71/71 [==============================] - 1s 7ms/step - loss: 0.7011 - accuracy: 0.7514 - val_loss: 0.7661 - val_accuracy: 0.7306\n",
            "Epoch 6/50\n",
            "71/71 [==============================] - 0s 7ms/step - loss: 0.6653 - accuracy: 0.7583 - val_loss: 0.7292 - val_accuracy: 0.7526\n",
            "Epoch 7/50\n",
            "71/71 [==============================] - 1s 7ms/step - loss: 0.6575 - accuracy: 0.7689 - val_loss: 0.6852 - val_accuracy: 0.7641\n",
            "Epoch 8/50\n",
            "71/71 [==============================] - 1s 7ms/step - loss: 0.6243 - accuracy: 0.7827 - val_loss: 0.6689 - val_accuracy: 0.7720\n",
            "Epoch 9/50\n",
            "71/71 [==============================] - 1s 7ms/step - loss: 0.5908 - accuracy: 0.7903 - val_loss: 0.6766 - val_accuracy: 0.7720\n",
            "Epoch 10/50\n",
            "71/71 [==============================] - 1s 7ms/step - loss: 0.5989 - accuracy: 0.7823 - val_loss: 0.7286 - val_accuracy: 0.7245\n",
            "Epoch 11/50\n",
            "71/71 [==============================] - 1s 7ms/step - loss: 0.5837 - accuracy: 0.7958 - val_loss: 0.6745 - val_accuracy: 0.7667\n",
            "Epoch 12/50\n",
            "71/71 [==============================] - 0s 7ms/step - loss: 0.5592 - accuracy: 0.7996 - val_loss: 0.6460 - val_accuracy: 0.7694\n",
            "Epoch 13/50\n",
            "71/71 [==============================] - 1s 7ms/step - loss: 0.5035 - accuracy: 0.8171 - val_loss: 0.6650 - val_accuracy: 0.7544\n",
            "Epoch 14/50\n",
            "71/71 [==============================] - 1s 7ms/step - loss: 0.5146 - accuracy: 0.8100 - val_loss: 0.6625 - val_accuracy: 0.7641\n",
            "Epoch 15/50\n",
            "71/71 [==============================] - 1s 7ms/step - loss: 0.4930 - accuracy: 0.8305 - val_loss: 0.6567 - val_accuracy: 0.7676\n",
            "Epoch 16/50\n",
            "71/71 [==============================] - 1s 7ms/step - loss: 0.4727 - accuracy: 0.8302 - val_loss: 0.6795 - val_accuracy: 0.7623\n",
            "Epoch 17/50\n",
            "71/71 [==============================] - 1s 7ms/step - loss: 0.4524 - accuracy: 0.8369 - val_loss: 0.6535 - val_accuracy: 0.7588\n",
            "Epoch 18/50\n",
            "71/71 [==============================] - 1s 7ms/step - loss: 0.4173 - accuracy: 0.8479 - val_loss: 0.6771 - val_accuracy: 0.7456\n",
            "Epoch 19/50\n",
            "71/71 [==============================] - 1s 7ms/step - loss: 0.4321 - accuracy: 0.8445 - val_loss: 0.6897 - val_accuracy: 0.7447\n",
            "Epoch 20/50\n",
            "71/71 [==============================] - 1s 7ms/step - loss: 0.4060 - accuracy: 0.8564 - val_loss: 0.6635 - val_accuracy: 0.7482\n",
            "Epoch 21/50\n",
            "71/71 [==============================] - 1s 7ms/step - loss: 0.3780 - accuracy: 0.8651 - val_loss: 0.7126 - val_accuracy: 0.7623\n",
            "Epoch 22/50\n",
            "71/71 [==============================] - 1s 7ms/step - loss: 0.3713 - accuracy: 0.8677 - val_loss: 0.7306 - val_accuracy: 0.7403\n",
            "Epoch 23/50\n",
            "71/71 [==============================] - 1s 7ms/step - loss: 0.3650 - accuracy: 0.8683 - val_loss: 0.6938 - val_accuracy: 0.7500\n",
            "Epoch 24/50\n",
            "71/71 [==============================] - 1s 7ms/step - loss: 0.3364 - accuracy: 0.8802 - val_loss: 0.7113 - val_accuracy: 0.7729\n",
            "Epoch 25/50\n",
            "71/71 [==============================] - 1s 7ms/step - loss: 0.3189 - accuracy: 0.8854 - val_loss: 0.7047 - val_accuracy: 0.7632\n",
            "Epoch 26/50\n",
            "71/71 [==============================] - 1s 7ms/step - loss: 0.3211 - accuracy: 0.8860 - val_loss: 0.7000 - val_accuracy: 0.7738\n",
            "Epoch 27/50\n",
            "71/71 [==============================] - 1s 7ms/step - loss: 0.3267 - accuracy: 0.8916 - val_loss: 0.7079 - val_accuracy: 0.7676\n",
            "Epoch 28/50\n",
            "71/71 [==============================] - 1s 7ms/step - loss: 0.3056 - accuracy: 0.8931 - val_loss: 0.7297 - val_accuracy: 0.7614\n",
            "Epoch 29/50\n",
            "71/71 [==============================] - 1s 7ms/step - loss: 0.2786 - accuracy: 0.8965 - val_loss: 0.8316 - val_accuracy: 0.7412\n",
            "Epoch 30/50\n",
            "71/71 [==============================] - 1s 7ms/step - loss: 0.2726 - accuracy: 0.9037 - val_loss: 0.7758 - val_accuracy: 0.7421\n",
            "Epoch 31/50\n",
            "71/71 [==============================] - 1s 7ms/step - loss: 0.2593 - accuracy: 0.9072 - val_loss: 0.7684 - val_accuracy: 0.7438\n",
            "Epoch 32/50\n",
            "71/71 [==============================] - 1s 7ms/step - loss: 0.2515 - accuracy: 0.9105 - val_loss: 0.8116 - val_accuracy: 0.7438\n",
            "Epoch 33/50\n",
            "71/71 [==============================] - 1s 7ms/step - loss: 0.2259 - accuracy: 0.9199 - val_loss: 0.8378 - val_accuracy: 0.7606\n",
            "Epoch 34/50\n",
            "71/71 [==============================] - 1s 7ms/step - loss: 0.2495 - accuracy: 0.9132 - val_loss: 0.8169 - val_accuracy: 0.7720\n",
            "Epoch 35/50\n",
            "71/71 [==============================] - 1s 7ms/step - loss: 0.2088 - accuracy: 0.9266 - val_loss: 0.8091 - val_accuracy: 0.7509\n",
            "Epoch 36/50\n",
            "71/71 [==============================] - 1s 7ms/step - loss: 0.2023 - accuracy: 0.9292 - val_loss: 0.8641 - val_accuracy: 0.7597\n",
            "Epoch 37/50\n",
            "71/71 [==============================] - 1s 7ms/step - loss: 0.2139 - accuracy: 0.9276 - val_loss: 0.8662 - val_accuracy: 0.7623\n",
            "Epoch 38/50\n",
            "71/71 [==============================] - 1s 7ms/step - loss: 0.2080 - accuracy: 0.9289 - val_loss: 0.8590 - val_accuracy: 0.7570\n",
            "Epoch 39/50\n",
            "71/71 [==============================] - 1s 7ms/step - loss: 0.1799 - accuracy: 0.9398 - val_loss: 0.8929 - val_accuracy: 0.7641\n",
            "Epoch 40/50\n",
            "71/71 [==============================] - 1s 7ms/step - loss: 0.1914 - accuracy: 0.9370 - val_loss: 0.8883 - val_accuracy: 0.7394\n",
            "Epoch 41/50\n",
            "71/71 [==============================] - 1s 7ms/step - loss: 0.1914 - accuracy: 0.9384 - val_loss: 0.9002 - val_accuracy: 0.7342\n",
            "Epoch 42/50\n",
            "71/71 [==============================] - 0s 7ms/step - loss: 0.1988 - accuracy: 0.9295 - val_loss: 1.0013 - val_accuracy: 0.7544\n",
            "Epoch 43/50\n",
            "71/71 [==============================] - 1s 7ms/step - loss: 0.2034 - accuracy: 0.9269 - val_loss: 0.8809 - val_accuracy: 0.7535\n",
            "Epoch 44/50\n",
            "71/71 [==============================] - 1s 7ms/step - loss: 0.1642 - accuracy: 0.9419 - val_loss: 0.9404 - val_accuracy: 0.7711\n",
            "Epoch 45/50\n",
            "71/71 [==============================] - 1s 7ms/step - loss: 0.1776 - accuracy: 0.9380 - val_loss: 0.9498 - val_accuracy: 0.7579\n",
            "Epoch 46/50\n",
            "71/71 [==============================] - 1s 7ms/step - loss: 0.1403 - accuracy: 0.9515 - val_loss: 0.9848 - val_accuracy: 0.7579\n",
            "Epoch 47/50\n",
            "71/71 [==============================] - 1s 7ms/step - loss: 0.1615 - accuracy: 0.9445 - val_loss: 1.0003 - val_accuracy: 0.7280\n",
            "Epoch 48/50\n",
            "71/71 [==============================] - 0s 7ms/step - loss: 0.1517 - accuracy: 0.9453 - val_loss: 0.9875 - val_accuracy: 0.7447\n",
            "Epoch 49/50\n",
            "71/71 [==============================] - 1s 7ms/step - loss: 0.1604 - accuracy: 0.9441 - val_loss: 0.9880 - val_accuracy: 0.7500\n",
            "Epoch 50/50\n",
            "71/71 [==============================] - 1s 7ms/step - loss: 0.1385 - accuracy: 0.9565 - val_loss: 0.9639 - val_accuracy: 0.7412\n"
          ],
          "name": "stdout"
        }
      ]
    },
    {
      "cell_type": "code",
      "metadata": {
        "colab": {
          "base_uri": "https://localhost:8080/",
          "height": 828
        },
        "id": "Do5rDqMsbHqh",
        "outputId": "d8741541-9750-4036-872a-a142611bd47b"
      },
      "source": [
        "performance_plots(model, X_test, Y_test, log, nepochs)\n",
        "df, cm = confusion_matrix(model, X_test, Y_test)\n",
        "df"
      ],
      "execution_count": 124,
      "outputs": [
        {
          "output_type": "stream",
          "text": [
            "Train accuracy (end): 0.9488986730575562\n",
            "Train accuracy (max): 0.9488986730575562\n",
            "Test accuracy (end) : 0.7411971688270569\n",
            "Test accuracy (max) : 0.7737675905227661\n"
          ],
          "name": "stdout"
        },
        {
          "output_type": "display_data",
          "data": {
            "image/png": "[encoded data removed]",
            "text/plain": [
              "<Figure size 432x288 with 1 Axes>"
            ]
          },
          "metadata": {
            "tags": [],
            "needs_background": "light"
          }
        },
        {
          "output_type": "display_data",
          "data": {
            "image/png": "[encoded data removed]",
            "text/plain": [
              "<Figure size 432x288 with 1 Axes>"
            ]
          },
          "metadata": {
            "tags": [],
            "needs_background": "light"
          }
        },
        {
          "output_type": "execute_result",
          "data": {
            "text/html": [
              "<div>\n",
              "<style scoped>\n",
              "    .dataframe tbody tr th:only-of-type {\n",
              "        vertical-align: middle;\n",
              "    }\n",
              "\n",
              "    .dataframe tbody tr th {\n",
              "        vertical-align: top;\n",
              "    }\n",
              "\n",
              "    .dataframe thead th {\n",
              "        text-align: right;\n",
              "    }\n",
              "</style>\n",
              "<table border=\"1\" class=\"dataframe\">\n",
              "  <thead>\n",
              "    <tr style=\"text-align: right;\">\n",
              "      <th></th>\n",
              "      <th>English</th>\n",
              "      <th>French</th>\n",
              "      <th>Italian</th>\n",
              "      <th>German</th>\n",
              "      <th>Spanish</th>\n",
              "    </tr>\n",
              "  </thead>\n",
              "  <tbody>\n",
              "    <tr>\n",
              "      <th>English</th>\n",
              "      <td>19</td>\n",
              "      <td>6</td>\n",
              "      <td>10</td>\n",
              "      <td>7</td>\n",
              "      <td>30</td>\n",
              "    </tr>\n",
              "    <tr>\n",
              "      <th>French</th>\n",
              "      <td>5</td>\n",
              "      <td>104</td>\n",
              "      <td>3</td>\n",
              "      <td>14</td>\n",
              "      <td>16</td>\n",
              "    </tr>\n",
              "    <tr>\n",
              "      <th>Italian</th>\n",
              "      <td>4</td>\n",
              "      <td>4</td>\n",
              "      <td>67</td>\n",
              "      <td>3</td>\n",
              "      <td>49</td>\n",
              "    </tr>\n",
              "    <tr>\n",
              "      <th>German</th>\n",
              "      <td>2</td>\n",
              "      <td>20</td>\n",
              "      <td>3</td>\n",
              "      <td>12</td>\n",
              "      <td>18</td>\n",
              "    </tr>\n",
              "    <tr>\n",
              "      <th>Spanish</th>\n",
              "      <td>19</td>\n",
              "      <td>21</td>\n",
              "      <td>48</td>\n",
              "      <td>12</td>\n",
              "      <td>640</td>\n",
              "    </tr>\n",
              "  </tbody>\n",
              "</table>\n",
              "</div>"
            ],
            "text/plain": [
              "         English  French  Italian  German  Spanish\n",
              "English       19       6       10       7       30\n",
              "French         5     104        3      14       16\n",
              "Italian        4       4       67       3       49\n",
              "German         2      20        3      12       18\n",
              "Spanish       19      21       48      12      640"
            ]
          },
          "metadata": {
            "tags": []
          },
          "execution_count": 124
        }
      ]
    },
    {
      "cell_type": "markdown",
      "metadata": {
        "id": "QnJAJvO8qHFb"
      },
      "source": [
        "#### Findings\n",
        "We see that the model overfits and that the test loss does not decrease but increases.We also see that the classes are unbalanced. \n",
        "\n",
        "Accuracy : \n",
        "* Number of unit=32: 0.7121\n",
        "* Number of unit=64: 0.7411\n",
        "\n",
        "The model with more units gives better performance"
      ]
    },
    {
      "cell_type": "markdown",
      "metadata": {
        "id": "Ufy-P4_CbHqh"
      },
      "source": [
        "### Handle Class Imbalance, Resampling\n",
        "\n",
        "We can observe a quite significant class imbalance in the data.<br>\n",
        "\n",
        "One way to compensate for that would be to use resampling."
      ]
    },
    {
      "cell_type": "code",
      "metadata": {
        "id": "9VqDa5V5bHqh"
      },
      "source": [
        "def handle_imbalance(names, languages):\n",
        "    ### START YOUR CODE\n",
        "    max_class = names.groupby('lang')['name'].count().max()\n",
        "\n",
        "    # treat class imbalance\n",
        "    names_upsampled = pd.DataFrame(columns=['name', 'lang'])\n",
        "    for l in languages:\n",
        "      sub_df = names[names['lang'] == l].sample(max_class, replace=True)\n",
        "      names_upsampled = pd.concat([names_upsampled, sub_df])\n",
        "\n",
        "    ### END YOUR CODE    \n",
        "    return names_upsampled\n"
      ],
      "execution_count": 95,
      "outputs": []
    },
    {
      "cell_type": "code",
      "metadata": {
        "colab": {
          "base_uri": "https://localhost:8080/"
        },
        "id": "ugj6-t6ybHqh",
        "outputId": "2d0397db-45eb-4db5-972f-e9a35fd962e9"
      },
      "source": [
        "names_upsampled = handle_imbalance(names, languages)\n",
        "names_upsampled.groupby('lang')['name'].count()/len(names_upsampled)"
      ],
      "execution_count": 132,
      "outputs": [
        {
          "output_type": "execute_result",
          "data": {
            "text/plain": [
              "lang\n",
              "English    0.2\n",
              "French     0.2\n",
              "German     0.2\n",
              "Italian    0.2\n",
              "Spanish    0.2\n",
              "Name: name, dtype: float64"
            ]
          },
          "metadata": {
            "tags": []
          },
          "execution_count": 132
        }
      ]
    },
    {
      "cell_type": "markdown",
      "metadata": {
        "id": "CJamLFj5bHqi"
      },
      "source": [
        "#### Train Model\n",
        "\n",
        "Again prepare train and test data (X_train, X_test, Y_train, Y_test)\n",
        "\n",
        "Train the same model as above with the new data."
      ]
    },
    {
      "cell_type": "code",
      "metadata": {
        "id": "WlxOuwNcbHqi"
      },
      "source": [
        "### START YOUR CODE\n",
        "\n",
        "train, test = train_test_split(names, test_size=test_split)\n",
        "\n",
        "X_train = np.array([name_representation(i, maxlen) for i in train['name']])\n",
        "Y_train = np.array([lang_representation(i, language_to_index) for i in train['lang']])\n",
        "\n",
        "X_test = np.array([name_representation(i, maxlen) for i in test['name']])\n",
        "Y_test =np.array([lang_representation(i, language_to_index) for i in test['lang']])\n",
        "\n",
        "### END YOUR CODE"
      ],
      "execution_count": 133,
      "outputs": []
    },
    {
      "cell_type": "code",
      "metadata": {
        "colab": {
          "base_uri": "https://localhost:8080/"
        },
        "id": "Br2pXRXgbHqi",
        "outputId": "13031b6b-476a-45c0-cd75-2436d49a84e7"
      },
      "source": [
        "### START YOUR CODE\n",
        "\n",
        "# train model\n",
        "\n",
        "model = Sequential()\n",
        "model.add(SimpleRNN(units=32, input_shape=(maxlen, len_alphabet), activation='tanh'))\n",
        "model.add(Dense(len(languages), activation='softmax'))\n",
        "\n",
        "model.compile(loss='categorical_crossentropy', optimizer='adam', metrics=['accuracy'])\n",
        "model.summary()\n",
        "\n",
        "batch_size= 64\n",
        "nepochs = 30\n",
        "\n",
        "log = model.fit(X_train, Y_train, batch_size=batch_size, epochs=nepochs, validation_data=(X_test, Y_test))\n",
        "\n",
        "### END YOUR CODE"
      ],
      "execution_count": 138,
      "outputs": [
        {
          "output_type": "stream",
          "text": [
            "Model: \"sequential_25\"\n",
            "_________________________________________________________________\n",
            "Layer (type)                 Output Shape              Param #   \n",
            "=================================================================\n",
            "simple_rnn_35 (SimpleRNN)    (None, 32)                3424      \n",
            "_________________________________________________________________\n",
            "dense_25 (Dense)             (None, 5)                 165       \n",
            "=================================================================\n",
            "Total params: 3,589\n",
            "Trainable params: 3,589\n",
            "Non-trainable params: 0\n",
            "_________________________________________________________________\n",
            "Epoch 1/30\n",
            "71/71 [==============================] - 2s 14ms/step - loss: 1.2985 - accuracy: 0.5092 - val_loss: 1.0654 - val_accuracy: 0.6523\n",
            "Epoch 2/30\n",
            "71/71 [==============================] - 0s 6ms/step - loss: 1.0397 - accuracy: 0.6463 - val_loss: 0.9412 - val_accuracy: 0.6893\n",
            "Epoch 3/30\n",
            "71/71 [==============================] - 0s 6ms/step - loss: 0.9324 - accuracy: 0.6723 - val_loss: 0.8517 - val_accuracy: 0.7148\n",
            "Epoch 4/30\n",
            "71/71 [==============================] - 0s 6ms/step - loss: 0.8118 - accuracy: 0.7209 - val_loss: 0.8459 - val_accuracy: 0.7016\n",
            "Epoch 5/30\n",
            "71/71 [==============================] - 0s 6ms/step - loss: 0.7749 - accuracy: 0.7213 - val_loss: 0.7937 - val_accuracy: 0.7403\n",
            "Epoch 6/30\n",
            "71/71 [==============================] - 0s 6ms/step - loss: 0.7431 - accuracy: 0.7333 - val_loss: 0.8273 - val_accuracy: 0.7051\n",
            "Epoch 7/30\n",
            "71/71 [==============================] - 0s 6ms/step - loss: 0.7457 - accuracy: 0.7294 - val_loss: 0.7478 - val_accuracy: 0.7553\n",
            "Epoch 8/30\n",
            "71/71 [==============================] - 0s 6ms/step - loss: 0.7106 - accuracy: 0.7422 - val_loss: 0.7416 - val_accuracy: 0.7465\n",
            "Epoch 9/30\n",
            "71/71 [==============================] - 0s 6ms/step - loss: 0.6679 - accuracy: 0.7585 - val_loss: 0.7392 - val_accuracy: 0.7438\n",
            "Epoch 10/30\n",
            "71/71 [==============================] - 0s 6ms/step - loss: 0.6613 - accuracy: 0.7690 - val_loss: 0.7519 - val_accuracy: 0.7403\n",
            "Epoch 11/30\n",
            "71/71 [==============================] - 0s 6ms/step - loss: 0.6445 - accuracy: 0.7776 - val_loss: 0.7473 - val_accuracy: 0.7526\n",
            "Epoch 12/30\n",
            "71/71 [==============================] - 0s 6ms/step - loss: 0.6736 - accuracy: 0.7565 - val_loss: 0.7485 - val_accuracy: 0.7562\n",
            "Epoch 13/30\n",
            "71/71 [==============================] - 0s 6ms/step - loss: 0.6273 - accuracy: 0.7871 - val_loss: 0.7376 - val_accuracy: 0.7342\n",
            "Epoch 14/30\n",
            "71/71 [==============================] - 0s 6ms/step - loss: 0.6254 - accuracy: 0.7777 - val_loss: 0.6979 - val_accuracy: 0.7579\n",
            "Epoch 15/30\n",
            "71/71 [==============================] - 0s 6ms/step - loss: 0.6028 - accuracy: 0.7896 - val_loss: 0.7004 - val_accuracy: 0.7658\n",
            "Epoch 16/30\n",
            "71/71 [==============================] - 0s 6ms/step - loss: 0.5777 - accuracy: 0.7989 - val_loss: 0.6989 - val_accuracy: 0.7694\n",
            "Epoch 17/30\n",
            "71/71 [==============================] - 0s 6ms/step - loss: 0.5636 - accuracy: 0.7990 - val_loss: 0.6934 - val_accuracy: 0.7623\n",
            "Epoch 18/30\n",
            "71/71 [==============================] - 0s 6ms/step - loss: 0.6033 - accuracy: 0.7760 - val_loss: 0.7070 - val_accuracy: 0.7606\n",
            "Epoch 19/30\n",
            "71/71 [==============================] - 0s 6ms/step - loss: 0.5487 - accuracy: 0.8048 - val_loss: 0.6858 - val_accuracy: 0.7667\n",
            "Epoch 20/30\n",
            "71/71 [==============================] - 0s 6ms/step - loss: 0.5410 - accuracy: 0.8065 - val_loss: 0.6872 - val_accuracy: 0.7579\n",
            "Epoch 21/30\n",
            "71/71 [==============================] - 0s 6ms/step - loss: 0.5361 - accuracy: 0.8127 - val_loss: 0.6952 - val_accuracy: 0.7526\n",
            "Epoch 22/30\n",
            "71/71 [==============================] - 0s 6ms/step - loss: 0.5229 - accuracy: 0.8167 - val_loss: 0.7127 - val_accuracy: 0.7509\n",
            "Epoch 23/30\n",
            "71/71 [==============================] - 0s 6ms/step - loss: 0.5737 - accuracy: 0.8092 - val_loss: 0.6892 - val_accuracy: 0.7588\n",
            "Epoch 24/30\n",
            "71/71 [==============================] - 0s 6ms/step - loss: 0.5213 - accuracy: 0.8084 - val_loss: 0.7160 - val_accuracy: 0.7641\n",
            "Epoch 25/30\n",
            "71/71 [==============================] - 0s 6ms/step - loss: 0.5197 - accuracy: 0.8107 - val_loss: 0.6823 - val_accuracy: 0.7711\n",
            "Epoch 26/30\n",
            "71/71 [==============================] - 0s 6ms/step - loss: 0.5013 - accuracy: 0.8207 - val_loss: 0.7241 - val_accuracy: 0.7676\n",
            "Epoch 27/30\n",
            "71/71 [==============================] - 0s 6ms/step - loss: 0.5112 - accuracy: 0.8271 - val_loss: 0.7092 - val_accuracy: 0.7658\n",
            "Epoch 28/30\n",
            "71/71 [==============================] - 0s 6ms/step - loss: 0.5019 - accuracy: 0.8134 - val_loss: 0.7054 - val_accuracy: 0.7711\n",
            "Epoch 29/30\n",
            "71/71 [==============================] - 0s 6ms/step - loss: 0.4805 - accuracy: 0.8348 - val_loss: 0.7082 - val_accuracy: 0.7623\n",
            "Epoch 30/30\n",
            "71/71 [==============================] - 0s 6ms/step - loss: 0.4968 - accuracy: 0.8183 - val_loss: 0.7209 - val_accuracy: 0.7685\n"
          ],
          "name": "stdout"
        }
      ]
    },
    {
      "cell_type": "code",
      "metadata": {
        "colab": {
          "base_uri": "https://localhost:8080/",
          "height": 828
        },
        "id": "XCYJaSCsopEp",
        "outputId": "1f558ab4-266f-4d71-9ea9-3ed0a8d5492c"
      },
      "source": [
        "performance_plots(model, X_test, Y_test, log, nepochs)\n",
        "df, cm = confusion_matrix(model, X_test, Y_test)\n",
        "df"
      ],
      "execution_count": 139,
      "outputs": [
        {
          "output_type": "stream",
          "text": [
            "Train accuracy (end): 0.8240088224411011\n",
            "Train accuracy (max): 0.8284140825271606\n",
            "Test accuracy (end) : 0.7684859037399292\n",
            "Test accuracy (max) : 0.7711267471313477\n"
          ],
          "name": "stdout"
        },
        {
          "output_type": "display_data",
          "data": {
            "image/png": "[encoded data removed]",
            "text/plain": [
              "<Figure size 432x288 with 1 Axes>"
            ]
          },
          "metadata": {
            "tags": [],
            "needs_background": "light"
          }
        },
        {
          "output_type": "display_data",
          "data": {
            "image/png": "[encoded data removed]",
            "text/plain": [
              "<Figure size 432x288 with 1 Axes>"
            ]
          },
          "metadata": {
            "tags": [],
            "needs_background": "light"
          }
        },
        {
          "output_type": "execute_result",
          "data": {
            "text/html": [
              "<div>\n",
              "<style scoped>\n",
              "    .dataframe tbody tr th:only-of-type {\n",
              "        vertical-align: middle;\n",
              "    }\n",
              "\n",
              "    .dataframe tbody tr th {\n",
              "        vertical-align: top;\n",
              "    }\n",
              "\n",
              "    .dataframe thead th {\n",
              "        text-align: right;\n",
              "    }\n",
              "</style>\n",
              "<table border=\"1\" class=\"dataframe\">\n",
              "  <thead>\n",
              "    <tr style=\"text-align: right;\">\n",
              "      <th></th>\n",
              "      <th>English</th>\n",
              "      <th>French</th>\n",
              "      <th>Italian</th>\n",
              "      <th>German</th>\n",
              "      <th>Spanish</th>\n",
              "    </tr>\n",
              "  </thead>\n",
              "  <tbody>\n",
              "    <tr>\n",
              "      <th>English</th>\n",
              "      <td>4</td>\n",
              "      <td>4</td>\n",
              "      <td>1</td>\n",
              "      <td>3</td>\n",
              "      <td>43</td>\n",
              "    </tr>\n",
              "    <tr>\n",
              "      <th>French</th>\n",
              "      <td>3</td>\n",
              "      <td>112</td>\n",
              "      <td>2</td>\n",
              "      <td>11</td>\n",
              "      <td>28</td>\n",
              "    </tr>\n",
              "    <tr>\n",
              "      <th>Italian</th>\n",
              "      <td>1</td>\n",
              "      <td>3</td>\n",
              "      <td>49</td>\n",
              "      <td>0</td>\n",
              "      <td>75</td>\n",
              "    </tr>\n",
              "    <tr>\n",
              "      <th>German</th>\n",
              "      <td>1</td>\n",
              "      <td>15</td>\n",
              "      <td>4</td>\n",
              "      <td>11</td>\n",
              "      <td>26</td>\n",
              "    </tr>\n",
              "    <tr>\n",
              "      <th>Spanish</th>\n",
              "      <td>5</td>\n",
              "      <td>13</td>\n",
              "      <td>23</td>\n",
              "      <td>2</td>\n",
              "      <td>697</td>\n",
              "    </tr>\n",
              "  </tbody>\n",
              "</table>\n",
              "</div>"
            ],
            "text/plain": [
              "         English  French  Italian  German  Spanish\n",
              "English        4       4        1       3       43\n",
              "French         3     112        2      11       28\n",
              "Italian        1       3       49       0       75\n",
              "German         1      15        4      11       26\n",
              "Spanish        5      13       23       2      697"
            ]
          },
          "metadata": {
            "tags": []
          },
          "execution_count": 139
        }
      ]
    },
    {
      "cell_type": "markdown",
      "metadata": {
        "id": "8b7Cj-FAbHqi"
      },
      "source": [
        "#### Findings\n",
        "We can see that this time if the model overfits less and gives better performance. On constate également une amélioration de l'accuracy.\n",
        "We can see that this time if the model overfits less and gives better performance. On constate également une amélioration de l'accuracy.\n",
        "\n"
      ]
    },
    {
      "cell_type": "markdown",
      "metadata": {
        "id": "2xh9S5RXbHqj"
      },
      "source": [
        "#### In which situations is class imbalance treatment important and why?  \n",
        "\n",
        "The treatment of unbalanced classes is important in case of overfitting.\n",
        "\n",
        "It is also important to see if in production the classes will be balanced or not. In our case we want the model to give the same importance to each language. So we have to resample the dataset"
      ]
    },
    {
      "cell_type": "markdown",
      "metadata": {
        "id": "8BCPndJ0bHqj"
      },
      "source": [
        "### Implement Model with several SimpleRNN Layers"
      ]
    },
    {
      "cell_type": "code",
      "metadata": {
        "colab": {
          "base_uri": "https://localhost:8080/"
        },
        "id": "62Pji5QdbHqj",
        "outputId": "5d4994b4-f789-40e0-8b00-5ab32c7df122"
      },
      "source": [
        "### START YOUR CODE\n",
        "\n",
        "model = Sequential()\n",
        "model.add(SimpleRNN(units=64, input_shape=(maxlen, len_alphabet), return_sequences=True))\n",
        "model.add(SimpleRNN(units=64, return_sequences=True))\n",
        "model.add(SimpleRNN(units=32, return_sequences=False))\n",
        "model.add(Dense(len(languages), activation='softmax'))\n",
        "\n",
        "model.compile(loss='categorical_crossentropy', optimizer='adam', metrics=['accuracy'])\n",
        "\n",
        "### END YOUR CODE\n",
        "\n",
        "model.summary()"
      ],
      "execution_count": 149,
      "outputs": [
        {
          "output_type": "stream",
          "text": [
            "Model: \"sequential_29\"\n",
            "_________________________________________________________________\n",
            "Layer (type)                 Output Shape              Param #   \n",
            "=================================================================\n",
            "simple_rnn_45 (SimpleRNN)    (None, 18, 64)            8896      \n",
            "_________________________________________________________________\n",
            "simple_rnn_46 (SimpleRNN)    (None, 18, 64)            8256      \n",
            "_________________________________________________________________\n",
            "simple_rnn_47 (SimpleRNN)    (None, 32)                3104      \n",
            "_________________________________________________________________\n",
            "dense_29 (Dense)             (None, 5)                 165       \n",
            "=================================================================\n",
            "Total params: 20,421\n",
            "Trainable params: 20,421\n",
            "Non-trainable params: 0\n",
            "_________________________________________________________________\n"
          ],
          "name": "stdout"
        }
      ]
    },
    {
      "cell_type": "code",
      "metadata": {
        "colab": {
          "base_uri": "https://localhost:8080/"
        },
        "id": "I1nzbPyLbHqj",
        "outputId": "02595066-9235-4a94-8825-5f9a334aad68"
      },
      "source": [
        "### START YOUR CODE\n",
        "\n",
        "batch_size= 64\n",
        "nepochs = 30\n",
        "\n",
        "log = model.fit(X_train, Y_train, batch_size=batch_size, epochs=nepochs, validation_data=(X_test, Y_test))\n",
        "\n",
        "### END YOUR CODE"
      ],
      "execution_count": 150,
      "outputs": [
        {
          "output_type": "stream",
          "text": [
            "Epoch 1/30\n",
            "71/71 [==============================] - 6s 33ms/step - loss: 1.1389 - accuracy: 0.6114 - val_loss: 0.9653 - val_accuracy: 0.6681\n",
            "Epoch 2/30\n",
            "71/71 [==============================] - 1s 17ms/step - loss: 0.8898 - accuracy: 0.6943 - val_loss: 0.7995 - val_accuracy: 0.7403\n",
            "Epoch 3/30\n",
            "71/71 [==============================] - 1s 17ms/step - loss: 0.7366 - accuracy: 0.7407 - val_loss: 0.7564 - val_accuracy: 0.7500\n",
            "Epoch 4/30\n",
            "71/71 [==============================] - 1s 17ms/step - loss: 0.6280 - accuracy: 0.7834 - val_loss: 0.7095 - val_accuracy: 0.7694\n",
            "Epoch 5/30\n",
            "71/71 [==============================] - 1s 17ms/step - loss: 0.6012 - accuracy: 0.7893 - val_loss: 0.6729 - val_accuracy: 0.7826\n",
            "Epoch 6/30\n",
            "71/71 [==============================] - 1s 17ms/step - loss: 0.5573 - accuracy: 0.7987 - val_loss: 0.7651 - val_accuracy: 0.7306\n",
            "Epoch 7/30\n",
            "71/71 [==============================] - 1s 17ms/step - loss: 0.5473 - accuracy: 0.8069 - val_loss: 0.7312 - val_accuracy: 0.7394\n",
            "Epoch 8/30\n",
            "71/71 [==============================] - 1s 17ms/step - loss: 0.4991 - accuracy: 0.8175 - val_loss: 0.7083 - val_accuracy: 0.7746\n",
            "Epoch 9/30\n",
            "71/71 [==============================] - 1s 17ms/step - loss: 0.4738 - accuracy: 0.8319 - val_loss: 0.6763 - val_accuracy: 0.7852\n",
            "Epoch 10/30\n",
            "71/71 [==============================] - 1s 17ms/step - loss: 0.4571 - accuracy: 0.8303 - val_loss: 0.7106 - val_accuracy: 0.7799\n",
            "Epoch 11/30\n",
            "71/71 [==============================] - 1s 17ms/step - loss: 0.4233 - accuracy: 0.8470 - val_loss: 0.7032 - val_accuracy: 0.7500\n",
            "Epoch 12/30\n",
            "71/71 [==============================] - 1s 17ms/step - loss: 0.4019 - accuracy: 0.8644 - val_loss: 0.7055 - val_accuracy: 0.7685\n",
            "Epoch 13/30\n",
            "71/71 [==============================] - 1s 17ms/step - loss: 0.3732 - accuracy: 0.8731 - val_loss: 0.7095 - val_accuracy: 0.7606\n",
            "Epoch 14/30\n",
            "71/71 [==============================] - 1s 17ms/step - loss: 0.3563 - accuracy: 0.8782 - val_loss: 0.7348 - val_accuracy: 0.7799\n",
            "Epoch 15/30\n",
            "71/71 [==============================] - 1s 17ms/step - loss: 0.3295 - accuracy: 0.8866 - val_loss: 0.7193 - val_accuracy: 0.7720\n",
            "Epoch 16/30\n",
            "71/71 [==============================] - 1s 17ms/step - loss: 0.3038 - accuracy: 0.9008 - val_loss: 0.7213 - val_accuracy: 0.7711\n",
            "Epoch 17/30\n",
            "71/71 [==============================] - 1s 17ms/step - loss: 0.2748 - accuracy: 0.9078 - val_loss: 0.7465 - val_accuracy: 0.7808\n",
            "Epoch 18/30\n",
            "71/71 [==============================] - 1s 17ms/step - loss: 0.2734 - accuracy: 0.9060 - val_loss: 0.7849 - val_accuracy: 0.7403\n",
            "Epoch 19/30\n",
            "71/71 [==============================] - 1s 17ms/step - loss: 0.2638 - accuracy: 0.9069 - val_loss: 0.8322 - val_accuracy: 0.7544\n",
            "Epoch 20/30\n",
            "71/71 [==============================] - 1s 17ms/step - loss: 0.2348 - accuracy: 0.9243 - val_loss: 0.8046 - val_accuracy: 0.7579\n",
            "Epoch 21/30\n",
            "71/71 [==============================] - 1s 18ms/step - loss: 0.2076 - accuracy: 0.9294 - val_loss: 0.7738 - val_accuracy: 0.7667\n",
            "Epoch 22/30\n",
            "71/71 [==============================] - 1s 17ms/step - loss: 0.2077 - accuracy: 0.9268 - val_loss: 0.8280 - val_accuracy: 0.7562\n",
            "Epoch 23/30\n",
            "71/71 [==============================] - 1s 17ms/step - loss: 0.1866 - accuracy: 0.9368 - val_loss: 0.8243 - val_accuracy: 0.7632\n",
            "Epoch 24/30\n",
            "71/71 [==============================] - 1s 17ms/step - loss: 0.1693 - accuracy: 0.9425 - val_loss: 0.8766 - val_accuracy: 0.7430\n",
            "Epoch 25/30\n",
            "71/71 [==============================] - 1s 17ms/step - loss: 0.1782 - accuracy: 0.9414 - val_loss: 0.8631 - val_accuracy: 0.7518\n",
            "Epoch 26/30\n",
            "71/71 [==============================] - 1s 18ms/step - loss: 0.1604 - accuracy: 0.9458 - val_loss: 0.8929 - val_accuracy: 0.7623\n",
            "Epoch 27/30\n",
            "71/71 [==============================] - 1s 17ms/step - loss: 0.1649 - accuracy: 0.9439 - val_loss: 0.8936 - val_accuracy: 0.7685\n",
            "Epoch 28/30\n",
            "71/71 [==============================] - 1s 17ms/step - loss: 0.1338 - accuracy: 0.9541 - val_loss: 0.9412 - val_accuracy: 0.7579\n",
            "Epoch 29/30\n",
            "71/71 [==============================] - 1s 18ms/step - loss: 0.1447 - accuracy: 0.9492 - val_loss: 0.9332 - val_accuracy: 0.7518\n",
            "Epoch 30/30\n",
            "71/71 [==============================] - 1s 17ms/step - loss: 0.1388 - accuracy: 0.9516 - val_loss: 0.9351 - val_accuracy: 0.7579\n"
          ],
          "name": "stdout"
        }
      ]
    },
    {
      "cell_type": "code",
      "metadata": {
        "colab": {
          "base_uri": "https://localhost:8080/",
          "height": 828
        },
        "id": "0xgDXH3CpMTy",
        "outputId": "205b620d-e198-4e38-fe7f-440191711d73"
      },
      "source": [
        "performance_plots(model, X_test, Y_test, log, nepochs)\n",
        "df, cm = confusion_matrix(model, X_test, Y_test)\n",
        "df"
      ],
      "execution_count": 151,
      "outputs": [
        {
          "output_type": "stream",
          "text": [
            "Train accuracy (end): 0.9447136521339417\n",
            "Train accuracy (max): 0.949118971824646\n",
            "Test accuracy (end) : 0.7579225301742554\n",
            "Test accuracy (max) : 0.7852112650871277\n"
          ],
          "name": "stdout"
        },
        {
          "output_type": "display_data",
          "data": {
            "image/png": "[encoded data removed]",
            "text/plain": [
              "<Figure size 432x288 with 1 Axes>"
            ]
          },
          "metadata": {
            "tags": [],
            "needs_background": "light"
          }
        },
        {
          "output_type": "display_data",
          "data": {
            "image/png": "[encoded data removed]",
            "text/plain": [
              "<Figure size 432x288 with 1 Axes>"
            ]
          },
          "metadata": {
            "tags": [],
            "needs_background": "light"
          }
        },
        {
          "output_type": "execute_result",
          "data": {
            "text/html": [
              "<div>\n",
              "<style scoped>\n",
              "    .dataframe tbody tr th:only-of-type {\n",
              "        vertical-align: middle;\n",
              "    }\n",
              "\n",
              "    .dataframe tbody tr th {\n",
              "        vertical-align: top;\n",
              "    }\n",
              "\n",
              "    .dataframe thead th {\n",
              "        text-align: right;\n",
              "    }\n",
              "</style>\n",
              "<table border=\"1\" class=\"dataframe\">\n",
              "  <thead>\n",
              "    <tr style=\"text-align: right;\">\n",
              "      <th></th>\n",
              "      <th>English</th>\n",
              "      <th>French</th>\n",
              "      <th>Italian</th>\n",
              "      <th>German</th>\n",
              "      <th>Spanish</th>\n",
              "    </tr>\n",
              "  </thead>\n",
              "  <tbody>\n",
              "    <tr>\n",
              "      <th>English</th>\n",
              "      <td>8</td>\n",
              "      <td>10</td>\n",
              "      <td>4</td>\n",
              "      <td>1</td>\n",
              "      <td>32</td>\n",
              "    </tr>\n",
              "    <tr>\n",
              "      <th>French</th>\n",
              "      <td>5</td>\n",
              "      <td>116</td>\n",
              "      <td>3</td>\n",
              "      <td>12</td>\n",
              "      <td>20</td>\n",
              "    </tr>\n",
              "    <tr>\n",
              "      <th>Italian</th>\n",
              "      <td>3</td>\n",
              "      <td>4</td>\n",
              "      <td>65</td>\n",
              "      <td>1</td>\n",
              "      <td>55</td>\n",
              "    </tr>\n",
              "    <tr>\n",
              "      <th>German</th>\n",
              "      <td>2</td>\n",
              "      <td>16</td>\n",
              "      <td>4</td>\n",
              "      <td>17</td>\n",
              "      <td>18</td>\n",
              "    </tr>\n",
              "    <tr>\n",
              "      <th>Spanish</th>\n",
              "      <td>17</td>\n",
              "      <td>18</td>\n",
              "      <td>44</td>\n",
              "      <td>6</td>\n",
              "      <td>655</td>\n",
              "    </tr>\n",
              "  </tbody>\n",
              "</table>\n",
              "</div>"
            ],
            "text/plain": [
              "         English  French  Italian  German  Spanish\n",
              "English        8      10        4       1       32\n",
              "French         5     116        3      12       20\n",
              "Italian        3       4       65       1       55\n",
              "German         2      16        4      17       18\n",
              "Spanish       17      18       44       6      655"
            ]
          },
          "metadata": {
            "tags": []
          },
          "execution_count": 151
        }
      ]
    },
    {
      "cell_type": "markdown",
      "metadata": {
        "id": "HfCzVhpcbHqj"
      },
      "source": [
        "#### Findings\n",
        "\n",
        "List of experiences: \n",
        "* RNN(32), RNN(16), RNN(16), DENSE, B=64, E=30 -> Accuracy = 0.7420\n",
        "* RNN(32), RNN(16), RNN(16), DENSE, B=128, E=30 -> Accuracy = 0.7323\n",
        "* RNN(64), RNN(32), RNN(16), DENSE, B=128, E=30 -> Accuracy = 0.7772\n",
        "* RNN(64), RNN(64), RNN(32), DENSE, B=64, E=30 -> Accuracy = 0.7579\n",
        "\n",
        "We can see that on average the models have better performances than before. The best accuracy obtained is 0.7772."
      ]
    },
    {
      "cell_type": "code",
      "metadata": {
        "id": "NNMtR4A0t2Up"
      },
      "source": [
        ""
      ],
      "execution_count": null,
      "outputs": []
    }
  ]
}