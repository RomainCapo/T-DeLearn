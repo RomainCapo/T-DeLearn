{
 "cells": [
  {
   "cell_type": "markdown",
   "metadata": {},
   "source": [
    "## MNIST Classification using Tensorflow with Keras API"
   ]
  },
  {
   "cell_type": "code",
   "execution_count": 1,
   "metadata": {},
   "outputs": [],
   "source": [
    "#be sure to have installed tensorflow using conda (c.f. DL-PW-01.pdf , Exercise 1)\n",
    "import tensorflow as tf\n",
    "from tensorflow.keras.callbacks import TensorBoard \n",
    "import numpy as np\n",
    "from sklearn.model_selection import train_test_split\n",
    "import matplotlib.pyplot as plt"
   ]
  },
  {
   "cell_type": "markdown",
   "metadata": {},
   "source": [
    "### Load and prepare Data"
   ]
  },
  {
   "cell_type": "code",
   "execution_count": 2,
   "metadata": {},
   "outputs": [
    {
     "name": "stdout",
     "output_type": "stream",
     "text": [
      "(70000, 28, 28) (70000, 10)\n"
     ]
    }
   ],
   "source": [
    "#tf.keras provides different datasets  \n",
    "#https://www.tensorflow.org/api_docs/python/tf/keras/datasets\n",
    "mnist = tf.keras.datasets.mnist\n",
    "(x_train1, y_train1), (x_test1, y_test1) = mnist.load_data()\n",
    "\n",
    "#we merge data to have the same conditions as for numpy implementation\n",
    "x = np.concatenate((x_train1, x_test1), axis=0)\n",
    "y = np.concatenate((y_train1, y_test1), axis=0)\n",
    "\n",
    "#tf.keras has method to create onehot representation\n",
    "y = tf.keras.utils.to_categorical(y)\n",
    "\n",
    "print(x.shape, y.shape)"
   ]
  },
  {
   "cell_type": "code",
   "execution_count": 3,
   "metadata": {},
   "outputs": [
    {
     "name": "stdout",
     "output_type": "stream",
     "text": [
      "(59500, 28, 28) (10500, 28, 28) (59500, 10) (10500, 10)\n"
     ]
    }
   ],
   "source": [
    "#select training and test set (random_state sets the seed for reproducible results)\n",
    "\n",
    "from sklearn import model_selection as ms\n",
    "\n",
    "#define train and test split\n",
    "x_train, x_test, y_train, y_test = ms.train_test_split(x, y, \n",
    "                                     test_size=0.15, random_state=1)\n",
    "\n",
    "print(x_train.shape, x_test.shape, y_train.shape, y_test.shape)"
   ]
  },
  {
   "cell_type": "code",
   "execution_count": 4,
   "metadata": {},
   "outputs": [],
   "source": [
    "#perform normalisation\n",
    "\n",
    "xmax, xmin = np.max(x_train), np.min(x_train)\n",
    "x_train = 2*(x_train - xmin) / (xmax - xmin) - 1\n",
    "x_test = 2*(x_test - xmin) / (xmax - xmin) - 1"
   ]
  },
  {
   "cell_type": "markdown",
   "metadata": {},
   "source": [
    "### Function used for customised tensorboard feeback"
   ]
  },
  {
   "cell_type": "code",
   "execution_count": 5,
   "metadata": {},
   "outputs": [],
   "source": [
    "def custom_summary(input_activation):\n",
    "    \"\"\"\n",
    "    this function will be used in the Lamda type layer of the model below to provide customised output\n",
    "    to tensorboard; the input_activation will be displayed as histogram with the name 'display_name'\n",
    "    \"\"\"\n",
    "    tf.summary.histogram('activation',input_activation)\n",
    "    return input_activation"
   ]
  },
  {
   "cell_type": "markdown",
   "metadata": {},
   "source": [
    "### Define Model and Cost"
   ]
  },
  {
   "cell_type": "code",
   "execution_count": 7,
   "metadata": {},
   "outputs": [],
   "source": [
    "#function to create a 'sequential' models with list of dense layers \n",
    "def define_model(hidden_neurons, tensorboard_output):\n",
    "    \"\"\"\n",
    "    create a sequential models of dense layers with the given list of hidden plus output (=10) neurons\n",
    "    Arguments:\n",
    "    hidden_neurons -- list of hidden neurons including output (e.g. [150, 50, 10])\n",
    "    tensorboard_output -- index of layer with activations to be written to tensorboard\n",
    "    init -- type of initialsation (default 'Glorot')\n",
    "    \"\"\"\n",
    "    \n",
    "    initializer = tf.keras.initializers.GlorotNormal()\n",
    "        \n",
    "    layers = []\n",
    "    layers.append(tf.keras.layers.Flatten(input_shape=(28,28)))\n",
    "    for i0 in range(len(hidden_neurons)-1): \n",
    "        layers.append(tf.keras.layers.Dense(hidden_neurons[i0], activation='sigmoid', kernel_initializer=initializer))\n",
    "        if i0 == tensorboard_output:\n",
    "            layers.append(tf.keras.layers.Lambda(custom_summary))\n",
    "        \n",
    "    layers.append(tf.keras.layers.Dense(hidden_neurons[-1], activation=\"softmax\", name=\"softmax\"))\n",
    "    model = tf.keras.models.Sequential(layers)\n",
    "\n",
    "    print(model.summary())\n",
    "\n",
    "    return model"
   ]
  },
  {
   "cell_type": "markdown",
   "metadata": {},
   "source": [
    "### Define output folder and start training\n",
    "You have to start tensorboard on the command line (like jupyter notebook) using:\n",
    "\n",
    "tensorboard --logdir=\"path to log_dir below\"\n",
    "\n",
    "(double quotations \" \" are used under windows, check for different conventions on other OS)"
   ]
  },
  {
   "cell_type": "code",
   "execution_count": 13,
   "metadata": {},
   "outputs": [
    {
     "name": "stdout",
     "output_type": "stream",
     "text": [
      "Model: \"sequential\"\n",
      "_________________________________________________________________\n",
      "Layer (type)                 Output Shape              Param #   \n",
      "=================================================================\n",
      "flatten (Flatten)            (None, 784)               0         \n",
      "_________________________________________________________________\n",
      "dense (Dense)                (None, 150)               117750    \n",
      "_________________________________________________________________\n",
      "dense_1 (Dense)              (None, 50)                7550      \n",
      "_________________________________________________________________\n",
      "lambda (Lambda)              (None, 50)                0         \n",
      "_________________________________________________________________\n",
      "softmax (Dense)              (None, 10)                510       \n",
      "=================================================================\n",
      "Total params: 125,810\n",
      "Trainable params: 125,810\n",
      "Non-trainable params: 0\n",
      "_________________________________________________________________\n",
      "None\n",
      "WARNING:tensorflow:\n",
      "The following Variables were used a Lambda layer's call (lambda), but\n",
      "are not present in its tracked objects:\n",
      "  <tf.Variable 'Variable:0' shape=() dtype=int64>\n",
      "It is possible that this is intended behavior, but it is more likely\n",
      "an omission. This is a strong indication that this layer should be\n",
      "formulated as a subclassed Layer rather than a Lambda layer.\n",
      "WARNING:tensorflow:Callbacks method `on_train_batch_end` is slow compared to the batch time (batch time: 0.0060s vs `on_train_batch_end` time: 0.8775s). Check your callbacks.\n"
     ]
    }
   ],
   "source": [
    "#clear everything\n",
    "tf.keras.backend.clear_session()\n",
    "\n",
    "#you may have to delete the model to start from scratch\n",
    "#del model\n",
    "\n",
    "#output is written to the folder with name defined below\n",
    "name = 'mnist_one_hidden_layer'\n",
    "\n",
    "tensorboard = TensorBoard(\n",
    "        log_dir='./tensorboard/' + name + '/', \n",
    "        #update_freq='epoch', \n",
    "        update_freq=1, #in order to see output of Lambda layer upate_freq must be 1!\n",
    "        write_graph=True,\n",
    "        histogram_freq=1)\n",
    "\n",
    "#define suitable parameters ...\n",
    "hidden_neurons = [150, 50, 10]\n",
    "#define layer index with activations to be logged to tensorboard\n",
    "tensorboard_output = 1\n",
    "\n",
    "#and create model\n",
    "model = define_model(hidden_neurons, tensorboard_output)\n",
    "\n",
    "learning_rate = 0.1\n",
    "batchsize = 16\n",
    "epochs = 20\n",
    "\n",
    "#choose the desired optimisers\n",
    "optimizer = tf.keras.optimizers.SGD(learning_rate=learning_rate)\n",
    "\n",
    "#Configures the model for training: set the optimiser and define loss function\n",
    "model.compile(optimizer=optimizer, loss='categorical_crossentropy', #'mean_squared_error'\n",
    "    metrics=['accuracy'])\n",
    "\n",
    "#now start training (you can choose the train/validation set split)\n",
    "history = model.fit(x_train, y_train, verbose = 0,\n",
    "                        validation_split=0.2, initial_epoch=0,\n",
    "                        batch_size=batchsize, callbacks=[tensorboard], epochs=epochs)\n",
    "    "
   ]
  },
  {
   "cell_type": "code",
   "execution_count": 9,
   "metadata": {},
   "outputs": [
    {
     "data": {
      "image/png": "[encoded data removed]",
      "text/plain": [
       "<Figure size 432x288 with 1 Axes>"
      ]
     },
     "metadata": {
      "needs_background": "light"
     },
     "output_type": "display_data"
    },
    {
     "data": {
      "image/png": "[encoded data removed]",
      "text/plain": [
       "<Figure size 432x288 with 1 Axes>"
      ]
     },
     "metadata": {
      "needs_background": "light"
     },
     "output_type": "display_data"
    }
   ],
   "source": [
    "plt.plot(history.history['accuracy'])\n",
    "plt.plot(history.history['val_accuracy'])\n",
    "plt.title('model accuracy')\n",
    "plt.ylabel('accuracy')\n",
    "plt.xlabel('epoch')\n",
    "plt.legend(['train', 'valid'], loc='lower right')\n",
    "plt.show()\n",
    "plt.plot(history.history['loss'])\n",
    "plt.plot(history.history['val_loss'])\n",
    "plt.title('model loss')\n",
    "plt.ylabel('loss')\n",
    "plt.xlabel('epoch')\n",
    "plt.legend(['train', 'valid'], loc='upper right')\n",
    "plt.show()"
   ]
  },
  {
   "cell_type": "code",
   "execution_count": 12,
   "metadata": {
    "scrolled": true
   },
   "outputs": [
    {
     "name": "stdout",
     "output_type": "stream",
     "text": [
      "329/329 [==============================] - 1s 2ms/step - loss: 0.1238 - accuracy: 0.9625\n"
     ]
    },
    {
     "data": {
      "text/plain": [
       "[0.12376230210065842, 0.9624761939048767]"
      ]
     },
     "execution_count": 12,
     "metadata": {},
     "output_type": "execute_result"
    }
   ],
   "source": [
    "#finally evalute result on test set\n",
    "#you have to deactivate the Lambda layer (set tensorboard_output to value larger than maximum layer index)\n",
    "model.evaluate(x_test, y_test)"
   ]
  },
  {
   "cell_type": "code",
   "execution_count": null,
   "metadata": {},
   "outputs": [],
   "source": []
  }
 ],
 "metadata": {
  "kernelspec": {
   "display_name": "Python 3",
   "language": "python",
   "name": "python3"
  },
  "language_info": {
   "codemirror_mode": {
    "name": "ipython",
    "version": 3
   },
   "file_extension": ".py",
   "mimetype": "text/x-python",
   "name": "python",
   "nbconvert_exporter": "python",
   "pygments_lexer": "ipython3",
   "version": "3.8.5"
  }
 },
 "nbformat": 4,
 "nbformat_minor": 2
}
