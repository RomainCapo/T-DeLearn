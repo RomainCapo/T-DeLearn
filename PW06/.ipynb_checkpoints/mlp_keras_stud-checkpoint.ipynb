{
 "cells": [
  {
   "cell_type": "markdown",
   "metadata": {},
   "source": [
    "## MNIST Classification using Tensorflow with Keras API"
   ]
  },
  {
   "cell_type": "code",
   "execution_count": 1,
   "metadata": {},
   "outputs": [],
   "source": [
    "#be sure to have installed tensorflow using conda (c.f. DL-PW-01.pdf , Exercise 1)\n",
    "import tensorflow as tf\n",
    "from tensorflow.keras.callbacks import TensorBoard \n",
    "import numpy as np\n",
    "from sklearn.model_selection import train_test_split\n",
    "import matplotlib.pyplot as plt"
   ]
  },
  {
   "cell_type": "markdown",
   "metadata": {},
   "source": [
    "### Load and prepare Data"
   ]
  },
  {
   "cell_type": "code",
   "execution_count": 2,
   "metadata": {},
   "outputs": [
    {
     "name": "stdout",
     "output_type": "stream",
     "text": [
      "(70000, 28, 28) (70000, 10)\n"
     ]
    }
   ],
   "source": [
    "#tf.keras provides different datasets  \n",
    "#https://www.tensorflow.org/api_docs/python/tf/keras/datasets\n",
    "mnist = tf.keras.datasets.mnist\n",
    "(x_train1, y_train1), (x_test1, y_test1) = mnist.load_data()\n",
    "\n",
    "#we merge data to have the same conditions as for numpy implementation\n",
    "x = np.concatenate((x_train1, x_test1), axis=0)\n",
    "y = np.concatenate((y_train1, y_test1), axis=0)\n",
    "\n",
    "#tf.keras has method to create onehot representation\n",
    "y = tf.keras.utils.to_categorical(y)\n",
    "\n",
    "print(x.shape, y.shape)"
   ]
  },
  {
   "cell_type": "code",
   "execution_count": 3,
   "metadata": {},
   "outputs": [
    {
     "name": "stdout",
     "output_type": "stream",
     "text": [
      "(59500, 28, 28) (10500, 28, 28) (59500, 10) (10500, 10)\n"
     ]
    }
   ],
   "source": [
    "#select training and test set (random_state sets the seed for reproducible results)\n",
    "\n",
    "from sklearn import model_selection as ms\n",
    "\n",
    "#define train and test split\n",
    "x_train, x_test, y_train, y_test = ms.train_test_split(x, y, \n",
    "                                     test_size=0.15, random_state=1)\n",
    "\n",
    "print(x_train.shape, x_test.shape, y_train.shape, y_test.shape)"
   ]
  },
  {
   "cell_type": "code",
   "execution_count": 4,
   "metadata": {},
   "outputs": [],
   "source": [
    "#perform normalisation\n",
    "\n",
    "xmax, xmin = np.max(x_train), np.min(x_train)\n",
    "x_train = 2*(x_train - xmin) / (xmax - xmin) - 1\n",
    "x_test = 2*(x_test - xmin) / (xmax - xmin) - 1"
   ]
  },
  {
   "cell_type": "markdown",
   "metadata": {},
   "source": [
    "### Function used for customised tensorboard feeback"
   ]
  },
  {
   "cell_type": "code",
   "execution_count": 5,
   "metadata": {},
   "outputs": [],
   "source": [
    "def custom_summary(input_activation):\n",
    "    \"\"\"\n",
    "    this function will be used in the Lamda type layer of the model below to provide customised output\n",
    "    to tensorboard; the input_activation will be displayed as histogram with the name 'display_name'\n",
    "    \"\"\"\n",
    "    tf.summary.histogram('activation',input_activation)\n",
    "    return input_activation"
   ]
  },
  {
   "cell_type": "markdown",
   "metadata": {},
   "source": [
    "### Define Model and Cost"
   ]
  },
  {
   "cell_type": "code",
   "execution_count": 6,
   "metadata": {},
   "outputs": [],
   "source": [
    "#function to create a 'sequential' models with list of dense layers \n",
    "def define_model(hidden_neurons, tensorboard_output):\n",
    "    \"\"\"\n",
    "    create a sequential models of dense layers with the given list of hidden plus output (=10) neurons\n",
    "    Arguments:\n",
    "    hidden_neurons -- list of hidden neurons including output (e.g. [150, 50, 10])\n",
    "    tensorboard_output -- index of layer with activations to be written to tensorboard\n",
    "    init -- type of initialsation (default 'Glorot')\n",
    "    \"\"\"\n",
    "    \n",
    "    initializer = tf.keras.initializers.GlorotNormal()\n",
    "    #initializer = tf.keras.initializers.RandomNormal(mean=0.0, stddev=1.0)\n",
    "        \n",
    "    layers = []\n",
    "    layers.append(tf.keras.layers.Flatten(input_shape=(28,28)))\n",
    "    for i0 in range(len(hidden_neurons)-1): \n",
    "        layers.append(tf.keras.layers.Dense(hidden_neurons[i0], activation='sigmoid', kernel_initializer=initializer))\n",
    "        layers.append(tf.keras.layers.Dropout(0.5))\n",
    "        if i0 == tensorboard_output:\n",
    "            layers.append(tf.keras.layers.Lambda(custom_summary))\n",
    "        \n",
    "    layers.append(tf.keras.layers.Dense(hidden_neurons[-1], activation=\"softmax\", name=\"softmax\"))\n",
    "    model = tf.keras.models.Sequential(layers)\n",
    "\n",
    "    print(model.summary())\n",
    "\n",
    "    return model"
   ]
  },
  {
   "cell_type": "markdown",
   "metadata": {},
   "source": [
    "### Define output folder and start training\n",
    "You have to start tensorboard on the command line (like jupyter notebook) using:\n",
    "\n",
    "tensorboard --logdir=\"path to log_dir below\"\n",
    "\n",
    "(double quotations \" \" are used under windows, check for different conventions on other OS)"
   ]
  },
  {
   "cell_type": "code",
   "execution_count": 7,
   "metadata": {},
   "outputs": [],
   "source": [
    "# Learning rate scheduler\n",
    "def scheduler(epoch, lr):\n",
    "    if epoch >= 0 and epoch <= 20:\n",
    "        return 0.1\n",
    "    elif epoch >= 21 and epoch <= 40:\n",
    "        return 0.05\n",
    "    elif epoch >= 41 and epoch <=70:\n",
    "        return 0.01\n",
    "    else:\n",
    "        return lr\n",
    "\n",
    "scheduler = tf.keras.callbacks.LearningRateScheduler(scheduler)\n"
   ]
  },
  {
   "cell_type": "code",
   "execution_count": 8,
   "metadata": {
    "scrolled": true
   },
   "outputs": [
    {
     "name": "stdout",
     "output_type": "stream",
     "text": [
      "Model: \"sequential\"\n",
      "_________________________________________________________________\n",
      "Layer (type)                 Output Shape              Param #   \n",
      "=================================================================\n",
      "flatten (Flatten)            (None, 784)               0         \n",
      "_________________________________________________________________\n",
      "dense (Dense)                (None, 150)               117750    \n",
      "_________________________________________________________________\n",
      "dropout (Dropout)            (None, 150)               0         \n",
      "_________________________________________________________________\n",
      "dense_1 (Dense)              (None, 100)               15100     \n",
      "_________________________________________________________________\n",
      "dropout_1 (Dropout)          (None, 100)               0         \n",
      "_________________________________________________________________\n",
      "dense_2 (Dense)              (None, 50)                5050      \n",
      "_________________________________________________________________\n",
      "dropout_2 (Dropout)          (None, 50)                0         \n",
      "_________________________________________________________________\n",
      "softmax (Dense)              (None, 10)                510       \n",
      "=================================================================\n",
      "Total params: 138,410\n",
      "Trainable params: 138,410\n",
      "Non-trainable params: 0\n",
      "_________________________________________________________________\n",
      "None\n",
      "Epoch 1/50\n",
      "2975/2975 [==============================] - 8s 2ms/step - loss: 2.3403 - accuracy: 0.1047 - val_loss: 2.2804 - val_accuracy: 0.2088\n",
      "Epoch 2/50\n",
      "2975/2975 [==============================] - 6s 2ms/step - loss: 2.0459 - accuracy: 0.2340 - val_loss: 0.9943 - val_accuracy: 0.6257\n",
      "Epoch 3/50\n",
      "2975/2975 [==============================] - 6s 2ms/step - loss: 1.1844 - accuracy: 0.5630 - val_loss: 0.8351 - val_accuracy: 0.6858\n",
      "Epoch 4/50\n",
      "2975/2975 [==============================] - 6s 2ms/step - loss: 0.9547 - accuracy: 0.6773 - val_loss: 0.6172 - val_accuracy: 0.8037\n",
      "Epoch 5/50\n",
      "2975/2975 [==============================] - 5s 2ms/step - loss: 0.8264 - accuracy: 0.7383 - val_loss: 0.5243 - val_accuracy: 0.8513\n",
      "Epoch 6/50\n",
      "2975/2975 [==============================] - 5s 2ms/step - loss: 0.7328 - accuracy: 0.7758 - val_loss: 0.4856 - val_accuracy: 0.8567\n",
      "Epoch 7/50\n",
      "2975/2975 [==============================] - 5s 2ms/step - loss: 0.6785 - accuracy: 0.7986 - val_loss: 0.4315 - val_accuracy: 0.8750\n",
      "Epoch 8/50\n",
      "2975/2975 [==============================] - 5s 2ms/step - loss: 0.6326 - accuracy: 0.8135 - val_loss: 0.3956 - val_accuracy: 0.8913\n",
      "Epoch 9/50\n",
      "2975/2975 [==============================] - 5s 2ms/step - loss: 0.6035 - accuracy: 0.8257 - val_loss: 0.4098 - val_accuracy: 0.8838\n",
      "Epoch 10/50\n",
      "2975/2975 [==============================] - 5s 2ms/step - loss: 0.5681 - accuracy: 0.8341 - val_loss: 0.3496 - val_accuracy: 0.9031\n",
      "Epoch 11/50\n",
      "2975/2975 [==============================] - 5s 2ms/step - loss: 0.5494 - accuracy: 0.8428 - val_loss: 0.3636 - val_accuracy: 0.8959\n",
      "Epoch 12/50\n",
      "2975/2975 [==============================] - 5s 2ms/step - loss: 0.5209 - accuracy: 0.8515 - val_loss: 0.3087 - val_accuracy: 0.9142\n",
      "Epoch 13/50\n",
      "2975/2975 [==============================] - 5s 2ms/step - loss: 0.5073 - accuracy: 0.8572 - val_loss: 0.3266 - val_accuracy: 0.9083\n",
      "Epoch 14/50\n",
      "2975/2975 [==============================] - 5s 2ms/step - loss: 0.4884 - accuracy: 0.8621 - val_loss: 0.3027 - val_accuracy: 0.9145\n",
      "Epoch 15/50\n",
      "2975/2975 [==============================] - 5s 2ms/step - loss: 0.4762 - accuracy: 0.8668 - val_loss: 0.2873 - val_accuracy: 0.9204\n",
      "Epoch 16/50\n",
      "2975/2975 [==============================] - 5s 2ms/step - loss: 0.4530 - accuracy: 0.8736 - val_loss: 0.2738 - val_accuracy: 0.9229\n",
      "Epoch 17/50\n",
      "2975/2975 [==============================] - 5s 2ms/step - loss: 0.4459 - accuracy: 0.8709 - val_loss: 0.2726 - val_accuracy: 0.9239\n",
      "Epoch 18/50\n",
      "2975/2975 [==============================] - 5s 2ms/step - loss: 0.4357 - accuracy: 0.8793 - val_loss: 0.2619 - val_accuracy: 0.9262\n",
      "Epoch 19/50\n",
      "2975/2975 [==============================] - 5s 2ms/step - loss: 0.4263 - accuracy: 0.8812 - val_loss: 0.2665 - val_accuracy: 0.9238\n",
      "Epoch 20/50\n",
      "2975/2975 [==============================] - 5s 2ms/step - loss: 0.4140 - accuracy: 0.8879 - val_loss: 0.2490 - val_accuracy: 0.9304\n",
      "Epoch 21/50\n",
      "2975/2975 [==============================] - 5s 2ms/step - loss: 0.3931 - accuracy: 0.8905 - val_loss: 0.2602 - val_accuracy: 0.9219\n",
      "Epoch 22/50\n",
      "2975/2975 [==============================] - 5s 2ms/step - loss: 0.4008 - accuracy: 0.8890 - val_loss: 0.2520 - val_accuracy: 0.9245\n",
      "Epoch 23/50\n",
      "2975/2975 [==============================] - 5s 2ms/step - loss: 0.3869 - accuracy: 0.8921 - val_loss: 0.2272 - val_accuracy: 0.9353\n",
      "Epoch 24/50\n",
      "2975/2975 [==============================] - 5s 2ms/step - loss: 0.3739 - accuracy: 0.8966 - val_loss: 0.2341 - val_accuracy: 0.9297\n",
      "Epoch 25/50\n",
      "2975/2975 [==============================] - 5s 2ms/step - loss: 0.3741 - accuracy: 0.8956 - val_loss: 0.2406 - val_accuracy: 0.9336\n",
      "Epoch 26/50\n",
      "2975/2975 [==============================] - 5s 2ms/step - loss: 0.3748 - accuracy: 0.8961 - val_loss: 0.2208 - val_accuracy: 0.9379\n",
      "Epoch 27/50\n",
      "2975/2975 [==============================] - 5s 2ms/step - loss: 0.3687 - accuracy: 0.8989 - val_loss: 0.2200 - val_accuracy: 0.9400\n",
      "Epoch 28/50\n",
      "2975/2975 [==============================] - 5s 2ms/step - loss: 0.3565 - accuracy: 0.9015 - val_loss: 0.2084 - val_accuracy: 0.9413\n",
      "Epoch 29/50\n",
      "2975/2975 [==============================] - 5s 2ms/step - loss: 0.3566 - accuracy: 0.8996 - val_loss: 0.2238 - val_accuracy: 0.9366\n",
      "Epoch 30/50\n",
      "2975/2975 [==============================] - 5s 2ms/step - loss: 0.3514 - accuracy: 0.9043 - val_loss: 0.2150 - val_accuracy: 0.9369\n",
      "Epoch 31/50\n",
      "2975/2975 [==============================] - 5s 2ms/step - loss: 0.3498 - accuracy: 0.9041 - val_loss: 0.2104 - val_accuracy: 0.9407\n",
      "Epoch 32/50\n",
      "2975/2975 [==============================] - 5s 2ms/step - loss: 0.3409 - accuracy: 0.9055 - val_loss: 0.2259 - val_accuracy: 0.9382\n",
      "Epoch 33/50\n",
      "2975/2975 [==============================] - 5s 2ms/step - loss: 0.3342 - accuracy: 0.9065 - val_loss: 0.1970 - val_accuracy: 0.9451\n",
      "Epoch 34/50\n",
      "2975/2975 [==============================] - 5s 2ms/step - loss: 0.3418 - accuracy: 0.9048 - val_loss: 0.2077 - val_accuracy: 0.9454\n",
      "Epoch 35/50\n",
      "2975/2975 [==============================] - 5s 2ms/step - loss: 0.3310 - accuracy: 0.9079 - val_loss: 0.2107 - val_accuracy: 0.9395\n",
      "Epoch 36/50\n",
      "2975/2975 [==============================] - 5s 2ms/step - loss: 0.3272 - accuracy: 0.9102 - val_loss: 0.1968 - val_accuracy: 0.9425\n",
      "Epoch 37/50\n",
      "2975/2975 [==============================] - 5s 2ms/step - loss: 0.3188 - accuracy: 0.9110 - val_loss: 0.1915 - val_accuracy: 0.9445\n",
      "Epoch 38/50\n",
      "2975/2975 [==============================] - 5s 2ms/step - loss: 0.3278 - accuracy: 0.9121 - val_loss: 0.1877 - val_accuracy: 0.9452\n",
      "Epoch 39/50\n",
      "2975/2975 [==============================] - 5s 2ms/step - loss: 0.3192 - accuracy: 0.9121 - val_loss: 0.1983 - val_accuracy: 0.9445\n",
      "Epoch 40/50\n",
      "2975/2975 [==============================] - 5s 2ms/step - loss: 0.3167 - accuracy: 0.9128 - val_loss: 0.1838 - val_accuracy: 0.9462\n",
      "Epoch 41/50\n",
      "2975/2975 [==============================] - 5s 2ms/step - loss: 0.2949 - accuracy: 0.9176 - val_loss: 0.1963 - val_accuracy: 0.9461\n",
      "Epoch 42/50\n",
      "2975/2975 [==============================] - 5s 2ms/step - loss: 0.3144 - accuracy: 0.9123 - val_loss: 0.1863 - val_accuracy: 0.9473\n",
      "Epoch 43/50\n",
      "2975/2975 [==============================] - 5s 2ms/step - loss: 0.3116 - accuracy: 0.9137 - val_loss: 0.1971 - val_accuracy: 0.9417\n",
      "Epoch 44/50\n",
      "2975/2975 [==============================] - 5s 2ms/step - loss: 0.3004 - accuracy: 0.9150 - val_loss: 0.1851 - val_accuracy: 0.9491\n",
      "Epoch 45/50\n",
      "2975/2975 [==============================] - 5s 2ms/step - loss: 0.3059 - accuracy: 0.9158 - val_loss: 0.1814 - val_accuracy: 0.9491\n",
      "Epoch 46/50\n",
      "2975/2975 [==============================] - 5s 2ms/step - loss: 0.2992 - accuracy: 0.9165 - val_loss: 0.1853 - val_accuracy: 0.9488\n",
      "Epoch 47/50\n",
      "2975/2975 [==============================] - 5s 2ms/step - loss: 0.3055 - accuracy: 0.9129 - val_loss: 0.1797 - val_accuracy: 0.9512\n"
     ]
    },
    {
     "name": "stdout",
     "output_type": "stream",
     "text": [
      "Epoch 48/50\n",
      "2975/2975 [==============================] - 5s 2ms/step - loss: 0.3012 - accuracy: 0.9162 - val_loss: 0.1783 - val_accuracy: 0.9488\n",
      "Epoch 49/50\n",
      "2975/2975 [==============================] - 5s 2ms/step - loss: 0.2939 - accuracy: 0.9174 - val_loss: 0.1899 - val_accuracy: 0.9472\n",
      "Epoch 50/50\n",
      "2975/2975 [==============================] - 5s 2ms/step - loss: 0.2936 - accuracy: 0.9202 - val_loss: 0.1786 - val_accuracy: 0.9499\n"
     ]
    }
   ],
   "source": [
    "#clear everything\n",
    "tf.keras.backend.clear_session()\n",
    "\n",
    "#you may have to delete the model to start from scratch\n",
    "#del model\n",
    "\n",
    "#output is written to the folder with name defined below\n",
    "name = 'mnist_tree_hidden_layer_scheduler'\n",
    "\n",
    "tensorboard = TensorBoard(\n",
    "        log_dir='./tensorboard/' + name + '/', \n",
    "        #update_freq='epoch', \n",
    "        update_freq=1, #in order to see output of Lambda layer upate_freq must be 1!\n",
    "        write_graph=True,\n",
    "        histogram_freq=1)\n",
    "\n",
    "#define suitable parameters ...\n",
    "hidden_neurons = [150, 100, 50, 10]\n",
    "#define layer index with activations to be logged to tensorboard\n",
    "tensorboard_output = 10\n",
    "\n",
    "#and create model\n",
    "model = define_model(hidden_neurons, tensorboard_output)\n",
    "\n",
    "learning_rate = 0.1\n",
    "batchsize = 16\n",
    "epochs = 50\n",
    "\n",
    "#choose the desired optimisers\n",
    "optimizer = tf.keras.optimizers.SGD(learning_rate=learning_rate)\n",
    "\n",
    "#Configures the model for training: set the optimiser and define loss function\n",
    "model.compile(optimizer=optimizer, loss='categorical_crossentropy', #'mean_squared_error'\n",
    "    metrics=['accuracy'])\n",
    "\n",
    "#now start training (you can choose the train/validation set split)\n",
    "history = model.fit(x_train, y_train, verbose = 1,\n",
    "                        validation_split=0.2, initial_epoch=0,\n",
    "                        batch_size=batchsize, callbacks=[tensorboard], epochs=epochs)\n",
    "    "
   ]
  },
  {
   "cell_type": "code",
   "execution_count": 9,
   "metadata": {},
   "outputs": [
    {
     "data": {
      "image/png": "[encoded data removed]",
      "text/plain": [
       "<Figure size 432x288 with 1 Axes>"
      ]
     },
     "metadata": {
      "needs_background": "light"
     },
     "output_type": "display_data"
    },
    {
     "data": {
      "image/png": "[encoded data removed]",
      "text/plain": [
       "<Figure size 432x288 with 1 Axes>"
      ]
     },
     "metadata": {
      "needs_background": "light"
     },
     "output_type": "display_data"
    }
   ],
   "source": [
    "plt.plot(history.history['accuracy'])\n",
    "plt.plot(history.history['val_accuracy'])\n",
    "plt.title('model accuracy')\n",
    "plt.ylabel('accuracy')\n",
    "plt.xlabel('epoch')\n",
    "plt.legend(['train', 'valid'], loc='lower right')\n",
    "plt.show()\n",
    "plt.plot(history.history['loss'])\n",
    "plt.plot(history.history['val_loss'])\n",
    "plt.title('model loss')\n",
    "plt.ylabel('loss')\n",
    "plt.xlabel('epoch')\n",
    "plt.legend(['train', 'valid'], loc='upper right')\n",
    "plt.show()"
   ]
  },
  {
   "cell_type": "code",
   "execution_count": 10,
   "metadata": {
    "scrolled": true
   },
   "outputs": [
    {
     "name": "stdout",
     "output_type": "stream",
     "text": [
      "329/329 [==============================] - 0s 726us/step - loss: 0.1820 - accuracy: 0.9505\n"
     ]
    },
    {
     "data": {
      "text/plain": [
       "[0.1820068657398224, 0.9504761695861816]"
      ]
     },
     "execution_count": 10,
     "metadata": {},
     "output_type": "execute_result"
    }
   ],
   "source": [
    "#finally evalute result on test set\n",
    "#you have to deactivate the Lambda layer (set tensorboard_output to value larger than maximum layer index)\n",
    "model.evaluate(x_test, y_test)"
   ]
  },
  {
   "cell_type": "code",
   "execution_count": null,
   "metadata": {},
   "outputs": [],
   "source": []
  }
 ],
 "metadata": {
  "kernelspec": {
   "display_name": "Python 3",
   "language": "python",
   "name": "python3"
  },
  "language_info": {
   "codemirror_mode": {
    "name": "ipython",
    "version": 3
   },
   "file_extension": ".py",
   "mimetype": "text/x-python",
   "name": "python",
   "nbconvert_exporter": "python",
   "pygments_lexer": "ipython3",
   "version": "3.8.5"
  }
 },
 "nbformat": 4,
 "nbformat_minor": 2
}
