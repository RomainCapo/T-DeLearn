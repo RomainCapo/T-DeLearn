{
 "cells": [
  {
   "cell_type": "markdown",
   "metadata": {},
   "source": [
    "## MNIST Classification using Tensorflow with Keras API"
   ]
  },
  {
   "cell_type": "code",
   "execution_count": 1,
   "metadata": {},
   "outputs": [],
   "source": [
    "#be sure to have installed tensorflow using conda (c.f. DL-PW-01.pdf , Exercise 1)\n",
    "import tensorflow as tf\n",
    "from tensorflow.keras.callbacks import TensorBoard \n",
    "import numpy as np\n",
    "from sklearn.model_selection import train_test_split\n",
    "import matplotlib.pyplot as plt"
   ]
  },
  {
   "cell_type": "markdown",
   "metadata": {},
   "source": [
    "### Load and prepare Data"
   ]
  },
  {
   "cell_type": "code",
   "execution_count": 2,
   "metadata": {},
   "outputs": [
    {
     "name": "stdout",
     "output_type": "stream",
     "text": [
      "(70000, 28, 28) (70000, 10)\n"
     ]
    }
   ],
   "source": [
    "#tf.keras provides different datasets  \n",
    "#https://www.tensorflow.org/api_docs/python/tf/keras/datasets\n",
    "mnist = tf.keras.datasets.mnist\n",
    "(x_train1, y_train1), (x_test1, y_test1) = mnist.load_data()\n",
    "\n",
    "#we merge data to have the same conditions as for numpy implementation\n",
    "x = np.concatenate((x_train1, x_test1), axis=0)\n",
    "y = np.concatenate((y_train1, y_test1), axis=0)\n",
    "\n",
    "#tf.keras has method to create onehot representation\n",
    "y = tf.keras.utils.to_categorical(y)\n",
    "\n",
    "print(x.shape, y.shape)"
   ]
  },
  {
   "cell_type": "code",
   "execution_count": 3,
   "metadata": {},
   "outputs": [
    {
     "name": "stdout",
     "output_type": "stream",
     "text": [
      "(59500, 28, 28) (10500, 28, 28) (59500, 10) (10500, 10)\n"
     ]
    }
   ],
   "source": [
    "#select training and test set (random_state sets the seed for reproducible results)\n",
    "\n",
    "from sklearn import model_selection as ms\n",
    "\n",
    "#define train and test split\n",
    "x_train, x_test, y_train, y_test = ms.train_test_split(x, y, \n",
    "                                     test_size=0.15, random_state=1)\n",
    "\n",
    "print(x_train.shape, x_test.shape, y_train.shape, y_test.shape)"
   ]
  },
  {
   "cell_type": "code",
   "execution_count": 4,
   "metadata": {},
   "outputs": [],
   "source": [
    "#perform normalisation\n",
    "\n",
    "xmax, xmin = np.max(x_train), np.min(x_train)\n",
    "x_train = 2*(x_train - xmin) / (xmax - xmin) - 1\n",
    "x_test = 2*(x_test - xmin) / (xmax - xmin) - 1"
   ]
  },
  {
   "cell_type": "markdown",
   "metadata": {},
   "source": [
    "### Function used for customised tensorboard feeback"
   ]
  },
  {
   "cell_type": "code",
   "execution_count": 5,
   "metadata": {},
   "outputs": [],
   "source": [
    "def custom_summary(input_activation):\n",
    "    \"\"\"\n",
    "    this function will be used in the Lamda type layer of the model below to provide customised output\n",
    "    to tensorboard; the input_activation will be displayed as histogram with the name 'display_name'\n",
    "    \"\"\"\n",
    "    tf.summary.histogram('activation',input_activation)\n",
    "    return input_activation"
   ]
  },
  {
   "cell_type": "markdown",
   "metadata": {},
   "source": [
    "### Define Model and Cost"
   ]
  },
  {
   "cell_type": "code",
   "execution_count": 6,
   "metadata": {},
   "outputs": [],
   "source": [
    "#function to create a 'sequential' models with list of dense layers \n",
    "def define_model(hidden_neurons, tensorboard_output):\n",
    "    \"\"\"\n",
    "    create a sequential models of dense layers with the given list of hidden plus output (=10) neurons\n",
    "    Arguments:\n",
    "    hidden_neurons -- list of hidden neurons including output (e.g. [150, 50, 10])\n",
    "    tensorboard_output -- index of layer with activations to be written to tensorboard\n",
    "    init -- type of initialsation (default 'Glorot')\n",
    "    \"\"\"\n",
    "    \n",
    "    #initializer = tf.keras.initializers.GlorotNormal()\n",
    "    initializer = tf.keras.initializers.RandomNormal(mean=0.0, stddev=1.0)\n",
    "        \n",
    "    layers = []\n",
    "    layers.append(tf.keras.layers.Flatten(input_shape=(28,28)))\n",
    "    for i0 in range(len(hidden_neurons)-1): \n",
    "        layers.append(tf.keras.layers.Dense(hidden_neurons[i0], activation='sigmoid', kernel_initializer=initializer))\n",
    "        layers.append(tf.keras.layers.Dropout(0.5))\n",
    "        if i0 == tensorboard_output:\n",
    "            layers.append(tf.keras.layers.Lambda(custom_summary))\n",
    "        \n",
    "    layers.append(tf.keras.layers.Dense(hidden_neurons[-1], activation=\"softmax\", name=\"softmax\"))\n",
    "    model = tf.keras.models.Sequential(layers)\n",
    "\n",
    "    print(model.summary())\n",
    "\n",
    "    return model"
   ]
  },
  {
   "cell_type": "markdown",
   "metadata": {},
   "source": [
    "### Define output folder and start training\n",
    "You have to start tensorboard on the command line (like jupyter notebook) using:\n",
    "\n",
    "tensorboard --logdir=\"path to log_dir below\"\n",
    "\n",
    "(double quotations \" \" are used under windows, check for different conventions on other OS)"
   ]
  },
  {
   "cell_type": "code",
   "execution_count": 30,
   "metadata": {},
   "outputs": [],
   "source": [
    "# Learning rate scheduler\n",
    "def scheduler(epoch, lr):\n",
    "    if epoch >= 0 and epoch <= 20:\n",
    "        return 0.1\n",
    "    elif epoch >= 21 and epoch <= 40:\n",
    "        return 0.05\n",
    "    elif epoch >= 41 and epoch <=70:\n",
    "        return 0.01\n",
    "    else:\n",
    "        return lr\n",
    "\n",
    "scheduler = tf.keras.callbacks.LearningRateScheduler(scheduler)\n"
   ]
  },
  {
   "cell_type": "code",
   "execution_count": 7,
   "metadata": {
    "scrolled": true
   },
   "outputs": [
    {
     "name": "stdout",
     "output_type": "stream",
     "text": [
      "Model: \"sequential\"\n",
      "_________________________________________________________________\n",
      "Layer (type)                 Output Shape              Param #   \n",
      "=================================================================\n",
      "flatten (Flatten)            (None, 784)               0         \n",
      "_________________________________________________________________\n",
      "dense (Dense)                (None, 150)               117750    \n",
      "_________________________________________________________________\n",
      "dropout (Dropout)            (None, 150)               0         \n",
      "_________________________________________________________________\n",
      "dense_1 (Dense)              (None, 100)               15100     \n",
      "_________________________________________________________________\n",
      "dropout_1 (Dropout)          (None, 100)               0         \n",
      "_________________________________________________________________\n",
      "dense_2 (Dense)              (None, 50)                5050      \n",
      "_________________________________________________________________\n",
      "dropout_2 (Dropout)          (None, 50)                0         \n",
      "_________________________________________________________________\n",
      "softmax (Dense)              (None, 10)                510       \n",
      "=================================================================\n",
      "Total params: 138,410\n",
      "Trainable params: 138,410\n",
      "Non-trainable params: 0\n",
      "_________________________________________________________________\n",
      "None\n",
      "Epoch 1/50\n",
      "2975/2975 [==============================] - 5s 1ms/step - loss: 2.4004 - accuracy: 0.1063 - val_loss: 2.2643 - val_accuracy: 0.1728\n",
      "Epoch 2/50\n",
      "2975/2975 [==============================] - 3s 1ms/step - loss: 2.3307 - accuracy: 0.1191 - val_loss: 2.2331 - val_accuracy: 0.1601\n",
      "Epoch 3/50\n",
      "2975/2975 [==============================] - 3s 1ms/step - loss: 2.3089 - accuracy: 0.1346 - val_loss: 2.1868 - val_accuracy: 0.2477\n",
      "Epoch 4/50\n",
      "2975/2975 [==============================] - 3s 1ms/step - loss: 2.2741 - accuracy: 0.1515 - val_loss: 2.0078 - val_accuracy: 0.3255\n",
      "Epoch 5/50\n",
      "2975/2975 [==============================] - 3s 1ms/step - loss: 2.2111 - accuracy: 0.1781 - val_loss: 1.7977 - val_accuracy: 0.3043\n",
      "Epoch 6/50\n",
      "2975/2975 [==============================] - 3s 1ms/step - loss: 2.0972 - accuracy: 0.2156 - val_loss: 1.6463 - val_accuracy: 0.4028\n",
      "Epoch 7/50\n",
      "2975/2975 [==============================] - 3s 1ms/step - loss: 1.9887 - accuracy: 0.2484 - val_loss: 1.5185 - val_accuracy: 0.4561\n",
      "Epoch 8/50\n",
      "2975/2975 [==============================] - 3s 1ms/step - loss: 1.8878 - accuracy: 0.2833 - val_loss: 1.4168 - val_accuracy: 0.4497\n",
      "Epoch 9/50\n",
      "2975/2975 [==============================] - 3s 1ms/step - loss: 1.8008 - accuracy: 0.3130 - val_loss: 1.3634 - val_accuracy: 0.4765\n",
      "Epoch 10/50\n",
      "2975/2975 [==============================] - 3s 1ms/step - loss: 1.7307 - accuracy: 0.3351 - val_loss: 1.2596 - val_accuracy: 0.4681\n",
      "Epoch 11/50\n",
      "2975/2975 [==============================] - 4s 1ms/step - loss: 1.6559 - accuracy: 0.3657 - val_loss: 1.1786 - val_accuracy: 0.5298\n",
      "Epoch 12/50\n",
      "2975/2975 [==============================] - 3s 1ms/step - loss: 1.5979 - accuracy: 0.3879 - val_loss: 1.1256 - val_accuracy: 0.5464\n",
      "Epoch 13/50\n",
      "2975/2975 [==============================] - 4s 1ms/step - loss: 1.5367 - accuracy: 0.4103 - val_loss: 1.0561 - val_accuracy: 0.5846\n",
      "Epoch 14/50\n",
      "2975/2975 [==============================] - 4s 1ms/step - loss: 1.4584 - accuracy: 0.4493 - val_loss: 1.0153 - val_accuracy: 0.5839\n",
      "Epoch 15/50\n",
      "2975/2975 [==============================] - 4s 1ms/step - loss: 1.4106 - accuracy: 0.4627 - val_loss: 0.9860 - val_accuracy: 0.6329\n",
      "Epoch 16/50\n",
      "2975/2975 [==============================] - 4s 1ms/step - loss: 1.3797 - accuracy: 0.4761 - val_loss: 0.9592 - val_accuracy: 0.6182\n",
      "Epoch 17/50\n",
      "2975/2975 [==============================] - 3s 1ms/step - loss: 1.3548 - accuracy: 0.4892 - val_loss: 0.9171 - val_accuracy: 0.6684\n",
      "Epoch 18/50\n",
      "2975/2975 [==============================] - 4s 1ms/step - loss: 1.3025 - accuracy: 0.5072 - val_loss: 0.8947 - val_accuracy: 0.6595\n",
      "Epoch 19/50\n",
      "2975/2975 [==============================] - 4s 1ms/step - loss: 1.2834 - accuracy: 0.5167 - val_loss: 0.8793 - val_accuracy: 0.6557\n",
      "Epoch 20/50\n",
      "2975/2975 [==============================] - 3s 1ms/step - loss: 1.2542 - accuracy: 0.5324 - val_loss: 0.8651 - val_accuracy: 0.6825\n",
      "Epoch 21/50\n",
      "2975/2975 [==============================] - 3s 1ms/step - loss: 1.2212 - accuracy: 0.5457 - val_loss: 0.8243 - val_accuracy: 0.6913\n",
      "Epoch 22/50\n",
      "2975/2975 [==============================] - 4s 1ms/step - loss: 1.2027 - accuracy: 0.5554 - val_loss: 0.8066 - val_accuracy: 0.7260\n",
      "Epoch 23/50\n",
      "2975/2975 [==============================] - 3s 1ms/step - loss: 1.1917 - accuracy: 0.5614 - val_loss: 0.8079 - val_accuracy: 0.7032\n",
      "Epoch 24/50\n",
      "2975/2975 [==============================] - 3s 1ms/step - loss: 1.1594 - accuracy: 0.5778 - val_loss: 0.7672 - val_accuracy: 0.7308\n",
      "Epoch 25/50\n",
      "2975/2975 [==============================] - 3s 1ms/step - loss: 1.1377 - accuracy: 0.5889 - val_loss: 0.7591 - val_accuracy: 0.7555\n",
      "Epoch 26/50\n",
      "2975/2975 [==============================] - 3s 1ms/step - loss: 1.1103 - accuracy: 0.6016 - val_loss: 0.7345 - val_accuracy: 0.7621\n",
      "Epoch 27/50\n",
      "2975/2975 [==============================] - 4s 1ms/step - loss: 1.0898 - accuracy: 0.6127 - val_loss: 0.7212 - val_accuracy: 0.7654\n",
      "Epoch 28/50\n",
      "2975/2975 [==============================] - 3s 1ms/step - loss: 1.0748 - accuracy: 0.6159 - val_loss: 0.6973 - val_accuracy: 0.7838\n",
      "Epoch 29/50\n",
      "2975/2975 [==============================] - 3s 1ms/step - loss: 1.0659 - accuracy: 0.6214 - val_loss: 0.6805 - val_accuracy: 0.7890\n",
      "Epoch 30/50\n",
      "2975/2975 [==============================] - 3s 1ms/step - loss: 1.0568 - accuracy: 0.6288 - val_loss: 0.6881 - val_accuracy: 0.7676\n",
      "Epoch 31/50\n",
      "2975/2975 [==============================] - 3s 1ms/step - loss: 1.0210 - accuracy: 0.6414 - val_loss: 0.6523 - val_accuracy: 0.7968\n",
      "Epoch 32/50\n",
      "2975/2975 [==============================] - 4s 1ms/step - loss: 1.0181 - accuracy: 0.6437 - val_loss: 0.6476 - val_accuracy: 0.8004\n",
      "Epoch 33/50\n",
      "2975/2975 [==============================] - 4s 1ms/step - loss: 1.0010 - accuracy: 0.6568 - val_loss: 0.6425 - val_accuracy: 0.7946\n",
      "Epoch 34/50\n",
      "2975/2975 [==============================] - 4s 1ms/step - loss: 0.9864 - accuracy: 0.6636 - val_loss: 0.5977 - val_accuracy: 0.8297\n",
      "Epoch 35/50\n",
      "2975/2975 [==============================] - 4s 1ms/step - loss: 0.9667 - accuracy: 0.6678 - val_loss: 0.6073 - val_accuracy: 0.8257\n",
      "Epoch 36/50\n",
      "2975/2975 [==============================] - 4s 1ms/step - loss: 0.9476 - accuracy: 0.6825 - val_loss: 0.5907 - val_accuracy: 0.8313\n",
      "Epoch 37/50\n",
      "2975/2975 [==============================] - 4s 1ms/step - loss: 0.9429 - accuracy: 0.6782 - val_loss: 0.5823 - val_accuracy: 0.8233\n",
      "Epoch 38/50\n",
      "2975/2975 [==============================] - 4s 1ms/step - loss: 0.9451 - accuracy: 0.6837 - val_loss: 0.5704 - val_accuracy: 0.8320\n",
      "Epoch 39/50\n",
      "2975/2975 [==============================] - 4s 1ms/step - loss: 0.9243 - accuracy: 0.6955 - val_loss: 0.5967 - val_accuracy: 0.8118\n",
      "Epoch 40/50\n",
      "2975/2975 [==============================] - 4s 1ms/step - loss: 0.8988 - accuracy: 0.7060 - val_loss: 0.5560 - val_accuracy: 0.8442\n",
      "Epoch 41/50\n",
      "2975/2975 [==============================] - 4s 1ms/step - loss: 0.9000 - accuracy: 0.7111 - val_loss: 0.5264 - val_accuracy: 0.8513\n",
      "Epoch 42/50\n",
      "2975/2975 [==============================] - 4s 1ms/step - loss: 0.8967 - accuracy: 0.7070 - val_loss: 0.5493 - val_accuracy: 0.8449\n",
      "Epoch 43/50\n",
      "2975/2975 [==============================] - 4s 1ms/step - loss: 0.8722 - accuracy: 0.7211 - val_loss: 0.5320 - val_accuracy: 0.8533\n",
      "Epoch 44/50\n",
      "2975/2975 [==============================] - 4s 1ms/step - loss: 0.8592 - accuracy: 0.7239 - val_loss: 0.5188 - val_accuracy: 0.8539\n",
      "Epoch 45/50\n",
      "2975/2975 [==============================] - 4s 1ms/step - loss: 0.8521 - accuracy: 0.7254 - val_loss: 0.5003 - val_accuracy: 0.8663\n",
      "Epoch 46/50\n",
      "2975/2975 [==============================] - 4s 1ms/step - loss: 0.8470 - accuracy: 0.7284 - val_loss: 0.4928 - val_accuracy: 0.8635\n",
      "Epoch 47/50\n",
      "2975/2975 [==============================] - 4s 1ms/step - loss: 0.8519 - accuracy: 0.7318 - val_loss: 0.4858 - val_accuracy: 0.8682\n"
     ]
    },
    {
     "name": "stdout",
     "output_type": "stream",
     "text": [
      "Epoch 48/50\n",
      "2975/2975 [==============================] - 4s 1ms/step - loss: 0.8383 - accuracy: 0.7369 - val_loss: 0.4768 - val_accuracy: 0.8671\n",
      "Epoch 49/50\n",
      "2975/2975 [==============================] - 4s 1ms/step - loss: 0.8274 - accuracy: 0.7391 - val_loss: 0.4771 - val_accuracy: 0.8710\n",
      "Epoch 50/50\n",
      "2975/2975 [==============================] - 4s 1ms/step - loss: 0.8017 - accuracy: 0.7485 - val_loss: 0.4845 - val_accuracy: 0.8677\n"
     ]
    }
   ],
   "source": [
    "#clear everything\n",
    "tf.keras.backend.clear_session()\n",
    "\n",
    "#you may have to delete the model to start from scratch\n",
    "#del model\n",
    "\n",
    "#output is written to the folder with name defined below\n",
    "name = 'mnist_tree_hidden_layer_random_normal_jdu'\n",
    "\n",
    "tensorboard = TensorBoard(\n",
    "        log_dir='./tensorboard/' + name + '/', \n",
    "        #update_freq='epoch', \n",
    "        update_freq=1, #in order to see output of Lambda layer upate_freq must be 1!\n",
    "        write_graph=True,\n",
    "        histogram_freq=1)\n",
    "\n",
    "#define suitable parameters ...\n",
    "hidden_neurons = [150, 100, 50, 10]\n",
    "#define layer index with activations to be logged to tensorboard\n",
    "tensorboard_output = 10\n",
    "\n",
    "#and create model\n",
    "model = define_model(hidden_neurons, tensorboard_output)\n",
    "\n",
    "learning_rate = 0.1\n",
    "batchsize = 16\n",
    "epochs = 50\n",
    "\n",
    "#choose the desired optimisers\n",
    "optimizer = tf.keras.optimizers.SGD(learning_rate=learning_rate)\n",
    "\n",
    "#Configures the model for training: set the optimiser and define loss function\n",
    "model.compile(optimizer=optimizer, loss='categorical_crossentropy', #'mean_squared_error'\n",
    "    metrics=['accuracy'])\n",
    "\n",
    "#now start training (you can choose the train/validation set split)\n",
    "history = model.fit(x_train, y_train, verbose = 1,\n",
    "                        validation_split=0.2, initial_epoch=0,\n",
    "                        batch_size=batchsize, callbacks=[tensorboard], epochs=epochs)\n",
    "    "
   ]
  },
  {
   "cell_type": "code",
   "execution_count": 8,
   "metadata": {},
   "outputs": [
    {
     "data": {
      "image/png": "[encoded data removed]",
      "text/plain": [
       "<Figure size 432x288 with 1 Axes>"
      ]
     },
     "metadata": {
      "needs_background": "light"
     },
     "output_type": "display_data"
    },
    {
     "data": {
      "image/png": "[encoded data removed]",
      "text/plain": [
       "<Figure size 432x288 with 1 Axes>"
      ]
     },
     "metadata": {
      "needs_background": "light"
     },
     "output_type": "display_data"
    }
   ],
   "source": [
    "plt.plot(history.history['accuracy'])\n",
    "plt.plot(history.history['val_accuracy'])\n",
    "plt.title('model accuracy')\n",
    "plt.ylabel('accuracy')\n",
    "plt.xlabel('epoch')\n",
    "plt.legend(['train', 'valid'], loc='lower right')\n",
    "plt.show()\n",
    "plt.plot(history.history['loss'])\n",
    "plt.plot(history.history['val_loss'])\n",
    "plt.title('model loss')\n",
    "plt.ylabel('loss')\n",
    "plt.xlabel('epoch')\n",
    "plt.legend(['train', 'valid'], loc='upper right')\n",
    "plt.show()"
   ]
  },
  {
   "cell_type": "code",
   "execution_count": 9,
   "metadata": {
    "scrolled": true
   },
   "outputs": [
    {
     "name": "stdout",
     "output_type": "stream",
     "text": [
      "329/329 [==============================] - 0s 794us/step - loss: 0.4937 - accuracy: 0.8611\n"
     ]
    },
    {
     "data": {
      "text/plain": [
       "[0.49365317821502686, 0.8611428737640381]"
      ]
     },
     "execution_count": 9,
     "metadata": {},
     "output_type": "execute_result"
    }
   ],
   "source": [
    "#finally evalute result on test set\n",
    "#you have to deactivate the Lambda layer (set tensorboard_output to value larger than maximum layer index)\n",
    "model.evaluate(x_test, y_test)"
   ]
  },
  {
   "cell_type": "code",
   "execution_count": null,
   "metadata": {},
   "outputs": [],
   "source": []
  },
  {
   "cell_type": "code",
   "execution_count": null,
   "metadata": {},
   "outputs": [],
   "source": []
  },
  {
   "cell_type": "code",
   "execution_count": null,
   "metadata": {},
   "outputs": [],
   "source": []
  }
 ],
 "metadata": {
  "kernelspec": {
   "display_name": "Python 3",
   "language": "python",
   "name": "python3"
  },
  "language_info": {
   "codemirror_mode": {
    "name": "ipython",
    "version": 3
   },
   "file_extension": ".py",
   "mimetype": "text/x-python",
   "name": "python",
   "nbconvert_exporter": "python",
   "pygments_lexer": "ipython3",
   "version": "3.8.5"
  }
 },
 "nbformat": 4,
 "nbformat_minor": 2
}
