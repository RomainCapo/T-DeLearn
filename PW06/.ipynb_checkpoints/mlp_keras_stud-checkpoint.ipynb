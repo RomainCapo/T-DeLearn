{
 "cells": [
  {
   "cell_type": "markdown",
   "metadata": {},
   "source": [
    "## MNIST Classification using Tensorflow with Keras API"
   ]
  },
  {
   "cell_type": "code",
   "execution_count": 1,
   "metadata": {},
   "outputs": [],
   "source": [
    "#be sure to have installed tensorflow using conda (c.f. DL-PW-01.pdf , Exercise 1)\n",
    "import tensorflow as tf\n",
    "from tensorflow.keras.callbacks import TensorBoard \n",
    "import numpy as np\n",
    "from sklearn.model_selection import train_test_split\n",
    "import matplotlib.pyplot as plt"
   ]
  },
  {
   "cell_type": "markdown",
   "metadata": {},
   "source": [
    "### Load and prepare Data"
   ]
  },
  {
   "cell_type": "code",
   "execution_count": 2,
   "metadata": {},
   "outputs": [
    {
     "name": "stdout",
     "output_type": "stream",
     "text": [
      "(70000, 28, 28) (70000, 10)\n"
     ]
    }
   ],
   "source": [
    "#tf.keras provides different datasets  \n",
    "#https://www.tensorflow.org/api_docs/python/tf/keras/datasets\n",
    "mnist = tf.keras.datasets.mnist\n",
    "(x_train1, y_train1), (x_test1, y_test1) = mnist.load_data()\n",
    "\n",
    "#we merge data to have the same conditions as for numpy implementation\n",
    "x = np.concatenate((x_train1, x_test1), axis=0)\n",
    "y = np.concatenate((y_train1, y_test1), axis=0)\n",
    "\n",
    "#tf.keras has method to create onehot representation\n",
    "y = tf.keras.utils.to_categorical(y)\n",
    "\n",
    "print(x.shape, y.shape)"
   ]
  },
  {
   "cell_type": "code",
   "execution_count": 3,
   "metadata": {},
   "outputs": [
    {
     "name": "stdout",
     "output_type": "stream",
     "text": [
      "(59500, 28, 28) (10500, 28, 28) (59500, 10) (10500, 10)\n"
     ]
    }
   ],
   "source": [
    "#select training and test set (random_state sets the seed for reproducible results)\n",
    "\n",
    "from sklearn import model_selection as ms\n",
    "\n",
    "#define train and test split\n",
    "x_train, x_test, y_train, y_test = ms.train_test_split(x, y, \n",
    "                                     test_size=0.15, random_state=1)\n",
    "\n",
    "print(x_train.shape, x_test.shape, y_train.shape, y_test.shape)"
   ]
  },
  {
   "cell_type": "code",
   "execution_count": 4,
   "metadata": {},
   "outputs": [],
   "source": [
    "#perform normalisation\n",
    "\n",
    "xmax, xmin = np.max(x_train), np.min(x_train)\n",
    "x_train = 2*(x_train - xmin) / (xmax - xmin) - 1\n",
    "x_test = 2*(x_test - xmin) / (xmax - xmin) - 1"
   ]
  },
  {
   "cell_type": "markdown",
   "metadata": {},
   "source": [
    "### Function used for customised tensorboard feeback"
   ]
  },
  {
   "cell_type": "code",
   "execution_count": 5,
   "metadata": {},
   "outputs": [],
   "source": [
    "def custom_summary(input_activation):\n",
    "    \"\"\"\n",
    "    this function will be used in the Lamda type layer of the model below to provide customised output\n",
    "    to tensorboard; the input_activation will be displayed as histogram with the name 'display_name'\n",
    "    \"\"\"\n",
    "    tf.summary.histogram('activation',input_activation)\n",
    "    return input_activation"
   ]
  },
  {
   "cell_type": "markdown",
   "metadata": {},
   "source": [
    "### Define Model and Cost"
   ]
  },
  {
   "cell_type": "code",
   "execution_count": 6,
   "metadata": {},
   "outputs": [],
   "source": [
    "#function to create a 'sequential' models with list of dense layers \n",
    "def define_model(hidden_neurons, tensorboard_output):\n",
    "    \"\"\"\n",
    "    create a sequential models of dense layers with the given list of hidden plus output (=10) neurons\n",
    "    Arguments:\n",
    "    hidden_neurons -- list of hidden neurons including output (e.g. [150, 50, 10])\n",
    "    tensorboard_output -- index of layer with activations to be written to tensorboard\n",
    "    init -- type of initialsation (default 'Glorot')\n",
    "    \"\"\"\n",
    "    \n",
    "    initializer = tf.keras.initializers.GlorotNormal()\n",
    "        \n",
    "    layers = []\n",
    "    layers.append(tf.keras.layers.Flatten(input_shape=(28,28)))\n",
    "    for i0 in range(len(hidden_neurons)-1): \n",
    "        layers.append(tf.keras.layers.Dense(hidden_neurons[i0], activation='sigmoid', kernel_initializer=initializer))\n",
    "        if i0 == tensorboard_output:\n",
    "            layers.append(tf.keras.layers.Lambda(custom_summary))\n",
    "        \n",
    "    layers.append(tf.keras.layers.Dense(hidden_neurons[-1], activation=\"softmax\", name=\"softmax\"))\n",
    "    model = tf.keras.models.Sequential(layers)\n",
    "\n",
    "    print(model.summary())\n",
    "\n",
    "    return model"
   ]
  },
  {
   "cell_type": "markdown",
   "metadata": {},
   "source": [
    "### Define output folder and start training\n",
    "You have to start tensorboard on the command line (like jupyter notebook) using:\n",
    "\n",
    "tensorboard --logdir=\"path to log_dir below\"\n",
    "\n",
    "(double quotations \" \" are used under windows, check for different conventions on other OS)"
   ]
  },
  {
   "cell_type": "code",
   "execution_count": 7,
   "metadata": {},
   "outputs": [
    {
     "name": "stdout",
     "output_type": "stream",
     "text": [
      "Model: \"sequential\"\n",
      "_________________________________________________________________\n",
      "Layer (type)                 Output Shape              Param #   \n",
      "=================================================================\n",
      "flatten (Flatten)            (None, 784)               0         \n",
      "_________________________________________________________________\n",
      "dense (Dense)                (None, 150)               117750    \n",
      "_________________________________________________________________\n",
      "dense_1 (Dense)              (None, 50)                7550      \n",
      "_________________________________________________________________\n",
      "lambda (Lambda)              (None, 50)                0         \n",
      "_________________________________________________________________\n",
      "softmax (Dense)              (None, 10)                510       \n",
      "=================================================================\n",
      "Total params: 125,810\n",
      "Trainable params: 125,810\n",
      "Non-trainable params: 0\n",
      "_________________________________________________________________\n",
      "None\n",
      "Epoch 1/20\n",
      "WARNING:tensorflow:\n",
      "The following Variables were used a Lambda layer's call (lambda), but\n",
      "are not present in its tracked objects:\n",
      "  <tf.Variable 'Variable:0' shape=() dtype=int64>\n",
      "It is possible that this is intended behavior, but it is more likely\n",
      "an omission. This is a strong indication that this layer should be\n",
      "formulated as a subclassed Layer rather than a Lambda layer.\n",
      "2975/2975 [==============================] - 24s 7ms/step - loss: 1.3312 - accuracy: 0.5545 - val_loss: 0.4110 - val_accuracy: 0.8742\n",
      "Epoch 2/20\n",
      "2975/2975 [==============================] - 25s 8ms/step - loss: 0.4153 - accuracy: 0.8717 - val_loss: 0.3206 - val_accuracy: 0.9049\n",
      "Epoch 3/20\n",
      "2975/2975 [==============================] - 23s 8ms/step - loss: 0.3172 - accuracy: 0.9037 - val_loss: 0.2506 - val_accuracy: 0.9259\n",
      "Epoch 4/20\n",
      "2975/2975 [==============================] - 20s 7ms/step - loss: 0.2678 - accuracy: 0.9169 - val_loss: 0.2540 - val_accuracy: 0.9220\n",
      "Epoch 5/20\n",
      "2975/2975 [==============================] - 19s 6ms/step - loss: 0.2332 - accuracy: 0.9269 - val_loss: 0.2055 - val_accuracy: 0.9390\n",
      "Epoch 6/20\n",
      "2975/2975 [==============================] - 17s 6ms/step - loss: 0.1994 - accuracy: 0.9381 - val_loss: 0.2300 - val_accuracy: 0.9285\n",
      "Epoch 7/20\n",
      "2975/2975 [==============================] - 19s 6ms/step - loss: 0.1828 - accuracy: 0.9421 - val_loss: 0.1906 - val_accuracy: 0.9429\n",
      "Epoch 8/20\n",
      "2975/2975 [==============================] - 16s 5ms/step - loss: 0.1722 - accuracy: 0.9472 - val_loss: 0.1595 - val_accuracy: 0.9514\n",
      "Epoch 9/20\n",
      "2975/2975 [==============================] - 18s 6ms/step - loss: 0.1558 - accuracy: 0.9515 - val_loss: 0.1547 - val_accuracy: 0.9520\n",
      "Epoch 10/20\n",
      "2975/2975 [==============================] - 19s 7ms/step - loss: 0.1451 - accuracy: 0.9552 - val_loss: 0.1451 - val_accuracy: 0.9566\n",
      "Epoch 11/20\n",
      "2975/2975 [==============================] - 16s 5ms/step - loss: 0.1381 - accuracy: 0.9575 - val_loss: 0.1373 - val_accuracy: 0.9576\n",
      "Epoch 12/20\n",
      "2975/2975 [==============================] - 14s 5ms/step - loss: 0.1322 - accuracy: 0.9590 - val_loss: 0.1311 - val_accuracy: 0.9603\n",
      "Epoch 13/20\n",
      "2975/2975 [==============================] - 12s 4ms/step - loss: 0.1188 - accuracy: 0.9630 - val_loss: 0.1251 - val_accuracy: 0.9624\n",
      "Epoch 14/20\n",
      "2975/2975 [==============================] - 17s 6ms/step - loss: 0.1104 - accuracy: 0.9654 - val_loss: 0.1399 - val_accuracy: 0.9573\n",
      "Epoch 15/20\n",
      "2975/2975 [==============================] - 19s 6ms/step - loss: 0.1082 - accuracy: 0.9667 - val_loss: 0.1269 - val_accuracy: 0.9610\n",
      "Epoch 16/20\n",
      "2975/2975 [==============================] - 17s 6ms/step - loss: 0.0969 - accuracy: 0.9697 - val_loss: 0.1244 - val_accuracy: 0.9627\n",
      "Epoch 17/20\n",
      "2975/2975 [==============================] - 19s 6ms/step - loss: 0.0995 - accuracy: 0.9680 - val_loss: 0.1349 - val_accuracy: 0.9593\n",
      "Epoch 18/20\n",
      "2975/2975 [==============================] - 20s 7ms/step - loss: 0.0952 - accuracy: 0.9703 - val_loss: 0.1192 - val_accuracy: 0.9658\n",
      "Epoch 19/20\n",
      "2975/2975 [==============================] - 20s 7ms/step - loss: 0.0877 - accuracy: 0.9724 - val_loss: 0.1172 - val_accuracy: 0.9634\n",
      "Epoch 20/20\n",
      "2975/2975 [==============================] - 22s 7ms/step - loss: 0.0834 - accuracy: 0.9731 - val_loss: 0.1210 - val_accuracy: 0.9647\n"
     ]
    }
   ],
   "source": [
    "#clear everything\n",
    "tf.keras.backend.clear_session()\n",
    "\n",
    "#you may have to delete the model to start from scratch\n",
    "#del model\n",
    "\n",
    "#output is written to the folder with name defined below\n",
    "name = 'mnist_one_hidden_layer'\n",
    "\n",
    "tensorboard = TensorBoard(\n",
    "        log_dir='./tensorboard/' + name + '/', \n",
    "        #update_freq='epoch', \n",
    "        update_freq=1, #in order to see output of Lambda layer upate_freq must be 1!\n",
    "        write_graph=True,\n",
    "        histogram_freq=1)\n",
    "\n",
    "#define suitable parameters ...\n",
    "hidden_neurons = [150, 50, 10]\n",
    "#define layer index with activations to be logged to tensorboard\n",
    "tensorboard_output = 10\n",
    "\n",
    "#and create model\n",
    "model = define_model(hidden_neurons, tensorboard_output)\n",
    "\n",
    "learning_rate = 0.1\n",
    "batchsize = 16\n",
    "epochs = 20\n",
    "\n",
    "#choose the desired optimisers\n",
    "optimizer = tf.keras.optimizers.SGD(learning_rate=learning_rate)\n",
    "\n",
    "#Configures the model for training: set the optimiser and define loss function\n",
    "model.compile(optimizer=optimizer, loss='categorical_crossentropy', #'mean_squared_error'\n",
    "    metrics=['accuracy'])\n",
    "\n",
    "#now start training (you can choose the train/validation set split)\n",
    "history = model.fit(x_train, y_train, verbose = 1,\n",
    "                        validation_split=0.2, initial_epoch=0,\n",
    "                        batch_size=batchsize, callbacks=[tensorboard], epochs=epochs)\n",
    "    "
   ]
  },
  {
   "cell_type": "code",
   "execution_count": 8,
   "metadata": {},
   "outputs": [
    {
     "data": {
      "image/png": "[encoded data removed]",
      "text/plain": [
       "<Figure size 432x288 with 1 Axes>"
      ]
     },
     "metadata": {
      "needs_background": "light"
     },
     "output_type": "display_data"
    },
    {
     "data": {
      "image/png": "[encoded data removed]",
      "text/plain": [
       "<Figure size 432x288 with 1 Axes>"
      ]
     },
     "metadata": {
      "needs_background": "light"
     },
     "output_type": "display_data"
    }
   ],
   "source": [
    "plt.plot(history.history['accuracy'])\n",
    "plt.plot(history.history['val_accuracy'])\n",
    "plt.title('model accuracy')\n",
    "plt.ylabel('accuracy')\n",
    "plt.xlabel('epoch')\n",
    "plt.legend(['train', 'valid'], loc='lower right')\n",
    "plt.show()\n",
    "plt.plot(history.history['loss'])\n",
    "plt.plot(history.history['val_loss'])\n",
    "plt.title('model loss')\n",
    "plt.ylabel('loss')\n",
    "plt.xlabel('epoch')\n",
    "plt.legend(['train', 'valid'], loc='upper right')\n",
    "plt.show()"
   ]
  },
  {
   "cell_type": "code",
   "execution_count": 9,
   "metadata": {
    "scrolled": true
   },
   "outputs": [
    {
     "ename": "NotFoundError",
     "evalue": " Resource localhost/_AnonymousVar19/N10tensorflow22SummaryWriterInterfaceE does not exist.\n\t [[{{node sequential/lambda/activation/write_summary/summary_cond/then/_0/sequential/lambda/activation/write_summary}}]] [Op:__inference_test_function_7327]\n\nFunction call stack:\ntest_function\n",
     "output_type": "error",
     "traceback": [
      "\u001b[0;31m---------------------------------------------------------------------------\u001b[0m",
      "\u001b[0;31mNotFoundError\u001b[0m                             Traceback (most recent call last)",
      "\u001b[0;32m<ipython-input-9-e731afa95156>\u001b[0m in \u001b[0;36m<module>\u001b[0;34m\u001b[0m\n\u001b[1;32m      1\u001b[0m \u001b[0;31m#finally evalute result on test set\u001b[0m\u001b[0;34m\u001b[0m\u001b[0;34m\u001b[0m\u001b[0;34m\u001b[0m\u001b[0m\n\u001b[1;32m      2\u001b[0m \u001b[0;31m#you have to deactivate the Lambda layer (set tensorboard_output to value larger than maximum layer index)\u001b[0m\u001b[0;34m\u001b[0m\u001b[0;34m\u001b[0m\u001b[0;34m\u001b[0m\u001b[0m\n\u001b[0;32m----> 3\u001b[0;31m \u001b[0mmodel\u001b[0m\u001b[0;34m.\u001b[0m\u001b[0mevaluate\u001b[0m\u001b[0;34m(\u001b[0m\u001b[0mx_test\u001b[0m\u001b[0;34m,\u001b[0m \u001b[0my_test\u001b[0m\u001b[0;34m)\u001b[0m\u001b[0;34m\u001b[0m\u001b[0;34m\u001b[0m\u001b[0m\n\u001b[0m",
      "\u001b[0;32m~/Desktop/master/T-DeLearn/venv/lib/python3.8/site-packages/tensorflow/python/keras/engine/training.py\u001b[0m in \u001b[0;36mevaluate\u001b[0;34m(self, x, y, batch_size, verbose, sample_weight, steps, callbacks, max_queue_size, workers, use_multiprocessing, return_dict)\u001b[0m\n\u001b[1;32m   1387\u001b[0m             \u001b[0;32mwith\u001b[0m \u001b[0mtrace\u001b[0m\u001b[0;34m.\u001b[0m\u001b[0mTrace\u001b[0m\u001b[0;34m(\u001b[0m\u001b[0;34m'test'\u001b[0m\u001b[0;34m,\u001b[0m \u001b[0mstep_num\u001b[0m\u001b[0;34m=\u001b[0m\u001b[0mstep\u001b[0m\u001b[0;34m,\u001b[0m \u001b[0m_r\u001b[0m\u001b[0;34m=\u001b[0m\u001b[0;36m1\u001b[0m\u001b[0;34m)\u001b[0m\u001b[0;34m:\u001b[0m\u001b[0;34m\u001b[0m\u001b[0;34m\u001b[0m\u001b[0m\n\u001b[1;32m   1388\u001b[0m               \u001b[0mcallbacks\u001b[0m\u001b[0;34m.\u001b[0m\u001b[0mon_test_batch_begin\u001b[0m\u001b[0;34m(\u001b[0m\u001b[0mstep\u001b[0m\u001b[0;34m)\u001b[0m\u001b[0;34m\u001b[0m\u001b[0;34m\u001b[0m\u001b[0m\n\u001b[0;32m-> 1389\u001b[0;31m               \u001b[0mtmp_logs\u001b[0m \u001b[0;34m=\u001b[0m \u001b[0mself\u001b[0m\u001b[0;34m.\u001b[0m\u001b[0mtest_function\u001b[0m\u001b[0;34m(\u001b[0m\u001b[0miterator\u001b[0m\u001b[0;34m)\u001b[0m\u001b[0;34m\u001b[0m\u001b[0;34m\u001b[0m\u001b[0m\n\u001b[0m\u001b[1;32m   1390\u001b[0m               \u001b[0;32mif\u001b[0m \u001b[0mdata_handler\u001b[0m\u001b[0;34m.\u001b[0m\u001b[0mshould_sync\u001b[0m\u001b[0;34m:\u001b[0m\u001b[0;34m\u001b[0m\u001b[0;34m\u001b[0m\u001b[0m\n\u001b[1;32m   1391\u001b[0m                 \u001b[0mcontext\u001b[0m\u001b[0;34m.\u001b[0m\u001b[0masync_wait\u001b[0m\u001b[0;34m(\u001b[0m\u001b[0;34m)\u001b[0m\u001b[0;34m\u001b[0m\u001b[0;34m\u001b[0m\u001b[0m\n",
      "\u001b[0;32m~/Desktop/master/T-DeLearn/venv/lib/python3.8/site-packages/tensorflow/python/eager/def_function.py\u001b[0m in \u001b[0;36m__call__\u001b[0;34m(self, *args, **kwds)\u001b[0m\n\u001b[1;32m    826\u001b[0m     \u001b[0mtracing_count\u001b[0m \u001b[0;34m=\u001b[0m \u001b[0mself\u001b[0m\u001b[0;34m.\u001b[0m\u001b[0mexperimental_get_tracing_count\u001b[0m\u001b[0;34m(\u001b[0m\u001b[0;34m)\u001b[0m\u001b[0;34m\u001b[0m\u001b[0;34m\u001b[0m\u001b[0m\n\u001b[1;32m    827\u001b[0m     \u001b[0;32mwith\u001b[0m \u001b[0mtrace\u001b[0m\u001b[0;34m.\u001b[0m\u001b[0mTrace\u001b[0m\u001b[0;34m(\u001b[0m\u001b[0mself\u001b[0m\u001b[0;34m.\u001b[0m\u001b[0m_name\u001b[0m\u001b[0;34m)\u001b[0m \u001b[0;32mas\u001b[0m \u001b[0mtm\u001b[0m\u001b[0;34m:\u001b[0m\u001b[0;34m\u001b[0m\u001b[0;34m\u001b[0m\u001b[0m\n\u001b[0;32m--> 828\u001b[0;31m       \u001b[0mresult\u001b[0m \u001b[0;34m=\u001b[0m \u001b[0mself\u001b[0m\u001b[0;34m.\u001b[0m\u001b[0m_call\u001b[0m\u001b[0;34m(\u001b[0m\u001b[0;34m*\u001b[0m\u001b[0margs\u001b[0m\u001b[0;34m,\u001b[0m \u001b[0;34m**\u001b[0m\u001b[0mkwds\u001b[0m\u001b[0;34m)\u001b[0m\u001b[0;34m\u001b[0m\u001b[0;34m\u001b[0m\u001b[0m\n\u001b[0m\u001b[1;32m    829\u001b[0m       \u001b[0mcompiler\u001b[0m \u001b[0;34m=\u001b[0m \u001b[0;34m\"xla\"\u001b[0m \u001b[0;32mif\u001b[0m \u001b[0mself\u001b[0m\u001b[0;34m.\u001b[0m\u001b[0m_experimental_compile\u001b[0m \u001b[0;32melse\u001b[0m \u001b[0;34m\"nonXla\"\u001b[0m\u001b[0;34m\u001b[0m\u001b[0;34m\u001b[0m\u001b[0m\n\u001b[1;32m    830\u001b[0m       \u001b[0mnew_tracing_count\u001b[0m \u001b[0;34m=\u001b[0m \u001b[0mself\u001b[0m\u001b[0;34m.\u001b[0m\u001b[0mexperimental_get_tracing_count\u001b[0m\u001b[0;34m(\u001b[0m\u001b[0;34m)\u001b[0m\u001b[0;34m\u001b[0m\u001b[0;34m\u001b[0m\u001b[0m\n",
      "\u001b[0;32m~/Desktop/master/T-DeLearn/venv/lib/python3.8/site-packages/tensorflow/python/eager/def_function.py\u001b[0m in \u001b[0;36m_call\u001b[0;34m(self, *args, **kwds)\u001b[0m\n\u001b[1;32m    860\u001b[0m       \u001b[0;31m# In this case we have not created variables on the first call. So we can\u001b[0m\u001b[0;34m\u001b[0m\u001b[0;34m\u001b[0m\u001b[0;34m\u001b[0m\u001b[0m\n\u001b[1;32m    861\u001b[0m       \u001b[0;31m# run the first trace but we should fail if variables are created.\u001b[0m\u001b[0;34m\u001b[0m\u001b[0;34m\u001b[0m\u001b[0;34m\u001b[0m\u001b[0m\n\u001b[0;32m--> 862\u001b[0;31m       \u001b[0mresults\u001b[0m \u001b[0;34m=\u001b[0m \u001b[0mself\u001b[0m\u001b[0;34m.\u001b[0m\u001b[0m_stateful_fn\u001b[0m\u001b[0;34m(\u001b[0m\u001b[0;34m*\u001b[0m\u001b[0margs\u001b[0m\u001b[0;34m,\u001b[0m \u001b[0;34m**\u001b[0m\u001b[0mkwds\u001b[0m\u001b[0;34m)\u001b[0m\u001b[0;34m\u001b[0m\u001b[0;34m\u001b[0m\u001b[0m\n\u001b[0m\u001b[1;32m    863\u001b[0m       \u001b[0;32mif\u001b[0m \u001b[0mself\u001b[0m\u001b[0;34m.\u001b[0m\u001b[0m_created_variables\u001b[0m\u001b[0;34m:\u001b[0m\u001b[0;34m\u001b[0m\u001b[0;34m\u001b[0m\u001b[0m\n\u001b[1;32m    864\u001b[0m         raise ValueError(\"Creating variables on a non-first call to a function\"\n",
      "\u001b[0;32m~/Desktop/master/T-DeLearn/venv/lib/python3.8/site-packages/tensorflow/python/eager/function.py\u001b[0m in \u001b[0;36m__call__\u001b[0;34m(self, *args, **kwargs)\u001b[0m\n\u001b[1;32m   2940\u001b[0m       (graph_function,\n\u001b[1;32m   2941\u001b[0m        filtered_flat_args) = self._maybe_define_function(args, kwargs)\n\u001b[0;32m-> 2942\u001b[0;31m     return graph_function._call_flat(\n\u001b[0m\u001b[1;32m   2943\u001b[0m         filtered_flat_args, captured_inputs=graph_function.captured_inputs)  # pylint: disable=protected-access\n\u001b[1;32m   2944\u001b[0m \u001b[0;34m\u001b[0m\u001b[0m\n",
      "\u001b[0;32m~/Desktop/master/T-DeLearn/venv/lib/python3.8/site-packages/tensorflow/python/eager/function.py\u001b[0m in \u001b[0;36m_call_flat\u001b[0;34m(self, args, captured_inputs, cancellation_manager)\u001b[0m\n\u001b[1;32m   1916\u001b[0m         and executing_eagerly):\n\u001b[1;32m   1917\u001b[0m       \u001b[0;31m# No tape is watching; skip to running the function.\u001b[0m\u001b[0;34m\u001b[0m\u001b[0;34m\u001b[0m\u001b[0;34m\u001b[0m\u001b[0m\n\u001b[0;32m-> 1918\u001b[0;31m       return self._build_call_outputs(self._inference_function.call(\n\u001b[0m\u001b[1;32m   1919\u001b[0m           ctx, args, cancellation_manager=cancellation_manager))\n\u001b[1;32m   1920\u001b[0m     forward_backward = self._select_forward_and_backward_functions(\n",
      "\u001b[0;32m~/Desktop/master/T-DeLearn/venv/lib/python3.8/site-packages/tensorflow/python/eager/function.py\u001b[0m in \u001b[0;36mcall\u001b[0;34m(self, ctx, args, cancellation_manager)\u001b[0m\n\u001b[1;32m    553\u001b[0m       \u001b[0;32mwith\u001b[0m \u001b[0m_InterpolateFunctionError\u001b[0m\u001b[0;34m(\u001b[0m\u001b[0mself\u001b[0m\u001b[0;34m)\u001b[0m\u001b[0;34m:\u001b[0m\u001b[0;34m\u001b[0m\u001b[0;34m\u001b[0m\u001b[0m\n\u001b[1;32m    554\u001b[0m         \u001b[0;32mif\u001b[0m \u001b[0mcancellation_manager\u001b[0m \u001b[0;32mis\u001b[0m \u001b[0;32mNone\u001b[0m\u001b[0;34m:\u001b[0m\u001b[0;34m\u001b[0m\u001b[0;34m\u001b[0m\u001b[0m\n\u001b[0;32m--> 555\u001b[0;31m           outputs = execute.execute(\n\u001b[0m\u001b[1;32m    556\u001b[0m               \u001b[0mstr\u001b[0m\u001b[0;34m(\u001b[0m\u001b[0mself\u001b[0m\u001b[0;34m.\u001b[0m\u001b[0msignature\u001b[0m\u001b[0;34m.\u001b[0m\u001b[0mname\u001b[0m\u001b[0;34m)\u001b[0m\u001b[0;34m,\u001b[0m\u001b[0;34m\u001b[0m\u001b[0;34m\u001b[0m\u001b[0m\n\u001b[1;32m    557\u001b[0m               \u001b[0mnum_outputs\u001b[0m\u001b[0;34m=\u001b[0m\u001b[0mself\u001b[0m\u001b[0;34m.\u001b[0m\u001b[0m_num_outputs\u001b[0m\u001b[0;34m,\u001b[0m\u001b[0;34m\u001b[0m\u001b[0;34m\u001b[0m\u001b[0m\n",
      "\u001b[0;32m~/Desktop/master/T-DeLearn/venv/lib/python3.8/site-packages/tensorflow/python/eager/execute.py\u001b[0m in \u001b[0;36mquick_execute\u001b[0;34m(op_name, num_outputs, inputs, attrs, ctx, name)\u001b[0m\n\u001b[1;32m     57\u001b[0m   \u001b[0;32mtry\u001b[0m\u001b[0;34m:\u001b[0m\u001b[0;34m\u001b[0m\u001b[0;34m\u001b[0m\u001b[0m\n\u001b[1;32m     58\u001b[0m     \u001b[0mctx\u001b[0m\u001b[0;34m.\u001b[0m\u001b[0mensure_initialized\u001b[0m\u001b[0;34m(\u001b[0m\u001b[0;34m)\u001b[0m\u001b[0;34m\u001b[0m\u001b[0;34m\u001b[0m\u001b[0m\n\u001b[0;32m---> 59\u001b[0;31m     tensors = pywrap_tfe.TFE_Py_Execute(ctx._handle, device_name, op_name,\n\u001b[0m\u001b[1;32m     60\u001b[0m                                         inputs, attrs, num_outputs)\n\u001b[1;32m     61\u001b[0m   \u001b[0;32mexcept\u001b[0m \u001b[0mcore\u001b[0m\u001b[0;34m.\u001b[0m\u001b[0m_NotOkStatusException\u001b[0m \u001b[0;32mas\u001b[0m \u001b[0me\u001b[0m\u001b[0;34m:\u001b[0m\u001b[0;34m\u001b[0m\u001b[0;34m\u001b[0m\u001b[0m\n",
      "\u001b[0;31mNotFoundError\u001b[0m:  Resource localhost/_AnonymousVar19/N10tensorflow22SummaryWriterInterfaceE does not exist.\n\t [[{{node sequential/lambda/activation/write_summary/summary_cond/then/_0/sequential/lambda/activation/write_summary}}]] [Op:__inference_test_function_7327]\n\nFunction call stack:\ntest_function\n"
     ]
    }
   ],
   "source": [
    "#finally evalute result on test set\n",
    "#you have to deactivate the Lambda layer (set tensorboard_output to value larger than maximum layer index)\n",
    "model.evaluate(x_test, y_test)"
   ]
  },
  {
   "cell_type": "code",
   "execution_count": null,
   "metadata": {},
   "outputs": [],
   "source": []
  }
 ],
 "metadata": {
  "kernelspec": {
   "display_name": "Python 3",
   "language": "python",
   "name": "python3"
  },
  "language_info": {
   "codemirror_mode": {
    "name": "ipython",
    "version": 3
   },
   "file_extension": ".py",
   "mimetype": "text/x-python",
   "name": "python",
   "nbconvert_exporter": "python",
   "pygments_lexer": "ipython3",
   "version": "3.8.5"
  }
 },
 "nbformat": 4,
 "nbformat_minor": 2
}
