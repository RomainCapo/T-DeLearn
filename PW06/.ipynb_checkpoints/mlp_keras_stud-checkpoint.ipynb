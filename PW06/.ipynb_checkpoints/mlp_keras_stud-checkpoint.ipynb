{
 "cells": [
  {
   "cell_type": "markdown",
   "metadata": {},
   "source": [
    "## MNIST Classification using Tensorflow with Keras API"
   ]
  },
  {
   "cell_type": "code",
   "execution_count": 1,
   "metadata": {},
   "outputs": [],
   "source": [
    "#be sure to have installed tensorflow using conda (c.f. DL-PW-01.pdf , Exercise 1)\n",
    "import tensorflow as tf\n",
    "from tensorflow.keras.callbacks import TensorBoard \n",
    "import numpy as np\n",
    "from sklearn.model_selection import train_test_split\n",
    "import matplotlib.pyplot as plt"
   ]
  },
  {
   "cell_type": "markdown",
   "metadata": {},
   "source": [
    "### Load and prepare Data"
   ]
  },
  {
   "cell_type": "code",
   "execution_count": 2,
   "metadata": {},
   "outputs": [
    {
     "name": "stdout",
     "output_type": "stream",
     "text": [
      "(70000, 28, 28) (70000, 10)\n"
     ]
    }
   ],
   "source": [
    "#tf.keras provides different datasets  \n",
    "#https://www.tensorflow.org/api_docs/python/tf/keras/datasets\n",
    "mnist = tf.keras.datasets.mnist\n",
    "(x_train1, y_train1), (x_test1, y_test1) = mnist.load_data()\n",
    "\n",
    "#we merge data to have the same conditions as for numpy implementation\n",
    "x = np.concatenate((x_train1, x_test1), axis=0)\n",
    "y = np.concatenate((y_train1, y_test1), axis=0)\n",
    "\n",
    "#tf.keras has method to create onehot representation\n",
    "y = tf.keras.utils.to_categorical(y)\n",
    "\n",
    "print(x.shape, y.shape)"
   ]
  },
  {
   "cell_type": "code",
   "execution_count": 3,
   "metadata": {},
   "outputs": [
    {
     "name": "stdout",
     "output_type": "stream",
     "text": [
      "(59500, 28, 28) (10500, 28, 28) (59500, 10) (10500, 10)\n"
     ]
    }
   ],
   "source": [
    "#select training and test set (random_state sets the seed for reproducible results)\n",
    "\n",
    "from sklearn import model_selection as ms\n",
    "\n",
    "#define train and test split\n",
    "x_train, x_test, y_train, y_test = ms.train_test_split(x, y, \n",
    "                                     test_size=0.15, random_state=1)\n",
    "\n",
    "print(x_train.shape, x_test.shape, y_train.shape, y_test.shape)"
   ]
  },
  {
   "cell_type": "code",
   "execution_count": 4,
   "metadata": {},
   "outputs": [],
   "source": [
    "#perform normalisation\n",
    "\n",
    "xmax, xmin = np.max(x_train), np.min(x_train)\n",
    "x_train = 2*(x_train - xmin) / (xmax - xmin) - 1\n",
    "x_test = 2*(x_test - xmin) / (xmax - xmin) - 1"
   ]
  },
  {
   "cell_type": "markdown",
   "metadata": {},
   "source": [
    "### Function used for customised tensorboard feeback"
   ]
  },
  {
   "cell_type": "code",
   "execution_count": 5,
   "metadata": {},
   "outputs": [],
   "source": [
    "def custom_summary(input_activation):\n",
    "    \"\"\"\n",
    "    this function will be used in the Lamda type layer of the model below to provide customised output\n",
    "    to tensorboard; the input_activation will be displayed as histogram with the name 'display_name'\n",
    "    \"\"\"\n",
    "    tf.summary.histogram('activation',input_activation)\n",
    "    return input_activation"
   ]
  },
  {
   "cell_type": "markdown",
   "metadata": {},
   "source": [
    "### Define Model and Cost"
   ]
  },
  {
   "cell_type": "code",
   "execution_count": 6,
   "metadata": {},
   "outputs": [],
   "source": [
    "#function to create a 'sequential' models with list of dense layers \n",
    "def define_model(hidden_neurons, tensorboard_output):\n",
    "    \"\"\"\n",
    "    create a sequential models of dense layers with the given list of hidden plus output (=10) neurons\n",
    "    Arguments:\n",
    "    hidden_neurons -- list of hidden neurons including output (e.g. [150, 50, 10])\n",
    "    tensorboard_output -- index of layer with activations to be written to tensorboard\n",
    "    init -- type of initialsation (default 'Glorot')\n",
    "    \"\"\"\n",
    "    \n",
    "    #initializer = tf.keras.initializers.GlorotNormal()\n",
    "    initializer = tf.keras.initializers.RandomNormal(mean=0.0, stddev=1.0)\n",
    "        \n",
    "    layers = []\n",
    "    layers.append(tf.keras.layers.Flatten(input_shape=(28,28)))\n",
    "    for i0 in range(len(hidden_neurons)-1): \n",
    "        layers.append(tf.keras.layers.Dense(hidden_neurons[i0], activation='sigmoid', kernel_initializer=initializer))\n",
    "        if i0 == tensorboard_output:\n",
    "            layers.append(tf.keras.layers.Lambda(custom_summary))\n",
    "        \n",
    "    layers.append(tf.keras.layers.Dense(hidden_neurons[-1], activation=\"softmax\", name=\"softmax\"))\n",
    "    model = tf.keras.models.Sequential(layers)\n",
    "\n",
    "    print(model.summary())\n",
    "\n",
    "    return model"
   ]
  },
  {
   "cell_type": "markdown",
   "metadata": {},
   "source": [
    "### Define output folder and start training\n",
    "You have to start tensorboard on the command line (like jupyter notebook) using:\n",
    "\n",
    "tensorboard --logdir=\"path to log_dir below\"\n",
    "\n",
    "(double quotations \" \" are used under windows, check for different conventions on other OS)"
   ]
  },
  {
   "cell_type": "code",
   "execution_count": 7,
   "metadata": {},
   "outputs": [],
   "source": [
    "# Learning rate scheduler\n",
    "def scheduler(epoch, lr):\n",
    "    if epoch >= 0 and epoch <= 20:\n",
    "        return 0.1\n",
    "    elif epoch >= 21 and epoch <= 40:\n",
    "        return 0.05\n",
    "    elif epoch >= 41 and epoch <=70:\n",
    "        return 0.01\n",
    "    else:\n",
    "        return lr\n",
    "\n",
    "scheduler = tf.keras.callbacks.LearningRateScheduler(scheduler)\n"
   ]
  },
  {
   "cell_type": "code",
   "execution_count": 8,
   "metadata": {
    "scrolled": true
   },
   "outputs": [
    {
     "name": "stdout",
     "output_type": "stream",
     "text": [
      "Model: \"sequential\"\n",
      "_________________________________________________________________\n",
      "Layer (type)                 Output Shape              Param #   \n",
      "=================================================================\n",
      "flatten (Flatten)            (None, 784)               0         \n",
      "_________________________________________________________________\n",
      "dense (Dense)                (None, 150)               117750    \n",
      "_________________________________________________________________\n",
      "dense_1 (Dense)              (None, 100)               15100     \n",
      "_________________________________________________________________\n",
      "dense_2 (Dense)              (None, 50)                5050      \n",
      "_________________________________________________________________\n",
      "softmax (Dense)              (None, 10)                510       \n",
      "=================================================================\n",
      "Total params: 138,410\n",
      "Trainable params: 138,410\n",
      "Non-trainable params: 0\n",
      "_________________________________________________________________\n",
      "None\n",
      "Epoch 1/70\n",
      "2975/2975 [==============================] - 6s 2ms/step - loss: 1.4530 - accuracy: 0.5112 - val_loss: 0.6673 - val_accuracy: 0.7855\n",
      "Epoch 2/70\n",
      "2975/2975 [==============================] - 4s 1ms/step - loss: 0.6155 - accuracy: 0.8034 - val_loss: 0.5019 - val_accuracy: 0.8408\n",
      "Epoch 3/70\n",
      "2975/2975 [==============================] - 5s 2ms/step - loss: 0.4800 - accuracy: 0.8505 - val_loss: 0.4857 - val_accuracy: 0.8440\n",
      "Epoch 4/70\n",
      "2975/2975 [==============================] - 5s 2ms/step - loss: 0.4272 - accuracy: 0.8656 - val_loss: 0.4142 - val_accuracy: 0.8742\n",
      "Epoch 5/70\n",
      "2975/2975 [==============================] - 5s 2ms/step - loss: 0.3773 - accuracy: 0.8799 - val_loss: 0.3961 - val_accuracy: 0.8745\n",
      "Epoch 6/70\n",
      "2975/2975 [==============================] - 5s 2ms/step - loss: 0.3483 - accuracy: 0.8916 - val_loss: 0.3535 - val_accuracy: 0.8918\n",
      "Epoch 7/70\n",
      "2975/2975 [==============================] - 5s 2ms/step - loss: 0.3289 - accuracy: 0.8982 - val_loss: 0.3369 - val_accuracy: 0.8979\n",
      "Epoch 8/70\n",
      "2975/2975 [==============================] - 5s 2ms/step - loss: 0.3071 - accuracy: 0.9045 - val_loss: 0.3303 - val_accuracy: 0.8983\n",
      "Epoch 9/70\n",
      "2975/2975 [==============================] - 4s 1ms/step - loss: 0.2909 - accuracy: 0.9107 - val_loss: 0.3242 - val_accuracy: 0.9019\n",
      "Epoch 10/70\n",
      "2975/2975 [==============================] - 5s 2ms/step - loss: 0.2695 - accuracy: 0.9152 - val_loss: 0.3149 - val_accuracy: 0.9028\n",
      "Epoch 11/70\n",
      "2975/2975 [==============================] - 5s 2ms/step - loss: 0.2613 - accuracy: 0.9187 - val_loss: 0.2793 - val_accuracy: 0.9166\n",
      "Epoch 12/70\n",
      "2975/2975 [==============================] - 4s 1ms/step - loss: 0.2551 - accuracy: 0.9213 - val_loss: 0.2782 - val_accuracy: 0.9134\n",
      "Epoch 13/70\n",
      "2975/2975 [==============================] - 4s 1ms/step - loss: 0.2418 - accuracy: 0.9249 - val_loss: 0.2760 - val_accuracy: 0.9164\n",
      "Epoch 14/70\n",
      "2975/2975 [==============================] - 4s 1ms/step - loss: 0.2314 - accuracy: 0.9276 - val_loss: 0.2630 - val_accuracy: 0.9204\n",
      "Epoch 15/70\n",
      "2975/2975 [==============================] - 4s 1ms/step - loss: 0.2169 - accuracy: 0.9328 - val_loss: 0.2801 - val_accuracy: 0.9138\n",
      "Epoch 16/70\n",
      "2975/2975 [==============================] - 4s 1ms/step - loss: 0.2216 - accuracy: 0.9304 - val_loss: 0.2537 - val_accuracy: 0.9258\n",
      "Epoch 17/70\n",
      "2975/2975 [==============================] - 4s 1ms/step - loss: 0.2099 - accuracy: 0.9342 - val_loss: 0.2516 - val_accuracy: 0.9223\n",
      "Epoch 18/70\n",
      "2975/2975 [==============================] - 4s 1ms/step - loss: 0.2069 - accuracy: 0.9348 - val_loss: 0.2509 - val_accuracy: 0.9250\n",
      "Epoch 19/70\n",
      "2975/2975 [==============================] - 4s 1ms/step - loss: 0.2000 - accuracy: 0.9367 - val_loss: 0.2584 - val_accuracy: 0.9236\n",
      "Epoch 20/70\n",
      "2975/2975 [==============================] - 4s 1ms/step - loss: 0.1931 - accuracy: 0.9372 - val_loss: 0.2399 - val_accuracy: 0.9273\n",
      "Epoch 21/70\n",
      "2975/2975 [==============================] - 4s 1ms/step - loss: 0.1885 - accuracy: 0.9410 - val_loss: 0.2368 - val_accuracy: 0.9288\n",
      "Epoch 22/70\n",
      "2975/2975 [==============================] - 4s 1ms/step - loss: 0.1628 - accuracy: 0.9482 - val_loss: 0.2278 - val_accuracy: 0.9325\n",
      "Epoch 23/70\n",
      "2975/2975 [==============================] - 4s 1ms/step - loss: 0.1540 - accuracy: 0.9524 - val_loss: 0.2264 - val_accuracy: 0.9319\n",
      "Epoch 24/70\n",
      "2975/2975 [==============================] - 4s 1ms/step - loss: 0.1478 - accuracy: 0.9535 - val_loss: 0.2168 - val_accuracy: 0.9338\n",
      "Epoch 25/70\n",
      "2975/2975 [==============================] - 4s 1ms/step - loss: 0.1477 - accuracy: 0.9542 - val_loss: 0.2184 - val_accuracy: 0.9342\n",
      "Epoch 26/70\n",
      "2975/2975 [==============================] - 4s 1ms/step - loss: 0.1446 - accuracy: 0.9541 - val_loss: 0.2219 - val_accuracy: 0.9335\n",
      "Epoch 27/70\n",
      "2975/2975 [==============================] - 4s 1ms/step - loss: 0.1396 - accuracy: 0.9558 - val_loss: 0.2146 - val_accuracy: 0.9360\n",
      "Epoch 28/70\n",
      "2975/2975 [==============================] - 4s 1ms/step - loss: 0.1373 - accuracy: 0.9569 - val_loss: 0.2257 - val_accuracy: 0.9328\n",
      "Epoch 29/70\n",
      "2975/2975 [==============================] - 5s 2ms/step - loss: 0.1390 - accuracy: 0.9549 - val_loss: 0.2129 - val_accuracy: 0.9355\n",
      "Epoch 30/70\n",
      "2975/2975 [==============================] - 5s 2ms/step - loss: 0.1323 - accuracy: 0.9573 - val_loss: 0.2130 - val_accuracy: 0.9354\n",
      "Epoch 31/70\n",
      "2975/2975 [==============================] - 5s 2ms/step - loss: 0.1368 - accuracy: 0.9574 - val_loss: 0.2062 - val_accuracy: 0.9382\n",
      "Epoch 32/70\n",
      "2975/2975 [==============================] - 5s 2ms/step - loss: 0.1362 - accuracy: 0.9576 - val_loss: 0.2067 - val_accuracy: 0.9384\n",
      "Epoch 33/70\n",
      "2975/2975 [==============================] - 4s 1ms/step - loss: 0.1213 - accuracy: 0.9620 - val_loss: 0.2142 - val_accuracy: 0.9361\n",
      "Epoch 34/70\n",
      "2975/2975 [==============================] - 4s 1ms/step - loss: 0.1286 - accuracy: 0.9601 - val_loss: 0.2092 - val_accuracy: 0.9379\n",
      "Epoch 35/70\n",
      "2975/2975 [==============================] - 5s 2ms/step - loss: 0.1236 - accuracy: 0.9614 - val_loss: 0.2175 - val_accuracy: 0.9350\n",
      "Epoch 36/70\n",
      "2975/2975 [==============================] - 4s 1ms/step - loss: 0.1190 - accuracy: 0.9626 - val_loss: 0.2070 - val_accuracy: 0.9402\n",
      "Epoch 37/70\n",
      "2975/2975 [==============================] - 4s 1ms/step - loss: 0.1196 - accuracy: 0.9625 - val_loss: 0.2049 - val_accuracy: 0.9393\n",
      "Epoch 38/70\n",
      "2975/2975 [==============================] - 5s 2ms/step - loss: 0.1186 - accuracy: 0.9637 - val_loss: 0.2101 - val_accuracy: 0.9370\n",
      "Epoch 39/70\n",
      "2975/2975 [==============================] - 5s 2ms/step - loss: 0.1167 - accuracy: 0.9637 - val_loss: 0.2068 - val_accuracy: 0.9372\n",
      "Epoch 40/70\n",
      "2975/2975 [==============================] - 4s 2ms/step - loss: 0.1112 - accuracy: 0.9655 - val_loss: 0.2060 - val_accuracy: 0.9400\n",
      "Epoch 41/70\n",
      "2975/2975 [==============================] - 5s 2ms/step - loss: 0.1090 - accuracy: 0.9663 - val_loss: 0.2054 - val_accuracy: 0.9389\n",
      "Epoch 42/70\n",
      "2975/2975 [==============================] - 4s 1ms/step - loss: 0.1008 - accuracy: 0.9705 - val_loss: 0.2009 - val_accuracy: 0.9410\n",
      "Epoch 43/70\n",
      "2975/2975 [==============================] - 4s 2ms/step - loss: 0.0951 - accuracy: 0.9730 - val_loss: 0.1993 - val_accuracy: 0.9418\n",
      "Epoch 44/70\n",
      "2975/2975 [==============================] - 4s 2ms/step - loss: 0.0956 - accuracy: 0.9715 - val_loss: 0.1996 - val_accuracy: 0.9416\n",
      "Epoch 45/70\n",
      "2975/2975 [==============================] - 4s 2ms/step - loss: 0.0951 - accuracy: 0.9725 - val_loss: 0.2010 - val_accuracy: 0.9419\n",
      "Epoch 46/70\n",
      "2975/2975 [==============================] - 4s 1ms/step - loss: 0.0894 - accuracy: 0.9742 - val_loss: 0.1985 - val_accuracy: 0.9413\n",
      "Epoch 47/70\n",
      "2975/2975 [==============================] - 4s 1ms/step - loss: 0.0943 - accuracy: 0.9727 - val_loss: 0.2004 - val_accuracy: 0.9405\n",
      "Epoch 48/70\n",
      "2975/2975 [==============================] - 4s 1ms/step - loss: 0.0892 - accuracy: 0.9730 - val_loss: 0.2004 - val_accuracy: 0.9408\n",
      "Epoch 49/70\n",
      "2975/2975 [==============================] - 5s 2ms/step - loss: 0.0888 - accuracy: 0.9748 - val_loss: 0.2013 - val_accuracy: 0.9404\n",
      "Epoch 50/70\n"
     ]
    },
    {
     "name": "stdout",
     "output_type": "stream",
     "text": [
      "2975/2975 [==============================] - 5s 2ms/step - loss: 0.0899 - accuracy: 0.9745 - val_loss: 0.2028 - val_accuracy: 0.9400\n",
      "Epoch 51/70\n",
      "2975/2975 [==============================] - 5s 2ms/step - loss: 0.0861 - accuracy: 0.9754 - val_loss: 0.2006 - val_accuracy: 0.9408\n",
      "Epoch 52/70\n",
      "2975/2975 [==============================] - 5s 2ms/step - loss: 0.0918 - accuracy: 0.9737 - val_loss: 0.2000 - val_accuracy: 0.9413\n",
      "Epoch 53/70\n",
      "2975/2975 [==============================] - 4s 1ms/step - loss: 0.0903 - accuracy: 0.9740 - val_loss: 0.2006 - val_accuracy: 0.9412\n",
      "Epoch 54/70\n",
      "2975/2975 [==============================] - 4s 1ms/step - loss: 0.0893 - accuracy: 0.9736 - val_loss: 0.2007 - val_accuracy: 0.9419\n",
      "Epoch 55/70\n",
      "2975/2975 [==============================] - 4s 1ms/step - loss: 0.0900 - accuracy: 0.9737 - val_loss: 0.2007 - val_accuracy: 0.9411\n",
      "Epoch 56/70\n",
      "2975/2975 [==============================] - 4s 2ms/step - loss: 0.0887 - accuracy: 0.9747 - val_loss: 0.2011 - val_accuracy: 0.9412\n",
      "Epoch 57/70\n",
      "2975/2975 [==============================] - 4s 1ms/step - loss: 0.0873 - accuracy: 0.9748 - val_loss: 0.2001 - val_accuracy: 0.9408\n",
      "Epoch 58/70\n",
      "2975/2975 [==============================] - 4s 1ms/step - loss: 0.0912 - accuracy: 0.9739 - val_loss: 0.2014 - val_accuracy: 0.9411\n",
      "Epoch 59/70\n",
      "2975/2975 [==============================] - 4s 1ms/step - loss: 0.0884 - accuracy: 0.9742 - val_loss: 0.2019 - val_accuracy: 0.9426\n",
      "Epoch 60/70\n",
      "2975/2975 [==============================] - 4s 1ms/step - loss: 0.0889 - accuracy: 0.9738 - val_loss: 0.2005 - val_accuracy: 0.9408\n",
      "Epoch 61/70\n",
      "2975/2975 [==============================] - 4s 1ms/step - loss: 0.0851 - accuracy: 0.9753 - val_loss: 0.2013 - val_accuracy: 0.9407\n",
      "Epoch 62/70\n",
      "2975/2975 [==============================] - 4s 1ms/step - loss: 0.0848 - accuracy: 0.9760 - val_loss: 0.2014 - val_accuracy: 0.9400\n",
      "Epoch 63/70\n",
      "2975/2975 [==============================] - 4s 1ms/step - loss: 0.0834 - accuracy: 0.9755 - val_loss: 0.2006 - val_accuracy: 0.9410\n",
      "Epoch 64/70\n",
      "2975/2975 [==============================] - 5s 2ms/step - loss: 0.0872 - accuracy: 0.9739 - val_loss: 0.2021 - val_accuracy: 0.9412\n",
      "Epoch 65/70\n",
      "2975/2975 [==============================] - 4s 1ms/step - loss: 0.0903 - accuracy: 0.9741 - val_loss: 0.2013 - val_accuracy: 0.9418\n",
      "Epoch 66/70\n",
      "2975/2975 [==============================] - 4s 1ms/step - loss: 0.0845 - accuracy: 0.9754 - val_loss: 0.2011 - val_accuracy: 0.9409\n",
      "Epoch 67/70\n",
      "2975/2975 [==============================] - 5s 2ms/step - loss: 0.0836 - accuracy: 0.9759 - val_loss: 0.2009 - val_accuracy: 0.9423\n",
      "Epoch 68/70\n",
      "2975/2975 [==============================] - 4s 1ms/step - loss: 0.0843 - accuracy: 0.9755 - val_loss: 0.2016 - val_accuracy: 0.9417\n",
      "Epoch 69/70\n",
      "2975/2975 [==============================] - 5s 2ms/step - loss: 0.0829 - accuracy: 0.9760 - val_loss: 0.2035 - val_accuracy: 0.9401\n",
      "Epoch 70/70\n",
      "2975/2975 [==============================] - 4s 2ms/step - loss: 0.0849 - accuracy: 0.9758 - val_loss: 0.2010 - val_accuracy: 0.9420\n"
     ]
    }
   ],
   "source": [
    "#clear everything\n",
    "tf.keras.backend.clear_session()\n",
    "\n",
    "#you may have to delete the model to start from scratch\n",
    "#del model\n",
    "\n",
    "#output is written to the folder with name defined below\n",
    "name = 'mnist_tree_hidden_layer_scheduler'\n",
    "\n",
    "tensorboard = TensorBoard(\n",
    "        log_dir='./tensorboard/' + name + '/', \n",
    "        #update_freq='epoch', \n",
    "        update_freq=1, #in order to see output of Lambda layer upate_freq must be 1!\n",
    "        write_graph=True,\n",
    "        histogram_freq=1)\n",
    "\n",
    "#define suitable parameters ...\n",
    "hidden_neurons = [150, 100, 50, 10]\n",
    "#define layer index with activations to be logged to tensorboard\n",
    "tensorboard_output = 10\n",
    "\n",
    "#and create model\n",
    "model = define_model(hidden_neurons, tensorboard_output)\n",
    "\n",
    "learning_rate = 0.1\n",
    "batchsize = 16\n",
    "epochs = 70\n",
    "\n",
    "#choose the desired optimisers\n",
    "optimizer = tf.keras.optimizers.SGD(learning_rate=learning_rate)\n",
    "\n",
    "#Configures the model for training: set the optimiser and define loss function\n",
    "model.compile(optimizer=optimizer, loss='categorical_crossentropy', #'mean_squared_error'\n",
    "    metrics=['accuracy'])\n",
    "\n",
    "#now start training (you can choose the train/validation set split)\n",
    "history = model.fit(x_train, y_train, verbose = 1,\n",
    "                        validation_split=0.2, initial_epoch=0,\n",
    "                        batch_size=batchsize, callbacks=[tensorboard, scheduler], epochs=epochs)\n",
    "    "
   ]
  },
  {
   "cell_type": "code",
   "execution_count": 9,
   "metadata": {},
   "outputs": [
    {
     "data": {
      "image/png": "[encoded data removed]",
      "text/plain": [
       "<Figure size 432x288 with 1 Axes>"
      ]
     },
     "metadata": {
      "needs_background": "light"
     },
     "output_type": "display_data"
    },
    {
     "data": {
      "image/png": "[encoded data removed]",
      "text/plain": [
       "<Figure size 432x288 with 1 Axes>"
      ]
     },
     "metadata": {
      "needs_background": "light"
     },
     "output_type": "display_data"
    }
   ],
   "source": [
    "plt.plot(history.history['accuracy'])\n",
    "plt.plot(history.history['val_accuracy'])\n",
    "plt.title('model accuracy')\n",
    "plt.ylabel('accuracy')\n",
    "plt.xlabel('epoch')\n",
    "plt.legend(['train', 'valid'], loc='lower right')\n",
    "plt.show()\n",
    "plt.plot(history.history['loss'])\n",
    "plt.plot(history.history['val_loss'])\n",
    "plt.title('model loss')\n",
    "plt.ylabel('loss')\n",
    "plt.xlabel('epoch')\n",
    "plt.legend(['train', 'valid'], loc='upper right')\n",
    "plt.show()"
   ]
  },
  {
   "cell_type": "code",
   "execution_count": 10,
   "metadata": {
    "scrolled": true
   },
   "outputs": [
    {
     "name": "stdout",
     "output_type": "stream",
     "text": [
      "329/329 [==============================] - 0s 631us/step - loss: 0.2092 - accuracy: 0.9411\n"
     ]
    },
    {
     "data": {
      "text/plain": [
       "[0.20921607315540314, 0.9411428570747375]"
      ]
     },
     "execution_count": 10,
     "metadata": {},
     "output_type": "execute_result"
    }
   ],
   "source": [
    "#finally evalute result on test set\n",
    "#you have to deactivate the Lambda layer (set tensorboard_output to value larger than maximum layer index)\n",
    "model.evaluate(x_test, y_test)"
   ]
  },
  {
   "cell_type": "code",
   "execution_count": null,
   "metadata": {},
   "outputs": [],
   "source": []
  }
 ],
 "metadata": {
  "kernelspec": {
   "display_name": "Python 3",
   "language": "python",
   "name": "python3"
  },
  "language_info": {
   "codemirror_mode": {
    "name": "ipython",
    "version": 3
   },
   "file_extension": ".py",
   "mimetype": "text/x-python",
   "name": "python",
   "nbconvert_exporter": "python",
   "pygments_lexer": "ipython3",
   "version": "3.8.5"
  }
 },
 "nbformat": 4,
 "nbformat_minor": 2
}
