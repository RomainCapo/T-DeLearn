{
 "cells": [
  {
   "cell_type": "markdown",
   "id": "worth-hampshire",
   "metadata": {},
   "source": [
    "## Universal Approximation Theorem - Gradient Descent Optimisation\n",
    "\n",
    "Here we study the possibility to approximate functions with a MLP with a single hidden layer (n1 hidden units).\n",
    "As activation functions, we use the sigmoid ('logit') function.\n",
    "\n",
    "We generate training data - by assuming a function on the unit interval [0,1]. Here, we provide two families of functions:\n",
    "* Beta distribution function: $b_{\\alpha,\\beta}(x)=x^\\alpha\\cdot(1-x)^\\beta$\n",
    "* Sine function: $sin_\\omega(x)=\\sin(2\\pi\\omega\\cdot x)$\n",
    "\n",
    "Finally, we use mini-batch-gradient descent to minimize MSE cost.\n",
    "\n",
    "Goals:\n",
    "* Learn how a given function can be represented with a single layer MLP;\n",
    "* Understand that, in principle, it can be learned from sample data;\n",
    "* Understand that the optimization based on plain gradient is not always straightforward; \n",
    "* Experience that the choice of the hyper-parameters number of hidden units, batchsize, learning rate is tricky. "
   ]
  },
  {
   "cell_type": "code",
   "execution_count": 42,
   "id": "written-swiss",
   "metadata": {},
   "outputs": [],
   "source": [
    "import numpy as np\n",
    "import matplotlib.pyplot as plt\n",
    "%matplotlib inline\n",
    "\n",
    "\n",
    "def plot_function(x,y):\n",
    "    plt.plot(x, y)\n",
    "    plt.xlabel('x')\n",
    "    plt.show()\n",
    "    \n",
    "def plot_compare_function(x,y1,y2, label1='', label2=''):\n",
    "    plt.plot(x, y1, label=label1)\n",
    "    plt.xlabel('x')\n",
    "    plt.plot(x, y2, label=label2)\n",
    "    if label1 and label2:\n",
    "        plt.legend()\n",
    "    plt.show()\n",
    "\n",
    "\n"
   ]
  },
  {
   "cell_type": "code",
   "execution_count": 43,
   "id": "figured-mounting",
   "metadata": {},
   "outputs": [],
   "source": [
    "def beta_fct(x,alpha,beta):\n",
    "    \"\"\"\n",
    "    Parameters:\n",
    "    x - input array\n",
    "    alpha, beta -- larger values lead to more pronounced peaks\n",
    "    \"\"\"\n",
    "    c = alpha/(alpha+beta)\n",
    "    norm = c**alpha*(1-c)**beta\n",
    "    return x**alpha*(1-x)**beta/norm\n",
    "\n",
    "\n",
    "def sin_fct(x,omega):\n",
    "    \"\"\"\n",
    "    Parameters:\n",
    "    x -- input array\n",
    "    omega -- frequency that defines the integer number of cycles within the unit interval\n",
    "    \"\"\"\n",
    "    return np.sin(x*2*np.pi*omega)\n",
    "\n",
    "\n",
    "def generate_inputs(m, func, random=True, vargs=None, sigmaY=0.0):\n",
    "    \"\"\"\n",
    "    Generates m (x,y=f(x))-samples by either generating random x-values in the unit interval (random=True) or by \n",
    "    generating a grid of such values. Then the y values (used as labels below) are created from the function object \n",
    "    `func`.\n",
    "    Parameter needed to define the function `func` can be passed as vargs-dict. \n",
    "    \"\"\"\n",
    "    if random:\n",
    "        x = np.random.rand(1,m)\n",
    "    else:\n",
    "        x = np.linspace(0,1,m).reshape(m,1)\n",
    "    y = func(x,**vargs) + sigmaY*np.random.randn(*(m,1))  \n",
    "    \n",
    "    return {'data_x': x, 'data_y':y}"
   ]
  },
  {
   "cell_type": "code",
   "execution_count": 44,
   "id": "satisfactory-tactics",
   "metadata": {},
   "outputs": [
    {
     "data": {
      "text/plain": [
       "[<matplotlib.lines.Line2D at 0x7f99ea44b790>]"
      ]
     },
     "execution_count": 44,
     "metadata": {},
     "output_type": "execute_result"
    },
    {
     "data": {
      "image/png": "[encoded data removed]",
      "text/plain": [
       "<Figure size 432x288 with 1 Axes>"
      ]
     },
     "metadata": {
      "needs_background": "light"
     },
     "output_type": "display_data"
    }
   ],
   "source": [
    "m = 100\n",
    "func = beta_fct\n",
    "vargs={'alpha':2.0,'beta':2.0}\n",
    "#func = sin_fct\n",
    "#vargs={'omega':1.0}\n",
    "\n",
    "\n",
    "data = generate_inputs(m,func,vargs=vargs, random=False, sigmaY=0.1)\n",
    "\n",
    "plt.plot(data['data_x'][:,0], data['data_y'][:,0],'+')"
   ]
  },
  {
   "cell_type": "code",
   "execution_count": 45,
   "id": "bronze-continent",
   "metadata": {},
   "outputs": [],
   "source": [
    "class MiniBatches:\n",
    "    \"\"\"\n",
    "    obtains x- and y-data in the constructor and returns a sample of batch_size with each call to next()\n",
    "    \"\"\"\n",
    "    def __init__(self, x, y, batch_size):\n",
    "        \"\"\"\n",
    "        constructor\n",
    "\n",
    "        Arguments:\n",
    "        x/y -- data\n",
    "        batch_size -- size of batch (0 means one single batch)\n",
    "        \"\"\"\n",
    "        self.x = x\n",
    "        self.y = y\n",
    "        m = x.shape[0]\n",
    "        self.indices = np.arange(m)\n",
    "        self.n = x.shape[1]\n",
    "        \n",
    "        if not batch_size:\n",
    "            self.batch_size = m\n",
    "            self.mb = 1\n",
    "        else:\n",
    "            self.batch_size = batch_size        \n",
    "            self.mb = int(m / self.batch_size)    \n",
    "            np.random.shuffle(self.indices)\n",
    "        \n",
    "        self.ib = 0\n",
    "\n",
    "    def number_of_batches(self):\n",
    "        return self.mb\n",
    "\n",
    "    def next(self):\n",
    "        it = self.indices[self.ib * self.batch_size:(self.ib + 1) * self.batch_size]\n",
    "        x_batch = self.x[it, :]\n",
    "        y_batch = self.y[it]\n",
    "        self.ib += 1\n",
    "\n",
    "        return {'x_batch': x_batch, 'y_batch': y_batch}"
   ]
  },
  {
   "cell_type": "markdown",
   "id": "latter-crystal",
   "metadata": {},
   "source": [
    "### Class GradientDescent\n",
    "\n",
    "This class summarises the gradient descent steps. The training and test data is given as dictionary (c.f. cell directly below the class definition for an example). The class can be called, however only a dummy implementation is given (weigths w and bias b are always 0). Replace the dummy parts with your own implementation and test it."
   ]
  },
  {
   "cell_type": "code",
   "execution_count": 46,
   "id": "supported-howard",
   "metadata": {},
   "outputs": [],
   "source": [
    "class GradientDescent:\n",
    "    \"\"\"\n",
    "    obtains train and test data in the constructor and does the gradient descend\n",
    "    \"\"\"\n",
    "\n",
    "    def __init__(self, data, alpha=0.1, batch_size=256, num_hidden=15):\n",
    "        \"\"\"\n",
    "        constructor\n",
    "\n",
    "        Arguments:\n",
    "        data -- dictionary with data\n",
    "        alpha -- learning rate\n",
    "        batch_size -- size of batches to be used\n",
    "        num_hidden -- number of hidden neurons\n",
    "        \"\"\"\n",
    "        # keep local copy of data\n",
    "        self.data = data.copy()\n",
    "        self.alpha = alpha\n",
    "        self.batch_size = batch_size\n",
    "        self.num_hidden = num_hidden\n",
    "\n",
    "        # normalize data\n",
    "        self.normalise_data()\n",
    "\n",
    "        # initialize weights and bias \n",
    "        self.initialise_weights()\n",
    "\n",
    "        # result array \n",
    "        self.result_data = np.array([])\n",
    "\n",
    "        \n",
    "    def normalise_data(self):\n",
    "        \"\"\"\n",
    "        normalize the input data\n",
    "        \"\"\"\n",
    "        # separate normalisation of x and y data\n",
    "        self.x_norm = {'x_mean': np.mean(self.data['data_x']), 'x_std': np.std(self.data['data_x'])}\n",
    "        self.y_norm = {'y_mean': np.mean(self.data['data_y']), 'y_std': np.std(self.data['data_y'])}\n",
    "        \n",
    "        self.data['data_x'] = (self.data['data_x'] - self.x_norm['x_mean'])/self.x_norm['x_std']\n",
    "        self.data['data_y'] = (self.data['data_y'] - self.y_norm['y_mean'])/self.y_norm['y_std']\n",
    "        \n",
    "        \n",
    "    def initialise_weights(self):\n",
    "        \"\"\"\n",
    "        initialise weights\n",
    "        \"\"\"\n",
    "        #abbreviation\n",
    "        n1 = self.num_hidden\n",
    "        # initialize weights and bias (uniform sampling in [-1,1] plus 'correct' scaling)\n",
    "        self.w1 = np.random.uniform(-1,1,n1).reshape(1,n1)/(2*np.sqrt(n1))\n",
    "        self.b1 = np.zeros((1,n1), dtype=float)\n",
    "        self.w2 = np.random.uniform(-1,1,n1).reshape(n1,1)/(2*np.sqrt(n1))\n",
    "        self.b2 = 0.0\n",
    "        \n",
    "            \n",
    "    def append_result(self, res_data):\n",
    "        \"\"\"\n",
    "        append cost and error data to output array\n",
    "        \"\"\"                  \n",
    "        if self.result_data.size == 0:\n",
    "            self.result_data = res_data\n",
    "        else:\n",
    "            self.result_data = np.append(self.result_data, res_data, 0)\n",
    "            \n",
    "            \n",
    "    def cost_funct(self, y_pred, y):\n",
    "        \"\"\"\n",
    "        calculates the chosen cost function for given values of w and b\n",
    "        \"\"\"\n",
    "        m = y.shape[0]\n",
    "        \n",
    "        ### START YOUR CODE ###\n",
    "\n",
    "        cost = np.sum((y - y_pred)**2) / (2*m)\n",
    "        \n",
    "        ### END YOUR CODE ###\n",
    "\n",
    "        return cost\n",
    "\n",
    "    \n",
    "    def grad_cost(self, y_pred):\n",
    "        \"\"\"\n",
    "        calculates the gradients of cost function wrt w and b\n",
    "        \"\"\"\n",
    "        # abbreviation\n",
    "        x = self.batch['x_batch']\n",
    "        y = self.batch['y_batch']\n",
    "        sig = self.sigmoid(x @ self.w1 + self.b1)\n",
    "        m = x.shape[0]\n",
    "        \n",
    "        ### START YOUR CODE ###\n",
    "                \n",
    "        grad_w1 = -self.w2.T / m * np.dot(((y - y_pred)*x).T, sig*(1-sig))\n",
    "        grad_b1 = -self.w2.T / m * np.dot((y - y_pred).T, sig*(1-sig)) \n",
    "        grad_w2 = -1.0 / m * np.dot((y - y_pred).T, sig) \n",
    "        grad_b2 = -1.0 / m * np.sum((y - y_pred))\n",
    "        \n",
    "        ### END YOUR CODE ###\n",
    "\n",
    "        return {'grad_w1' : grad_w1, 'grad_b1' : grad_b1, 'grad_w2' : grad_w2.T, 'grad_b2' : grad_b2}\n",
    "\n",
    "    \n",
    "    def sigmoid(self, z):\n",
    "        return 1 / (1 + np.exp(-z))\n",
    "    \n",
    "    \n",
    "    def predict(self, x):\n",
    "        \"\"\"\n",
    "        implementation of sigmoid function\n",
    "        \"\"\"        \n",
    "        ### START YOUR CODE ###\n",
    "        \n",
    "        y_pred = self.sigmoid(x @ self.w1 + self.b1) @ self.w2 + self.b2\n",
    "        \n",
    "        ### END YOUR CODE ###\n",
    "        \n",
    "        return y_pred\n",
    "\n",
    "    \n",
    "    def update(self):\n",
    "        \"\"\"\n",
    "        performs one gradient descend step\n",
    "        \"\"\"\n",
    "        # predicted outcome for batch\n",
    "        y_pred = self.predict(self.batch['x_batch'])\n",
    "\n",
    "        grad = self.grad_cost(y_pred)\n",
    "        \n",
    "        ### START YOUR CODE ###\n",
    "        \n",
    "        self.w1 = self.w1 - self.alpha*grad['grad_w1']\n",
    "        self.b1 = self.b1 - self.alpha*grad['grad_b1']\n",
    "        self.w2 = self.w2 - self.alpha*grad['grad_w2']\n",
    "        self.b2 = self.b2 - self.alpha*grad['grad_b2']\n",
    "        \n",
    "        ### END YOUR CODE ###\n",
    "\n",
    "        \n",
    "    def save_results(self, i_step):\n",
    "        # predicted outcome for entire sample set\n",
    "        self.y_pred = self.predict(self.data['data_x'])\n",
    "\n",
    "        # determine cost functions for entire sample set\n",
    "        self.cost = self.cost_funct(self.y_pred, self.data['data_y'])\n",
    "\n",
    "        res_data = np.array([[i_step, self.cost]])\n",
    "\n",
    "        self.append_result(res_data)\n",
    "\n",
    "        return res_data\n",
    "\n",
    "\n",
    "    def optimise(self, epochs, debug = False):\n",
    "        \"\"\"\n",
    "        performs epochs number of gradient descend steps and appends result to output array\n",
    "\n",
    "        Arguments:\n",
    "        debug -- False (default)/True; get info on each gradient descend step\n",
    "        \"\"\"\n",
    "        # save results before step\n",
    "        res_data = self.save_results(0)\n",
    "\n",
    "        for i0 in range(0, epochs):\n",
    "            # create batches for each epoch\n",
    "            batches = MiniBatches(self.data['data_x'], self.data['data_y'], self.batch_size)\n",
    "\n",
    "            for ib in range(batches.number_of_batches()):\n",
    "                self.batch = batches.next()\n",
    "                self.update()\n",
    "\n",
    "            #save data\n",
    "            res_data = self.save_results(i0+1)\n",
    "\n",
    "            if debug and np.mod(i0, 1) == 0:\n",
    "                print('step %r, cost %r' % (i0, res_data[0, 1]))\n",
    "\n",
    "        print('result after %d epochs: cost %.5f' % (epochs, res_data[0, 1]))\n",
    "        \n",
    "        #return unnormalised data\n",
    "        return self.y_pred*self.y_norm['y_std'] + self.y_norm['y_mean']\n"
   ]
  },
  {
   "cell_type": "markdown",
   "id": "incoming-cliff",
   "metadata": {},
   "source": [
    "### Sample execution of gradient descent\n",
    "\n",
    "The cell below shows how to use the class GradientDescent to perform the optimisation. The training and test data is given as dictionary in the constructor of the class. Then the method optimise is called with first argument being the number of epochs.\n"
   ]
  },
  {
   "cell_type": "code",
   "execution_count": 106,
   "id": "color-blood",
   "metadata": {},
   "outputs": [
    {
     "name": "stdout",
     "output_type": "stream",
     "text": [
      "result after 1000 epochs: cost 0.50218\n"
     ]
    },
    {
     "data": {
      "text/plain": [
       "[<matplotlib.lines.Line2D at 0x7f99ecc63a30>]"
      ]
     },
     "execution_count": 106,
     "metadata": {},
     "output_type": "execute_result"
    },
    {
     "data": {
      "image/png": "[encoded data removed]",
      "text/plain": [
       "<Figure size 432x288 with 1 Axes>"
      ]
     },
     "metadata": {
      "needs_background": "light"
     },
     "output_type": "display_data"
    }
   ],
   "source": [
    "m = 100\n",
    "func = beta_fct\n",
    "vargs={'alpha':2.0,'beta':2.0}\n",
    "#func = sin_fct\n",
    "#vargs={'omega':1}\n",
    "\n",
    "data = generate_inputs(m,func,vargs=vargs, random=False, sigmaY=0.01)\n",
    "\n",
    "\n",
    "gradD = GradientDescent(data, alpha=0.1, batch_size=20, num_hidden=12)\n",
    "\n",
    "data_y_pred = gradD.optimise(1000, False)\n",
    "\n",
    "plt.plot(data['data_x'][:,0], data['data_y'][:,0],'b+')\n",
    "plt.plot(data['data_x'][:,0], data_y_pred[:,0],'g-')"
   ]
  },
  {
   "cell_type": "code",
   "execution_count": 107,
   "id": "enhanced-procurement",
   "metadata": {},
   "outputs": [
    {
     "data": {
      "text/plain": [
       "[<matplotlib.lines.Line2D at 0x7f99ecd3f970>]"
      ]
     },
     "execution_count": 107,
     "metadata": {},
     "output_type": "execute_result"
    },
    {
     "data": {
      "image/png": "[encoded data removed]",
      "text/plain": [
       "<Figure size 432x288 with 1 Axes>"
      ]
     },
     "metadata": {
      "needs_background": "light"
     },
     "output_type": "display_data"
    }
   ],
   "source": [
    "#do analysis for test data\n",
    "data_test = generate_inputs(m,func,vargs=vargs, random=False, sigmaY=0.01)\n",
    "\n",
    "#normalise x data\n",
    "data_test['data_x'] = (data_test['data_x'] - gradD.x_norm['x_mean'])/gradD.x_norm['x_std']\n",
    "    \n",
    "#predict and un-normalise\n",
    "data_test_y_pred = gradD.predict(data_test['data_x'])\n",
    "\n",
    "data_test_y_pred = data_test_y_pred *gradD.y_norm['y_std'] + gradD.y_norm['y_mean']\n",
    "\n",
    "plt.plot(data_test['data_x'][:,0], data_test['data_y'][:,0],'r+')\n",
    "plt.plot(data_test['data_x'][:,0], data_test_y_pred[:,0],'g-')"
   ]
  },
  {
   "cell_type": "code",
   "execution_count": 108,
   "id": "apparent-volunteer",
   "metadata": {},
   "outputs": [
    {
     "data": {
      "image/png": "[encoded data removed]",
      "text/plain": [
       "<Figure size 432x288 with 1 Axes>"
      ]
     },
     "metadata": {
      "needs_background": "light"
     },
     "output_type": "display_data"
    }
   ],
   "source": [
    "#analyse cost as function of epochs\n",
    "epochs = gradD.result_data[:,0]\n",
    "train_costs = gradD.result_data[:,1]\n",
    "\n",
    "\n",
    "plt.semilogy(epochs, train_costs, label=\"train\")\n",
    "plt.ylabel('Cost')\n",
    "plt.xlabel('Epochs')\n",
    "xmax = epochs[-1]\n",
    "ymin = 2e-4\n",
    "ymax = 1\n",
    "plt.axis([0,xmax,ymin,ymax])\n",
    "plt.legend()\n",
    "plt.show() "
   ]
  },
  {
   "cell_type": "markdown",
   "id": "introductory-stuart",
   "metadata": {},
   "source": [
    "# Unit Tests \n",
    "### Unit Test for predict"
   ]
  },
  {
   "cell_type": "code",
   "execution_count": 9,
   "id": "recreational-invitation",
   "metadata": {},
   "outputs": [],
   "source": [
    "#create dummy instance\n",
    "data = {'data_x': np.array([[1],[2]]), 'data_y':np.array([[1],[2]])}\n",
    "gradD = GradientDescent(data, 0.1, 20, 50)\n",
    "\n",
    "gradD.w1 = np.array([0.4,0.2,-0.4]).reshape(1,3)\n",
    "gradD.b1 = np.array([0.1,0.1,0.1]).reshape(1,3)\n",
    "gradD.w2 = np.array([1,2,1]).reshape(3,1)\n",
    "gradD.b2 = -1\n",
    "x = np.linspace(-1,1,5).reshape((5,1))\n",
    "y_pred = gradD.predict(x)\n",
    "y_exp = np.array([0.99805844, 1.04946333, 1.09991675, 1.14913132, 1.19690185]).reshape(5,1)\n",
    "np.testing.assert_array_almost_equal(y_pred,y_exp,decimal=8)"
   ]
  },
  {
   "cell_type": "markdown",
   "id": "cross-colors",
   "metadata": {},
   "source": [
    "### Unit Test for cost\n",
    "Assumes that Unit Test for predict is correct!"
   ]
  },
  {
   "cell_type": "code",
   "execution_count": 10,
   "id": "nutritional-alexander",
   "metadata": {},
   "outputs": [],
   "source": [
    "#create dummy instance\n",
    "data = {'data_x': np.array([[1],[2]]), 'data_y':np.array([[1],[2]])}\n",
    "gradD = GradientDescent(data, 0.1, 20, 50)\n",
    "\n",
    "gradD.w1 = np.array([4,5,6]).reshape(1,3)\n",
    "gradD.b1 = np.array([1,1,1]).reshape(1,3)\n",
    "gradD.w2 = np.array([1,2,3]).reshape(3,1)\n",
    "gradD.b2 = 2\n",
    "x = np.linspace(-1,1,5).reshape(5,1)\n",
    "y_pred = gradD.predict(x)\n",
    "y = 2.0*np.ones(5).reshape(5,1)\n",
    "c = gradD.cost_funct(y_pred, y)\n",
    "cexp = 9.01669099\n",
    "np.testing.assert_almost_equal(c,cexp,decimal=8)"
   ]
  },
  {
   "cell_type": "markdown",
   "id": "outdoor-xerox",
   "metadata": {},
   "source": [
    "### Unit Test for grad_cost\n",
    "Assumes that Unit Test for predict is correct!"
   ]
  },
  {
   "cell_type": "code",
   "execution_count": 11,
   "id": "resistant-windsor",
   "metadata": {},
   "outputs": [],
   "source": [
    "#create dummy instance\n",
    "data = {'data_x': np.array([[1],[2]]), 'data_y':np.array([[1],[2]])}\n",
    "gradD = GradientDescent(data, 0.1, 20, 50)\n",
    "\n",
    "gradD.w1 = np.array([4,5,6]).reshape(1,3)\n",
    "gradD.b1 = np.array([1,1,1]).reshape(1,3)\n",
    "gradD.w2 = np.array([1,2,3]).reshape(3,1)\n",
    "gradD.b2 = 2\n",
    "\n",
    "x = np.array([1,2,3,4,5,6,7]).reshape((7,1))\n",
    "y_pred = gradD.predict(x)\n",
    "\n",
    "y = np.array([2,2,2,2,2,2,2]).reshape((7,1))\n",
    "gradD.batch = {'x_batch': x, 'y_batch': y}\n",
    "               \n",
    "grad = gradD.grad_cost(y_pred)\n",
    "dw1exp = np.array([0.00590214,0.00427602,0.00234663]).reshape(1,3)\n",
    "db1exp = np.array([0.00579241,0.004247,0.00234079]).reshape(1,3)\n",
    "dw2exp = np.array([5.99209251,5.99579451,5.99714226]).reshape(3,1)\n",
    "db2exp = 5.99792323\n",
    "np.testing.assert_array_almost_equal(grad['grad_w1'],dw1exp,decimal=8)\n",
    "np.testing.assert_array_almost_equal(grad['grad_b1'],db1exp,decimal=8)\n",
    "np.testing.assert_array_almost_equal(grad['grad_w2'],dw2exp,decimal=8)\n",
    "np.testing.assert_almost_equal(grad['grad_b2'],db2exp,decimal=8)"
   ]
  },
  {
   "cell_type": "code",
   "execution_count": null,
   "id": "improved-ukraine",
   "metadata": {},
   "outputs": [],
   "source": []
  },
  {
   "cell_type": "code",
   "execution_count": null,
   "id": "interpreted-poland",
   "metadata": {},
   "outputs": [],
   "source": []
  },
  {
   "cell_type": "code",
   "execution_count": null,
   "id": "early-apollo",
   "metadata": {},
   "outputs": [],
   "source": []
  }
 ],
 "metadata": {
  "kernelspec": {
   "display_name": "Python 3",
   "language": "python",
   "name": "python3"
  },
  "language_info": {
   "codemirror_mode": {
    "name": "ipython",
    "version": 3
   },
   "file_extension": ".py",
   "mimetype": "text/x-python",
   "name": "python",
   "nbconvert_exporter": "python",
   "pygments_lexer": "ipython3",
   "version": "3.8.5"
  }
 },
 "nbformat": 4,
 "nbformat_minor": 5
}
