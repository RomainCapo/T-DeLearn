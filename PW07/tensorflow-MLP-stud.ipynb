{
 "cells": [
  {
   "cell_type": "markdown",
   "metadata": {},
   "source": [
    "## MLP with TensorFlow 2.0\n",
    "The objective of the exercise is to implement computational graphs in TensorFlow 2.0 to train and use such an architecture. The constraints we put ourselves is to use **low-level** functions of TensorFlow, i.e. we will not use high-level functions to compose layers and to train the parameters.\n",
    "\n",
    "If you get this error in the execution of the first cell: ` ModuleNotFoundError: No module named 'tensorflow' `, it probably means TensorFlow 2.0 is not installed yet on your machine."
   ]
  },
  {
   "cell_type": "code",
   "execution_count": 1,
   "metadata": {},
   "outputs": [
    {
     "name": "stdout",
     "output_type": "stream",
     "text": [
      "MNIST data set ready. N=60000, D=784, n_classes=10\n"
     ]
    }
   ],
   "source": [
    "#############################\n",
    "# MNIST Dataset Preparation #\n",
    "#############################\n",
    "\n",
    "import numpy as np\n",
    "import tensorflow as tf\n",
    "import matplotlib.pyplot as plt\n",
    "\n",
    "mnist = tf.keras.datasets.mnist\n",
    "(x_train, y_train_vec),(x_test, y_test_vec) = mnist.load_data()\n",
    "x_train, x_test = x_train / 255.0, x_test / 255.0\n",
    "x_train = x_train.reshape(60000, 784)\n",
    "x_test = x_test.reshape(10000, 784)\n",
    "# convert class vectors to binary class matrices\n",
    "y_train = tf.keras.utils.to_categorical(y_train_vec, 10, dtype='float64')\n",
    "y_test = tf.keras.utils.to_categorical(y_test_vec, 10, dtype='float64')\n",
    "N = x_train.shape[0]         # number of samples\n",
    "D = x_train.shape[1]         # dimension of input sample\n",
    "n_classes = y_train.shape[1] # output dim\n",
    "print('MNIST data set ready. N={}, D={}, n_classes={}'.format(N,D,n_classes))"
   ]
  },
  {
   "cell_type": "code",
   "execution_count": 2,
   "metadata": {},
   "outputs": [],
   "source": [
    "# Function to sample a random batch from dataset\n",
    "def next_batch(num, data, labels):\n",
    "    '''\n",
    "    Return a total of `num` random samples and labels. \n",
    "    '''\n",
    "    idx = np.arange(0,len(data))  # create an array of index values\n",
    "    np.random.shuffle(idx)        # shuffle it\n",
    "    idx = idx[:num]               # take the first n indexes = size of batch\n",
    "    data_shuffle = data[idx]      # extract the batch using the random indexes\n",
    "    labels_shuffle = labels[idx]  # extract the labels using the random indexes\n",
    "\n",
    "    return data_shuffle, labels_shuffle"
   ]
  },
  {
   "cell_type": "code",
   "execution_count": 13,
   "metadata": {
    "scrolled": false
   },
   "outputs": [
    {
     "name": "stdout",
     "output_type": "stream",
     "text": [
      "epoch = 0, loss = 55.742932494276374\n",
      "epoch = 1, loss = 41.65735974512438\n",
      "epoch = 2, loss = 39.31508200877101\n",
      "epoch = 3, loss = 37.12476985191445\n",
      "epoch = 4, loss = 35.18164719396016\n",
      "epoch = 5, loss = 33.35280273474471\n",
      "epoch = 6, loss = 31.621129502614377\n",
      "epoch = 7, loss = 30.18620269510056\n",
      "epoch = 8, loss = 28.660950232679262\n",
      "epoch = 9, loss = 27.30913956256028\n",
      "epoch = 10, loss = 26.12278284559957\n",
      "epoch = 11, loss = 25.03512882123125\n",
      "epoch = 12, loss = 24.062322412782688\n",
      "epoch = 13, loss = 22.97995540333134\n",
      "epoch = 14, loss = 22.202654717668985\n",
      "epoch = 15, loss = 21.521312248295782\n",
      "epoch = 16, loss = 20.793628997499983\n",
      "epoch = 17, loss = 20.083611552928694\n",
      "epoch = 18, loss = 19.415661943863576\n",
      "epoch = 19, loss = 18.934687410789348\n",
      "epoch = 20, loss = 18.463356165766395\n",
      "epoch = 21, loss = 17.980673425000134\n",
      "epoch = 22, loss = 17.642375365282174\n",
      "epoch = 23, loss = 17.187675998429572\n",
      "epoch = 24, loss = 16.781564384688604\n",
      "epoch = 25, loss = 16.46411006923153\n",
      "epoch = 26, loss = 16.192246813457462\n",
      "epoch = 27, loss = 15.904139599285239\n",
      "epoch = 28, loss = 15.61027093990015\n",
      "epoch = 29, loss = 15.341233871281032\n",
      "epoch = 30, loss = 15.12230865381972\n",
      "epoch = 31, loss = 14.866118194010301\n",
      "epoch = 32, loss = 14.734128336311423\n",
      "epoch = 33, loss = 14.470933256930492\n",
      "epoch = 34, loss = 14.365473219444851\n",
      "epoch = 35, loss = 14.152578461043834\n",
      "epoch = 36, loss = 14.046083092562178\n",
      "epoch = 37, loss = 13.840645600655463\n",
      "epoch = 38, loss = 13.645583110314291\n",
      "epoch = 39, loss = 13.553434375082208\n",
      "epoch = 40, loss = 13.353404410310349\n",
      "epoch = 41, loss = 13.237105777091\n",
      "epoch = 42, loss = 13.24266687172093\n",
      "epoch = 43, loss = 13.094742085645604\n",
      "epoch = 44, loss = 12.829375904861005\n",
      "epoch = 45, loss = 12.690473270458035\n",
      "epoch = 46, loss = 12.55319101188694\n",
      "epoch = 47, loss = 12.508440817291834\n",
      "epoch = 48, loss = 12.48741076566469\n",
      "epoch = 49, loss = 12.2318978721379\n",
      "epoch = 50, loss = 12.327793798134646\n",
      "epoch = 51, loss = 12.241529420722246\n",
      "epoch = 52, loss = 12.060196210587364\n",
      "epoch = 53, loss = 11.936810563233063\n",
      "epoch = 54, loss = 11.866141590906183\n",
      "epoch = 55, loss = 11.719554296197153\n",
      "epoch = 56, loss = 11.837072351873134\n",
      "epoch = 57, loss = 11.779630928997454\n",
      "epoch = 58, loss = 11.479864580819848\n",
      "epoch = 59, loss = 11.588570292026565\n"
     ]
    }
   ],
   "source": [
    "##################\n",
    "# Training phase #\n",
    "##################\n",
    "\n",
    "E = 60                # number of epochs\n",
    "B = 128               # batch size\n",
    "N = x_train.shape[0]  # number of samples\n",
    "D = x_train.shape[1]  # dimension of input sample\n",
    "H = 300               # number of neurons\n",
    "A = 0.01              # learning rate alpha\n",
    "\n",
    "##############################################\n",
    "#  COMPLETE CODE BELOW WHERE YOU SEE # ...   #\n",
    "##############################################\n",
    "\n",
    "# Build the computational graph\n",
    "@tf.function # this decorator tells tf that a graph is defined\n",
    "def mlp_train(x, y, alpha):\n",
    "    # define nodes for forward computation for hidden neurons h and output neurons y_pred\n",
    "    # h = ...  output of first layer after ReLu activation\n",
    "    # y_pred = ... output of second layer after sigmoid activation\n",
    "    # define nodes for forward computation for hidden neurons h and output neurons y_pred\n",
    "    # diff = ...\n",
    "    # loss = ...\n",
    "    # define the gradients\n",
    "    # grad_w1, grad_b1, grad_w2, grad_b2 = ...\n",
    "    # compute the new values of the gradients with the assign method (see slides)\n",
    "    # w1.assign(...)\n",
    "    # b1.assign(...)\n",
    "    # w2.assign(...)\n",
    "    # b2.assign(...)\n",
    "    h = tf.maximum(tf.matmul(x, w1) + b1, 0)\n",
    "    y_pred = tf.sigmoid(tf.matmul(h,w2) + b2)\n",
    "    diff = y_pred - y\n",
    "    loss = tf.reduce_mean(tf.pow(diff, 2))\n",
    "    grad_w1, grad_b1, grad_w2, grad_b2 = tf.gradients(ys=loss, xs=[w1,b1,w2,b2])\n",
    "    w1.assign(w1 - alpha* grad_w1)\n",
    "    b1.assign(b1  - alpha*grad_b1)\n",
    "    w2.assign(w2 - alpha* grad_w2)\n",
    "    b2.assign(b2  - alpha*grad_b2)\n",
    "    \n",
    "    return y_pred, loss\n",
    "\n",
    "# Init the tf.Variablesw 1, b1, w2, b2 following the given examples\n",
    "w1 = tf.Variable(tf.random.truncated_normal((D, H), stddev = 0.1, dtype='float64'))\n",
    "b1 = tf.Variable(tf.constant(0.0, shape=[H], dtype='float64'))\n",
    "w2 = tf.Variable(tf.random.truncated_normal((H, n_classes), stddev = 0.1, dtype='float64'))\n",
    "b2 = tf.Variable(tf.constant(0.0, shape=[n_classes], dtype='float64'))\n",
    "\n",
    "# Run the computational graph\n",
    "J = [] # to store the evolution of loss J for each epoch\n",
    "for epoch in range(E):\n",
    "    J_epoch = 0.0\n",
    "    for _ in range(int(N/B)): # number of batches to visit for 1 epoch\n",
    "        # get batches calling the next_batch method provided above\n",
    "        x_train_batch, y_train_batch = next_batch(B, x_train, y_train)\n",
    "        with tf.device('/CPU:0'):  # change to /GPU:0 to move it to GPU\n",
    "            # call the graph with the batched input, target and alpha A\n",
    "            out = mlp_train(x_train_batch,y_train_batch,A)\n",
    "        y_pred, loss_val = out\n",
    "        J_epoch += loss_val\n",
    "    J.append(J_epoch)\n",
    "    print(\"epoch = {}, loss = {}\".format(epoch, J_epoch))"
   ]
  },
  {
   "cell_type": "code",
   "execution_count": 14,
   "metadata": {},
   "outputs": [
    {
     "data": {
      "text/plain": [
       "[<matplotlib.lines.Line2D at 0x1874f7dc100>]"
      ]
     },
     "execution_count": 14,
     "metadata": {},
     "output_type": "execute_result"
    },
    {
     "data": {
      "image/png": "[encoded data removed]",
      "text/plain": [
       "<Figure size 432x288 with 1 Axes>"
      ]
     },
     "metadata": {
      "needs_background": "light"
     },
     "output_type": "display_data"
    }
   ],
   "source": [
    "# Plot the evolution of the loss\n",
    "plt.plot(J)"
   ]
  },
  {
   "cell_type": "code",
   "execution_count": 15,
   "metadata": {},
   "outputs": [
    {
     "name": "stdout",
     "output_type": "stream",
     "text": [
      "Forward pass on test set done.\n"
     ]
    }
   ],
   "source": [
    "#################\n",
    "# Testing phase #\n",
    "#################\n",
    "\n",
    "N = x_test.shape[0]  # number of samples\n",
    "D = x_test.shape[1]  # dimension of input sample\n",
    "\n",
    "##############################################\n",
    "#  COMPLETE CODE BELOW WHERE YOU SEE # ...   #\n",
    "##############################################\n",
    "# Build the computational graph\n",
    "@tf.function # this decorator tells tf that a graph is defined\n",
    "def mlp_test(x, y):\n",
    "    h = tf.maximum(tf.matmul(x, w1) + b1, 0)\n",
    "    y_pred = tf.sigmoid(tf.matmul(h,w2) + b2)\n",
    "    return y_pred\n",
    "\n",
    "# Run the computational graph\n",
    "with tf.device('/CPU:0'):  # change to /GPU:0 to move it to GPU\n",
    "    y_pred_test = mlp_test(x_test, y_test)\n",
    "\n",
    "print('Forward pass on test set done.')\n",
    "# At this stage, y_pred_test should contain the matrix of outputs on the test set with shape (N_test, 10)"
   ]
  },
  {
   "cell_type": "code",
   "execution_count": 16,
   "metadata": {},
   "outputs": [
    {
     "name": "stdout",
     "output_type": "stream",
     "text": [
      "# samples  :  10000\n",
      "# correct  :  8920\n",
      "# missed   :  1080\n",
      "accuracy   :  89.20 %\n",
      "error rate :  10.80 %\n"
     ]
    }
   ],
   "source": [
    "# compute accuracy\n",
    "y_winner = np.argmax(y_pred_test, axis=1)\n",
    "N_test = y_winner.size\n",
    "num_correct = (y_winner == y_test_vec).sum()\n",
    "num_missed = N_test - num_correct\n",
    "accuracy = num_correct * 1.0 / N_test\n",
    "error_rate = num_missed * 1.0 / N_test\n",
    "print('# samples  : ', N_test)\n",
    "print('# correct  : ', num_correct)\n",
    "print('# missed   : ', num_missed)\n",
    "print('accuracy   :  %2.2f %%'% (accuracy*100.0))\n",
    "print('error rate :  %2.2f %%'% (error_rate*100.0))"
   ]
  },
  {
   "cell_type": "code",
   "execution_count": null,
   "metadata": {},
   "outputs": [],
   "source": []
  }
 ],
 "metadata": {
  "kernelspec": {
   "display_name": "Python 3",
   "language": "python",
   "name": "python3"
  },
  "language_info": {
   "codemirror_mode": {
    "name": "ipython",
    "version": 3
   },
   "file_extension": ".py",
   "mimetype": "text/x-python",
   "name": "python",
   "nbconvert_exporter": "python",
   "pygments_lexer": "ipython3",
   "version": "3.8.5"
  }
 },
 "nbformat": 4,
 "nbformat_minor": 2
}
