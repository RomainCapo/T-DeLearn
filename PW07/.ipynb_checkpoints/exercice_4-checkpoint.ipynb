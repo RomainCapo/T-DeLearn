{
 "cells": [
  {
   "cell_type": "code",
   "execution_count": 79,
   "id": "traditional-retention",
   "metadata": {},
   "outputs": [],
   "source": [
    "import tensorflow as tf\n",
    "import matplotlib.pyplot as plt\n",
    "import time"
   ]
  },
  {
   "cell_type": "code",
   "execution_count": 84,
   "id": "weighted-testing",
   "metadata": {},
   "outputs": [],
   "source": [
    "# Dataset loading\n",
    "\n",
    "mnist = tf.keras.datasets.mnist\n",
    "\n",
    "(x_train, y_train_vec),(x_test, y_test_vec) = mnist.load_data()\n",
    "x_train, x_test = x_train / 255.0, x_test / 255.0\n",
    "x_train = x_train.reshape(60000, 784)\n",
    "x_test = x_test.reshape(10000, 784)\n",
    "\n",
    "# convert class vectors to binary class matrices\n",
    "y_train = tf.keras.utils.to_categorical(y_train_vec, 10, dtype='float64')\n",
    "y_test = tf.keras.utils.to_categorical(y_test_vec, 10, dtype='float64')"
   ]
  },
  {
   "cell_type": "code",
   "execution_count": 85,
   "id": "joint-recipient",
   "metadata": {},
   "outputs": [
    {
     "name": "stdout",
     "output_type": "stream",
     "text": [
      "MNIST data set ready. N=60000, D=784, n_classes=10\n"
     ]
    }
   ],
   "source": [
    "# Learning parameters\n",
    "\n",
    "E = 60                # number of epochs\n",
    "N = x_train.shape[0]  # number of samples\n",
    "D = x_train.shape[1]  # dimension of input sample\n",
    "H = 300               # number of neurons\n",
    "A = 0.01              # learning rate\n",
    "n_classes = y_train.shape[1] # output dim\n",
    "\n",
    "print('MNIST data set ready. N={}, D={}, n_classes={}'.format(N,D,n_classes))"
   ]
  },
  {
   "cell_type": "code",
   "execution_count": 86,
   "id": "anonymous-princeton",
   "metadata": {},
   "outputs": [
    {
     "name": "stdout",
     "output_type": "stream",
     "text": [
      "Model: \"sequential_16\"\n",
      "_________________________________________________________________\n",
      "Layer (type)                 Output Shape              Param #   \n",
      "=================================================================\n",
      "dense_25 (Dense)             (None, 300)               235500    \n",
      "_________________________________________________________________\n",
      "dense_26 (Dense)             (None, 10)                3010      \n",
      "=================================================================\n",
      "Total params: 238,510\n",
      "Trainable params: 238,510\n",
      "Non-trainable params: 0\n",
      "_________________________________________________________________\n"
     ]
    }
   ],
   "source": [
    "# Model building\n",
    "\n",
    "model = tf.keras.models.Sequential()\n",
    "\n",
    "model.add(tf.keras.layers.Dense(H, input_shape=(D,),use_bias=True, activation='relu'))\n",
    "model.add(tf.keras.layers.Dense(n_classes, use_bias=True, activation='sigmoid'))\n",
    "\n",
    "model.summary()"
   ]
  },
  {
   "cell_type": "code",
   "execution_count": 88,
   "id": "negative-rates",
   "metadata": {},
   "outputs": [
    {
     "name": "stdout",
     "output_type": "stream",
     "text": [
      "Epoch 1/60\n",
      "1875/1875 [==============================] - 2s 1ms/step - loss: 0.1236 - accuracy: 0.2842\n",
      "Epoch 2/60\n",
      "1875/1875 [==============================] - 2s 1ms/step - loss: 0.0756 - accuracy: 0.5462\n",
      "Epoch 3/60\n",
      "1875/1875 [==============================] - 2s 984us/step - loss: 0.0627 - accuracy: 0.6575\n",
      "Epoch 4/60\n",
      "1875/1875 [==============================] - 2s 971us/step - loss: 0.0537 - accuracy: 0.7251\n",
      "Epoch 5/60\n",
      "1875/1875 [==============================] - 2s 999us/step - loss: 0.0473 - accuracy: 0.7840\n",
      "Epoch 6/60\n",
      "1875/1875 [==============================] - 2s 1ms/step - loss: 0.0426 - accuracy: 0.8203\n",
      "Epoch 7/60\n",
      "1875/1875 [==============================] - 2s 974us/step - loss: 0.0390 - accuracy: 0.8356\n",
      "Epoch 8/60\n",
      "1875/1875 [==============================] - 2s 993us/step - loss: 0.0359 - accuracy: 0.8480\n",
      "Epoch 9/60\n",
      "1875/1875 [==============================] - 2s 1ms/step - loss: 0.0337 - accuracy: 0.8544\n",
      "Epoch 10/60\n",
      "1875/1875 [==============================] - 2s 981us/step - loss: 0.0319 - accuracy: 0.8614\n",
      "Epoch 11/60\n",
      "1875/1875 [==============================] - 2s 984us/step - loss: 0.0304 - accuracy: 0.8655\n",
      "Epoch 12/60\n",
      "1875/1875 [==============================] - 2s 1ms/step - loss: 0.0292 - accuracy: 0.8715\n",
      "Epoch 13/60\n",
      "1875/1875 [==============================] - 3s 1ms/step - loss: 0.0282 - accuracy: 0.8732\n",
      "Epoch 14/60\n",
      "1875/1875 [==============================] - 2s 1ms/step - loss: 0.0271 - accuracy: 0.8780\n",
      "Epoch 15/60\n",
      "1875/1875 [==============================] - 2s 1ms/step - loss: 0.0267 - accuracy: 0.8758\n",
      "Epoch 16/60\n",
      "1875/1875 [==============================] - 2s 989us/step - loss: 0.0260 - accuracy: 0.8771\n",
      "Epoch 17/60\n",
      "1875/1875 [==============================] - 2s 1ms/step - loss: 0.0252 - accuracy: 0.8814\n",
      "Epoch 18/60\n",
      "1875/1875 [==============================] - 2s 1ms/step - loss: 0.0244 - accuracy: 0.8857\n",
      "Epoch 19/60\n",
      "1875/1875 [==============================] - 2s 1000us/step - loss: 0.0238 - accuracy: 0.8883\n",
      "Epoch 20/60\n",
      "1875/1875 [==============================] - 2s 1ms/step - loss: 0.0237 - accuracy: 0.8869\n",
      "Epoch 21/60\n",
      "1875/1875 [==============================] - 2s 1ms/step - loss: 0.0230 - accuracy: 0.8901\n",
      "Epoch 22/60\n",
      "1875/1875 [==============================] - 2s 1ms/step - loss: 0.0226 - accuracy: 0.8904\n",
      "Epoch 23/60\n",
      "1875/1875 [==============================] - 2s 1ms/step - loss: 0.0221 - accuracy: 0.8933\n",
      "Epoch 24/60\n",
      "1875/1875 [==============================] - 2s 1ms/step - loss: 0.0220 - accuracy: 0.8938\n",
      "Epoch 25/60\n",
      "1875/1875 [==============================] - 2s 1ms/step - loss: 0.0216 - accuracy: 0.8946\n",
      "Epoch 26/60\n",
      "1875/1875 [==============================] - 2s 1ms/step - loss: 0.0214 - accuracy: 0.8949\n",
      "Epoch 27/60\n",
      "1875/1875 [==============================] - 2s 1ms/step - loss: 0.0209 - accuracy: 0.8971\n",
      "Epoch 28/60\n",
      "1875/1875 [==============================] - 2s 1ms/step - loss: 0.0204 - accuracy: 0.8998\n",
      "Epoch 29/60\n",
      "1875/1875 [==============================] - 2s 1ms/step - loss: 0.0204 - accuracy: 0.8991\n",
      "Epoch 30/60\n",
      "1875/1875 [==============================] - 2s 1ms/step - loss: 0.0202 - accuracy: 0.8985\n",
      "Epoch 31/60\n",
      "1875/1875 [==============================] - 3s 1ms/step - loss: 0.0198 - accuracy: 0.9027\n",
      "Epoch 32/60\n",
      "1875/1875 [==============================] - 2s 1ms/step - loss: 0.0197 - accuracy: 0.9005\n",
      "Epoch 33/60\n",
      "1875/1875 [==============================] - 3s 1ms/step - loss: 0.0194 - accuracy: 0.9032\n",
      "Epoch 34/60\n",
      "1875/1875 [==============================] - 2s 1ms/step - loss: 0.0193 - accuracy: 0.9030\n",
      "Epoch 35/60\n",
      "1875/1875 [==============================] - 2s 1ms/step - loss: 0.0192 - accuracy: 0.9011\n",
      "Epoch 36/60\n",
      "1875/1875 [==============================] - 2s 1ms/step - loss: 0.0189 - accuracy: 0.9043\n",
      "Epoch 37/60\n",
      "1875/1875 [==============================] - 2s 1ms/step - loss: 0.0189 - accuracy: 0.9053\n",
      "Epoch 38/60\n",
      "1875/1875 [==============================] - 2s 1ms/step - loss: 0.0185 - accuracy: 0.9065\n",
      "Epoch 39/60\n",
      "1875/1875 [==============================] - 2s 1ms/step - loss: 0.0184 - accuracy: 0.9072\n",
      "Epoch 40/60\n",
      "1875/1875 [==============================] - 2s 1ms/step - loss: 0.0184 - accuracy: 0.9054\n",
      "Epoch 41/60\n",
      "1875/1875 [==============================] - 2s 1ms/step - loss: 0.0181 - accuracy: 0.9081\n",
      "Epoch 42/60\n",
      "1875/1875 [==============================] - 2s 1ms/step - loss: 0.0179 - accuracy: 0.9093\n",
      "Epoch 43/60\n",
      "1875/1875 [==============================] - 2s 1ms/step - loss: 0.0177 - accuracy: 0.9104\n",
      "Epoch 44/60\n",
      "1875/1875 [==============================] - 2s 1ms/step - loss: 0.0177 - accuracy: 0.9092\n",
      "Epoch 45/60\n",
      "1875/1875 [==============================] - 3s 1ms/step - loss: 0.0175 - accuracy: 0.9112\n",
      "Epoch 46/60\n",
      "1875/1875 [==============================] - 3s 1ms/step - loss: 0.0172 - accuracy: 0.9121\n",
      "Epoch 47/60\n",
      "1875/1875 [==============================] - 3s 1ms/step - loss: 0.0172 - accuracy: 0.9117\n",
      "Epoch 48/60\n",
      "1875/1875 [==============================] - 3s 1ms/step - loss: 0.0170 - accuracy: 0.9123\n",
      "Epoch 49/60\n",
      "1875/1875 [==============================] - 3s 1ms/step - loss: 0.0170 - accuracy: 0.9123\n",
      "Epoch 50/60\n",
      "1875/1875 [==============================] - 3s 1ms/step - loss: 0.0169 - accuracy: 0.9120\n",
      "Epoch 51/60\n",
      "1875/1875 [==============================] - 3s 1ms/step - loss: 0.0167 - accuracy: 0.9133\n",
      "Epoch 52/60\n",
      "1875/1875 [==============================] - 3s 2ms/step - loss: 0.0166 - accuracy: 0.9149\n",
      "Epoch 53/60\n",
      "1875/1875 [==============================] - 3s 2ms/step - loss: 0.0165 - accuracy: 0.9155\n",
      "Epoch 54/60\n",
      "1875/1875 [==============================] - 3s 2ms/step - loss: 0.0164 - accuracy: 0.9150\n",
      "Epoch 55/60\n",
      "1875/1875 [==============================] - 3s 2ms/step - loss: 0.0162 - accuracy: 0.9167\n",
      "Epoch 56/60\n",
      "1875/1875 [==============================] - 3s 2ms/step - loss: 0.0160 - accuracy: 0.9182\n",
      "Epoch 57/60\n",
      "1875/1875 [==============================] - 4s 2ms/step - loss: 0.0160 - accuracy: 0.9177\n",
      "Epoch 58/60\n",
      "1875/1875 [==============================] - 5s 3ms/step - loss: 0.0158 - accuracy: 0.9187\n",
      "Epoch 59/60\n",
      "1875/1875 [==============================] - 5s 3ms/step - loss: 0.0157 - accuracy: 0.9186\n",
      "Epoch 60/60\n",
      "1875/1875 [==============================] - 5s 3ms/step - loss: 0.0158 - accuracy: 0.9177\n"
     ]
    }
   ],
   "source": [
    "sgd = tf.keras.optimizers.SGD(learning_rate=A)\n",
    "\n",
    "model.compile(optimizer=sgd, loss='mse', metrics=['accuracy'])\n",
    "                    \n",
    "start_time = time.time()\n",
    "hist = model.fit(x_train, y_train, epochs=E)\n",
    "end_time = time.time()"
   ]
  },
  {
   "cell_type": "code",
   "execution_count": 89,
   "id": "unable-condition",
   "metadata": {},
   "outputs": [
    {
     "data": {
      "image/png": "[encoded data removed]",
      "text/plain": [
       "<Figure size 432x288 with 2 Axes>"
      ]
     },
     "metadata": {
      "needs_background": "light"
     },
     "output_type": "display_data"
    }
   ],
   "source": [
    "fig, ax = plt.subplots(1, 2)\n",
    "\n",
    "ax[0].plot(hist.history['loss'])\n",
    "ax[0].set_title(\"LOSS\")\n",
    "ax[1].plot(hist.history['accuracy'])\n",
    "ax[1].set_title(\"ACCURACY\")\n",
    "\n",
    "plt.show()"
   ]
  },
  {
   "cell_type": "code",
   "execution_count": 90,
   "id": "instant-virgin",
   "metadata": {},
   "outputs": [
    {
     "name": "stdout",
     "output_type": "stream",
     "text": [
      "# samples  :  10000\n",
      "accuracy   :  92.33 %\n",
      "error rate :  1.49 %\n",
      "learning time :  145.62 s\n"
     ]
    }
   ],
   "source": [
    "result = model.evaluate(x_test, y_test, verbose=0)\n",
    "\n",
    "print('# samples  : ', y_test.shape[0])\n",
    "print('accuracy   :  %2.2f %%'% (result[1]*100.0))\n",
    "print('error rate :  %2.2f %%'% (result[0]*100.0))\n",
    "print('learning time : % 2.2f s'% ((end_time-start_time)))"
   ]
  },
  {
   "cell_type": "markdown",
   "id": "fatal-seventh",
   "metadata": {},
   "source": [
    "## Results with last layer : sigmoid activation and mse loss function\n",
    "\n",
    "- number of samples  :  10000\n",
    "- accuracy   :  92.20 %\n",
    "- error rate :  1.51 %\n",
    "- learning time :  255.47 s\n",
    "\n",
    "\n"
   ]
  },
  {
   "cell_type": "code",
   "execution_count": null,
   "id": "cooperative-trinidad",
   "metadata": {},
   "outputs": [],
   "source": []
  }
 ],
 "metadata": {
  "kernelspec": {
   "display_name": "Python 3",
   "language": "python",
   "name": "python3"
  },
  "language_info": {
   "codemirror_mode": {
    "name": "ipython",
    "version": 3
   },
   "file_extension": ".py",
   "mimetype": "text/x-python",
   "name": "python",
   "nbconvert_exporter": "python",
   "pygments_lexer": "ipython3",
   "version": "3.8.5"
  }
 },
 "nbformat": 4,
 "nbformat_minor": 5
}
