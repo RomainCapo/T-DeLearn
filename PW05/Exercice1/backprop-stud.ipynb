{
 "cells": [
  {
   "cell_type": "markdown",
   "id": "ruled-evidence",
   "metadata": {},
   "source": [
    "## Multi Layer Perceptron\n",
    "\n",
    "MLP with configurable number of (dense) hidden layers and final softmax layer \n",
    "\n",
    "The propagation and backpropagation is implemented \"from scratch\" using numpy\n",
    "\n",
    "For debbuging purposes you may want to choose MNIST light. Set $mnist = 0$ in cell [2]"
   ]
  },
  {
   "cell_type": "code",
   "execution_count": 1,
   "id": "finnish-thomson",
   "metadata": {},
   "outputs": [
    {
     "name": "stdout",
     "output_type": "stream",
     "text": [
      "/Users/jean/scikit_learn_data\n"
     ]
    }
   ],
   "source": [
    "import numpy as np\n",
    "import matplotlib.pyplot as plt\n",
    "from sklearn import datasets as ds \n",
    "from sklearn import model_selection as ms\n",
    "\n",
    "#get local download folder where data is stored\n",
    "#you may change this in the call fetch_openml() below\n",
    "data_h = ds.get_data_home()\n",
    "print(data_h)"
   ]
  },
  {
   "cell_type": "code",
   "execution_count": 3,
   "id": "virtual-semester",
   "metadata": {},
   "outputs": [
    {
     "name": "stdout",
     "output_type": "stream",
     "text": [
      "<class 'sklearn.utils.Bunch'>\n",
      "dict_keys(['data', 'target', 'frame', 'feature_names', 'target_names', 'images', 'DESCR'])\n",
      "x shape: (1797, 64)\n",
      "y shape: (1797,)\n"
     ]
    }
   ],
   "source": [
    "#choose 0 to work with mnist light (simpler for debugging) \n",
    "mnist_flag = 0\n",
    "\n",
    "if mnist_flag == 1:\n",
    "    # the first time this will download the data from the internet and put to a local folder \n",
    "    mnist = ds.fetch_openml(name='mnist_784')\n",
    "\n",
    "    # digit is a \"bunch\" i.e. similar to a dictionary\n",
    "    print(type(mnist))\n",
    "    # show the keys of digit\n",
    "    print(mnist.keys())\n",
    "    # get data i.e. the image (x) and labels (y)\n",
    "    x = mnist['data']\n",
    "    # as compare to the in class activity we convert the labels here to int\n",
    "    y = np.array(mnist['target'], dtype='int')\n",
    "    #set image width\n",
    "    img_width = 28\n",
    "else:\n",
    "    mnist_light = ds.load_digits()\n",
    "    # digit is a \"bunch\" i.e. similar to a dictionary\n",
    "    print(type(mnist_light))\n",
    "    # show the keys of digit\n",
    "    print(mnist_light.keys())\n",
    "    # get data i.e. the image (x) and labels (y)\n",
    "    x = mnist_light['data']\n",
    "    y = mnist_light.target\n",
    "    #set image width\n",
    "    img_width = 8\n",
    "    \n",
    "# get the respective shape\n",
    "print(\"x shape:\", x.shape)\n",
    "print(\"y shape:\", y.shape)"
   ]
  },
  {
   "cell_type": "code",
   "execution_count": 4,
   "id": "chronic-taylor",
   "metadata": {},
   "outputs": [
    {
     "data": {
      "image/png": "[encoded data removed]",
      "text/plain": [
       "<Figure size 432x288 with 1 Axes>"
      ]
     },
     "metadata": {
      "needs_background": "light"
     },
     "output_type": "display_data"
    }
   ],
   "source": [
    "def plot_img(img):\n",
    "    fig, ax = plt.subplots()\n",
    "    ax.imshow(img, cmap=plt.cm.gray)\n",
    "    ax.set_axis_off()\n",
    "    \n",
    "    \n",
    "img = x[0,:].reshape((img_width,img_width))\n",
    "plot_img(img)"
   ]
  },
  {
   "cell_type": "code",
   "execution_count": 5,
   "id": "compliant-annotation",
   "metadata": {},
   "outputs": [],
   "source": [
    "def plot_tiles(x_array, rows, cols = -1, digit_size = 28, fig_size = [10,10]):\n",
    "    \"\"\"\n",
    "    plot list of mnist images as single image\n",
    "\n",
    "    Arguments:\n",
    "    x_array -- array of mnist images (being organised as ROWS!)\n",
    "    rows/cols -- an image of rows x cols - mnist images is created (if x_array is smaller zeros ared padded)\n",
    "    digit_size -- width (= height) of one single digit (= 8 for MNIST light, = 28 for MINIST)\n",
    "    fig_size -- size of full image created (default [10,10])\n",
    "    \"\"\"\n",
    "    #use rows = cols as default\n",
    "    if cols < 0:\n",
    "        cols = rows\n",
    "        \n",
    "    if x_array.shape[0] < rows*cols:\n",
    "        cols = int(x_array.shape[0]/rows)\n",
    "        remain = np.mod(x_array.shape[0], rows)\n",
    "        if 0 < remain:\n",
    "            cols += 1\n",
    "            x_array = np.append(x_array, np.zeros((rows-remain, x_array.shape[1])), 0)    \n",
    "        \n",
    "    img = x_array[0:rows,:].reshape(rows*digit_size,digit_size)\n",
    "    for i0 in range(1,cols):\n",
    "        #the reshape operator in the append call takes num of digit_size x digit_size images and \n",
    "        #puts them in a single column; append then does the rest\n",
    "        img = np.append(img, x_array[i0*rows:(i0+1)*rows,:].reshape(rows*digit_size,digit_size),1)\n",
    "\n",
    "    fig = plt.figure(figsize = fig_size)\n",
    "    ax = fig.subplots()\n",
    "    ax.imshow(img, cmap=plt.cm.gray)\n",
    "    ax.set_axis_off()"
   ]
  },
  {
   "cell_type": "code",
   "execution_count": 6,
   "id": "checked-service",
   "metadata": {},
   "outputs": [
    {
     "data": {
      "image/png": "[encoded data removed]",
      "text/plain": [
       "<Figure size 288x288 with 1 Axes>"
      ]
     },
     "metadata": {
      "needs_background": "light"
     },
     "output_type": "display_data"
    }
   ],
   "source": [
    "#append rows x cols tiles of digits\n",
    "rows = 8\n",
    "cols = 8\n",
    "#figure size can be set\n",
    "fig_size = [4,4]\n",
    "\n",
    "plot_tiles(x, rows, cols, img_width, fig_size)"
   ]
  },
  {
   "cell_type": "code",
   "execution_count": 7,
   "id": "noble-award",
   "metadata": {},
   "outputs": [
    {
     "data": {
      "image/png": "[encoded data removed]",
      "text/plain": [
       "<Figure size 288x288 with 1 Axes>"
      ]
     },
     "metadata": {
      "needs_background": "light"
     },
     "output_type": "display_data"
    }
   ],
   "source": [
    "#choose a given digit 0..9\n",
    "digit  = 4\n",
    "\n",
    "plot_tiles(x[y == digit,:], rows, cols, img_width, fig_size)"
   ]
  },
  {
   "cell_type": "code",
   "execution_count": 8,
   "id": "chicken-burns",
   "metadata": {},
   "outputs": [
    {
     "name": "stdout",
     "output_type": "stream",
     "text": [
      "(1527, 64) (270, 64) (1527,) (270,)\n"
     ]
    }
   ],
   "source": [
    "#select training and test set (random_state sets the seed for reproducible results)\n",
    "\n",
    "from sklearn import model_selection as ms\n",
    "\n",
    "#define train and test split\n",
    "x_train, x_test, y_train, y_test = ms.train_test_split(x, y, \n",
    "                                     test_size=0.15, random_state=1)\n",
    "\n",
    "print(x_train.shape, x_test.shape, y_train.shape, y_test.shape)"
   ]
  },
  {
   "cell_type": "code",
   "execution_count": 9,
   "id": "straight-there",
   "metadata": {},
   "outputs": [],
   "source": [
    "#perform normalisation\n",
    "\n",
    "xmax, xmin = np.max(x_train), np.min(x_train)\n",
    "x_train = 2*(x_train - xmin) / (xmax - xmin) - 1\n",
    "x_test = 2*(x_test - xmin) / (xmax - xmin) - 1"
   ]
  },
  {
   "cell_type": "code",
   "execution_count": 10,
   "id": "yellow-pathology",
   "metadata": {},
   "outputs": [],
   "source": [
    "class MiniBatches:\n",
    "    \"\"\"\n",
    "    obtains x- and y-data in the constructor and returns a sample of batch_size with each call to next()\n",
    "    \"\"\"\n",
    "    def __init__(self, x, y, batch_size):\n",
    "        \"\"\"\n",
    "        constructor\n",
    "\n",
    "        Arguments:\n",
    "        x/y -- data\n",
    "        batch_size -- size of batch (0 means one single batch)\n",
    "        \"\"\"\n",
    "        self.x = x\n",
    "        self.y = y\n",
    "        m = x.shape[0]\n",
    "        self.indices = np.arange(m)\n",
    "        self.n = x.shape[1]\n",
    "        \n",
    "        if not batch_size:\n",
    "            self.batch_size = m\n",
    "            self.mb = 1\n",
    "        else:\n",
    "            self.batch_size = batch_size        \n",
    "            self.mb = int(m / self.batch_size)    \n",
    "            np.random.shuffle(self.indices)\n",
    "        \n",
    "        self.ib = 0\n",
    "\n",
    "    def number_of_batches(self):\n",
    "        return self.mb\n",
    "\n",
    "    def next(self):\n",
    "        it = self.indices[self.ib * self.batch_size:(self.ib + 1) * self.batch_size]\n",
    "        x_batch = self.x[it, :]\n",
    "        y_batch = self.y[it]\n",
    "        self.ib += 1\n",
    "\n",
    "        return {'x_batch': x_batch, 'y_batch': y_batch}\n"
   ]
  },
  {
   "cell_type": "markdown",
   "id": "advance-little",
   "metadata": {},
   "source": [
    "### DenseLayer\n",
    "Implementation of class for dense layer of MLP with sigmoid activation function. This class is used by the class MultiLayerPerceptron below."
   ]
  },
  {
   "cell_type": "code",
   "execution_count": 11,
   "id": "female-reducing",
   "metadata": {},
   "outputs": [],
   "source": [
    "class DenseLayer:\n",
    "    \"\"\"\n",
    "    constructs a dense layer with sigmoid activation function for a MLP\n",
    "    \"\"\"\n",
    "    def __init__(self, num_in, num_out):\n",
    "        \"\"\"\n",
    "        constructor\n",
    "\n",
    "        Arguments:\n",
    "        num_in -- number of inputs (i.e. of neurons from previous layer)\n",
    "        num_out -- number of outputs (i.e. of neurons in this layer) \n",
    "        \"\"\"\n",
    "        \n",
    "        self.num_in = num_in\n",
    "        self.num_out = num_out\n",
    "        \n",
    "        # initialize weights and bias (zero or random)\n",
    "        self.initialise_weights()\n",
    "    \n",
    "    \n",
    "    def initialise_weights(self):\n",
    "        \"\"\"\n",
    "        initialise weights\n",
    "        \"\"\"\n",
    "        # initialize weights and bias \n",
    "        random_std_W = np.sqrt(2.0/(self.num_in + self.num_out)) # suited for sigmoid activation function     \n",
    "        random_std_B = np.sqrt(1.0/self.num_out)\n",
    "        self.W = random_std_W * np.random.randn(self.num_in, self.num_out)        \n",
    "        self.B = random_std_B * np.random.randn(1, self.num_out)\n",
    "        \n",
    "        \n",
    "    def sigmoid(self, z):\n",
    "        return 1/(1+np.exp(-z))\n",
    "    \n",
    "    \n",
    "    def d_sigmoid(self, z):\n",
    "        \"\"\"\n",
    "        calculates the derivative of the sigmoid function\n",
    "        \"\"\"\n",
    "        return self.sigmoid(z)*(1 - self.sigmoid(z))\n",
    "        \n",
    "        \n",
    "    def propagate(self, a_in):\n",
    "        \"\"\"\n",
    "        calculates the activation a_out based on activation from previous layer a_in\n",
    "        \"\"\"    \n",
    "        self.num_samples = a_in.shape[0] #may change in different steps\n",
    "        self.a_in = a_in # required for back_prop\n",
    "        \n",
    "        ### START YOUR CODE ###\n",
    "        \n",
    "        #calculate logits (for back_prop)\n",
    "        self.Z = self.a_in @ self.W + self.B\n",
    "        a_out = self.sigmoid(self.Z)   \n",
    "        \n",
    "        ### END YOUR CODE ###         \n",
    "        \n",
    "        return a_out\n",
    "            \n",
    "     \n",
    "    def back_propagate(self, dL_da_out):\n",
    "        \"\"\"\n",
    "        calculates the backpropagation results based on the gradient of cost wrt to output activations\n",
    "        this function must be performed AFTER the corresponding propagte step\n",
    "        \"\"\"    \n",
    "        ### START YOUR CODE ###\n",
    "        \n",
    "        dL_dz = np.multiply(dL_da_out,self.d_sigmoid(self.Z))\n",
    "        dL_da_in = dL_dz.dot(self.W.T)\n",
    "        self.dL_dW = self.a_in.T.dot(dL_dz) / self.num_samples\n",
    "        self.dL_dB = np.sum(dL_dz, axis=0, keepdims=True) / self.num_samples\n",
    "\n",
    "        ### END YOUR CODE ###    \n",
    "        \n",
    "        return dL_da_in\n",
    "        \n",
    "        \n",
    "    def gradient_descend(self, alpha):\n",
    "        \"\"\"\n",
    "        does the gradient descend based on results from last back_prop step with learning rate alpha\n",
    "        \"\"\"\n",
    "        self.W -= alpha * self.dL_dW\n",
    "        self.B -= alpha * self.dL_dB\n",
    "        "
   ]
  },
  {
   "cell_type": "markdown",
   "id": "contrary-violin",
   "metadata": {},
   "source": [
    "### SoftmaxLayer\n",
    "Implementation of class for softmax layer of MultiLayerPerceptron below. This class is used by the class MLP"
   ]
  },
  {
   "cell_type": "code",
   "execution_count": 12,
   "id": "major-income",
   "metadata": {},
   "outputs": [],
   "source": [
    "class SoftmaxLayer:\n",
    "    \"\"\"\n",
    "    constructs a sofmax layer for output of a MLP\n",
    "    \"\"\"\n",
    "    def __init__(self, num_in, num_out):\n",
    "        \"\"\"\n",
    "        constructor\n",
    "\n",
    "        Arguments:\n",
    "        num_in -- number of inputs from previous layer\n",
    "        num_out -- number of neurons i.e. if outputs\n",
    "        \"\"\"\n",
    "        \n",
    "        self.num_in = num_in\n",
    "        self.num_out = num_out\n",
    "        \n",
    "        # initialize weights and bias (zero or random)\n",
    "        self.initialise_weights()\n",
    "    \n",
    "    \n",
    "    def initialise_weights(self):\n",
    "        \"\"\"\n",
    "        initialise weights\n",
    "        \"\"\"\n",
    "        # initialize weights and bias \n",
    "        random_std_W = np.sqrt(2.0/(self.num_in + self.num_out)) # suited for sigmoid activation function     \n",
    "        random_std_B = np.sqrt(1.0/self.num_out)\n",
    "        self.W = random_std_W * np.random.randn(self.num_in, self.num_out)        \n",
    "        self.B = random_std_B * np.random.randn(1, self.num_out)\n",
    "        \n",
    "        \n",
    "    def propagate(self, a_in):\n",
    "        \"\"\"\n",
    "        calculates the activation a_out based on activation from previous layer a_in\n",
    "        \"\"\"    \n",
    "        self.num_samples = a_in.shape[0] #may change in different steps\n",
    "        self.a_in = a_in # required for back_prop\n",
    "        \n",
    "        ### START YOUR CODE ###\n",
    "        \n",
    "        #calculate logits (for back_prop)\n",
    "        self.Z = np.dot(a_in, self.W) + self.B\n",
    "        self.y_pred = (np.exp(self.Z.T) / np.sum(np.exp(self.Z), axis=1)).T\n",
    "        \n",
    "        ### END YOUR CODE ###       \n",
    "        \n",
    "        return self.y_pred\n",
    "    \n",
    "    \n",
    "    def one_hot(self, y):\n",
    "        \"\"\"\n",
    "        construct onehot vector from set of labels\n",
    "        \"\"\"\n",
    "        m = y.shape[0]\n",
    "        one_hot = np.zeros((m, self.num_out), dtype=float)\n",
    "        one_hot[np.arange(m), y] = 1\n",
    "\n",
    "        return one_hot\n",
    "            \n",
    "     \n",
    "    def back_propagate(self, y):\n",
    "        \"\"\"\n",
    "        calculates the backpropagation results based on expected output y\n",
    "        this function must be performed AFTER the corresponding propagte step\n",
    "        \"\"\"    \n",
    "        ### START YOUR CODE ###\n",
    "        \n",
    "        m = self.a_in.shape[0]\n",
    "        y_pred = self.propagate(self.a_in)\n",
    "        y_one_hot = self.one_hot(y)\n",
    "\n",
    "        dL_dz = (y_one_hot - y_pred) / m\n",
    "        dL_da_in = -(y_one_hot - y_pred) @ self.W.T\n",
    "\n",
    "        self.dL_dW = -self.a_in.T @ (y_one_hot - y_pred) / m\n",
    "        self.dL_dB = -np.mean(y_one_hot - y_pred, axis=0).reshape(1, y_pred.shape[1])   \n",
    "        \n",
    "        ### END YOUR CODE ###       \n",
    "        \n",
    "        return dL_da_in\n",
    "        \n",
    "        \n",
    "    def gradient_descend(self, alpha):\n",
    "        \"\"\"\n",
    "        does the gradient descend based on results from last back_prop step with learning rate alpha\n",
    "        \"\"\"\n",
    "        self.W -= alpha * self.dL_dW\n",
    "        self.B -= alpha * self.dL_dB\n",
    "        "
   ]
  },
  {
   "cell_type": "markdown",
   "id": "committed-madison",
   "metadata": {},
   "source": [
    "### Class MultiLayerPerceptron\n",
    "\n",
    "This class constructs a full MLP based on the list of layers given in constructor. The hidden layers are all dense layers with sigmoid activation function the output layer is of softmax type.\n",
    "\n",
    "The method $optimise()$ does the training. It receives the training and validation data as dictionary, the number of epochs, the learning rate and the batch size. The method $optimise()$ can be called several times in a row with different parameters e.g. learning rates (c.f. cell directly below the class definition for an example)."
   ]
  },
  {
   "cell_type": "code",
   "execution_count": 13,
   "id": "intellectual-ordinary",
   "metadata": {},
   "outputs": [],
   "source": [
    "class MultiLayerPerceptron:\n",
    "    \"\"\"\n",
    "    MLP class handling the layers and doing all prop and back_prop steps\n",
    "    we assume all hidden layers to be dense (with sigmoid activation) and the last layer to be softmax\n",
    "    \"\"\"\n",
    "    def __init__(self, list_num_neurons):\n",
    "        \"\"\"\n",
    "        constructor\n",
    "\n",
    "        Arguments:\n",
    "        list_num_neurons -- list of layer sizes including in- and output layer\n",
    "        \n",
    "        \"\"\"\n",
    "        self.layers = []\n",
    "        #first construct dense layers (if any)\n",
    "        for i0 in range(len(list_num_neurons)-2):\n",
    "            new_layer = DenseLayer(list_num_neurons[i0], list_num_neurons[i0+1])\n",
    "            self.layers.append(new_layer)\n",
    "            \n",
    "        #finally add softmax layer\n",
    "        new_layer = SoftmaxLayer(list_num_neurons[-2], list_num_neurons[-1])\n",
    "        self.layers.append(new_layer)\n",
    "        \n",
    "        # result array\n",
    "        self.result_data = np.array([])\n",
    "        \n",
    "        #we keep a global step counter, thus that optimise can be called \n",
    "        #several times with different settings\n",
    "        self.epoch_counter = 0 \n",
    "        \n",
    "        \n",
    "    def propagate(self, x):\n",
    "        \"\"\"\n",
    "        calls successively propagate methods of all layers \n",
    "        result of each layer is passed to next layer\n",
    "        \"\"\"\n",
    "        for layers in self.layers:\n",
    "            x = layers.propagate(x)\n",
    "            \n",
    "        return x\n",
    "    \n",
    "    \n",
    "    def back_propagate(self, y):\n",
    "        \"\"\"\n",
    "        calls successively back_propagate methods of all layers \n",
    "        result of each layer is passed to next layer\n",
    "        \"\"\"\n",
    "        #first do softmax\n",
    "        dL_da_out = self.layers[-1].back_propagate(y)\n",
    "        #now the remaining layers\n",
    "        for i0 in reversed(range(len(self.layers)-1)):\n",
    "            dL_da_out = self.layers[i0].back_propagate(dL_da_out)\n",
    "            \n",
    "        return dL_da_out\n",
    "    \n",
    "    \n",
    "    def gradient_descend(self, alpha):\n",
    "        \"\"\"\n",
    "        calls successively gradient_descend methods of all layers \n",
    "        \"\"\"\n",
    "        for layers in self.layers:\n",
    "            layers.gradient_descend(alpha)  \n",
    "    \n",
    "    \n",
    "    def calc_error(self, y_pred, y):\n",
    "        \"\"\"\n",
    "        get error information\n",
    "        \"\"\"\n",
    "        m = y.shape[0]\n",
    "\n",
    "        y_pred_argmax = np.argmax(y_pred, axis=1)\n",
    "        train_error = np.sum(y != y_pred_argmax) / m\n",
    "\n",
    "        return train_error\n",
    "    \n",
    "    \n",
    "    def cost_funct(self, y_pred, y):\n",
    "        \"\"\"\n",
    "        calculates the CE cost function\n",
    "        \"\"\"\n",
    "        m = y.shape[0]\n",
    "\n",
    "        py = y_pred[np.arange(m), y]\n",
    "        \n",
    "        #prevent overflow\n",
    "        eps=1.0e-12\n",
    "        py = np.clip(py,eps,1)\n",
    "        cost = -np.sum(np.log(py)) / m\n",
    "\n",
    "        return cost\n",
    "    \n",
    "    \n",
    "    def append_result(self, res_data):\n",
    "        \"\"\"\n",
    "        append cost and error data to output array\n",
    "        \"\"\"\n",
    "        # first call\n",
    "        if self.result_data.size == 0:\n",
    "            self.result_data = res_data\n",
    "        else:\n",
    "            self.result_data = np.append(self.result_data, res_data, 0)\n",
    "\n",
    "        return res_data\n",
    "    \n",
    "    \n",
    "    def save_results(self):\n",
    "        \"\"\"\n",
    "        prediction on full data set (train and validation) and saving of data\n",
    "        \"\"\"\n",
    "        # predicted outcome for train [0] and validation data [1]\n",
    "        self.y_pred = [self.propagate(self.data['x_train']), self.propagate(self.data['x_val'])]\n",
    "\n",
    "        # determine cost functions for train [0] and validation data [1]\n",
    "        self.cost = [self.cost_funct(self.y_pred[0], self.data['y_train']),\n",
    "                     self.cost_funct(self.y_pred[1], self.data['y_val'])]\n",
    "\n",
    "        res_data = np.array([[self.epoch_counter, self.cost[0], self.calc_error(self.y_pred[0], self.data['y_train']),\n",
    "                              self.cost[1], self.calc_error(self.y_pred[1], self.data['y_val'])]])\n",
    "        #here we increase the epoch counter\n",
    "        self.epoch_counter += 1\n",
    "        \n",
    "        self.append_result(res_data)\n",
    "\n",
    "        return res_data\n",
    "    \n",
    "        \n",
    "    def optimise(self, data, epochs, alpha, batch_size, debug=False):\n",
    "        \"\"\"\n",
    "        performs epochs number of gradient descend steps and appends result to output array\n",
    "\n",
    "        Arguments:\n",
    "        data -- dictionary with NORMALISED data\n",
    "        epochs -- number of epochs\n",
    "        alpha -- learning rate\n",
    "        batch_size -- size of batch\n",
    "        debug -- False (default)/True; get info on each gradient descend step\n",
    "        \"\"\"\n",
    "        #access to data from other methods\n",
    "        self.data = data\n",
    "        \n",
    "        # save results before 1st step\n",
    "        if self.epoch_counter == 0:\n",
    "            res_data = self.save_results()\n",
    "\n",
    "        for i0 in range(0, epochs):\n",
    "            #create batches for each epoch\n",
    "            batches = MiniBatches(data['x_train'], data['y_train'], batch_size)\n",
    "\n",
    "            for ib in range(batches.number_of_batches()):\n",
    "                self.batch = batches.next()\n",
    "                x = self.batch['x_batch']\n",
    "                y = self.batch['y_batch']\n",
    "                self.propagate(x)\n",
    "                self.back_propagate(y)\n",
    "                self.gradient_descend(alpha)\n",
    "                        \n",
    "            #we save only once per epoch\n",
    "            res_data = self.save_results()\n",
    "            if debug and np.mod(i0, 5) == 0:\n",
    "                print('step %r, cost %r, error %r' % (res_data[0, 0], res_data[0, 1], res_data[0, 2]))\n",
    "\n",
    "        print('result after %d epochs, train: cost %.5f, error %.5f ; validation: cost %.5f, error %.5f'\n",
    "              % (res_data[0, 0], res_data[0, 1], res_data[0, 2], res_data[0, 3], res_data[0, 4]))\n",
    "    "
   ]
  },
  {
   "cell_type": "markdown",
   "id": "interpreted-detector",
   "metadata": {},
   "source": [
    "### Sample execution of MultiLayerPerceptron\n",
    "\n",
    "The cell below shows how to use the class MultiLayerPerceptron and how to perform the optimisation. The training and validation data is given as dictionary in the call to the method $optimise()$. This method can be called several times in a row with different arguments.\n"
   ]
  },
  {
   "cell_type": "code",
   "execution_count": 14,
   "id": "valid-collapse",
   "metadata": {},
   "outputs": [
    {
     "name": "stdout",
     "output_type": "stream",
     "text": [
      "result after 100 epochs, train: cost 0.34907, error 0.06552 ; validation: cost 0.36305, error 0.06536\n"
     ]
    }
   ],
   "source": [
    "#choose validation set\n",
    "validation_size = 0.2\n",
    "valid_ind = int(x_train.shape[0]*(1-validation_size))\n",
    "\n",
    "#data is arranged as dictionary with quick access through respective keys\n",
    "data = {'x_train' : x_train[:valid_ind,:], 'y_train' : y_train[:valid_ind],  \\\n",
    "          'x_val' : x_train[valid_ind:,:], 'y_val' : y_train[valid_ind:]}\n",
    "\n",
    "batch_size=256\n",
    "\n",
    "#the number of hidden layer is given as list (including input, i.e. number of features, \n",
    "#and output layer, i.e. number of classes)\n",
    "mlp = MultiLayerPerceptron([x.shape[1], 150,10])\n",
    "\n",
    "#you may choose different learnng rates during the training\n",
    "mlp.optimise(data, 100, 0.1, batch_size)\n",
    "#mlp.optimise(data, 50, 0.1, batch_size)"
   ]
  },
  {
   "cell_type": "code",
   "execution_count": 15,
   "id": "given-williams",
   "metadata": {},
   "outputs": [
    {
     "name": "stdout",
     "output_type": "stream",
     "text": [
      "test error = 0.06666666666666667\n"
     ]
    }
   ],
   "source": [
    "#finally check performance on test set\n",
    "y_pred = mlp.propagate(x_test)\n",
    "test_error = mlp.calc_error(y_pred, y_test)\n",
    "print('test error = %r' % test_error)"
   ]
  },
  {
   "cell_type": "code",
   "execution_count": 16,
   "id": "binding-fitness",
   "metadata": {},
   "outputs": [],
   "source": [
    "def plot_cost():\n",
    "    #analyse cost as function of epochs\n",
    "    epochs = mlp.result_data[:,0]\n",
    "    train_costs = mlp.result_data[:,1]\n",
    "    val_costs = mlp.result_data[:,3]\n",
    "\n",
    "    plt.semilogy(epochs, train_costs, label=\"train\")\n",
    "    plt.semilogy(epochs, val_costs, label=\"validation\")\n",
    "    plt.ylabel('Cost')\n",
    "    plt.xlabel('Epochs')\n",
    "    xmax = epochs[-1]\n",
    "    ymin = 5e-3\n",
    "    ymax = 2\n",
    "    plt.axis([0,xmax,ymin,ymax])\n",
    "\n",
    "    plt.legend()\n",
    "    plt.show() "
   ]
  },
  {
   "cell_type": "code",
   "execution_count": 17,
   "id": "closing-junction",
   "metadata": {},
   "outputs": [],
   "source": [
    "def plot_error():\n",
    "    #analyse error as function of epochs\n",
    "    epochs = mlp.result_data[:,0]\n",
    "    train_error = mlp.result_data[:,2]\n",
    "    val_error = mlp.result_data[:,4]\n",
    "\n",
    "    plt.semilogy(epochs, train_error, label=\"train\")\n",
    "    plt.semilogy(epochs, val_error, label=\"validation\")\n",
    "    plt.ylabel('Error')\n",
    "    plt.xlabel('Epochs')\n",
    "    xmax = epochs[-1]\n",
    "    ymin = 5e-4\n",
    "    ymax = 5e-1\n",
    "    plt.axis([0,xmax,ymin,ymax])\n",
    "    plt.legend()\n",
    "    plt.show() "
   ]
  },
  {
   "cell_type": "code",
   "execution_count": 18,
   "id": "statewide-aluminum",
   "metadata": {},
   "outputs": [
    {
     "data": {
      "image/png": "[encoded data removed]",
      "text/plain": [
       "<Figure size 432x288 with 1 Axes>"
      ]
     },
     "metadata": {
      "needs_background": "light"
     },
     "output_type": "display_data"
    },
    {
     "data": {
      "image/png": "[encoded data removed]",
      "text/plain": [
       "<Figure size 432x288 with 1 Axes>"
      ]
     },
     "metadata": {
      "needs_background": "light"
     },
     "output_type": "display_data"
    }
   ],
   "source": [
    "plot_cost()\n",
    "plot_error()"
   ]
  },
  {
   "cell_type": "code",
   "execution_count": 19,
   "id": "returning-safety",
   "metadata": {},
   "outputs": [
    {
     "name": "stdout",
     "output_type": "stream",
     "text": [
      "result after 100 epochs, train: cost 0.35252, error 0.06143 ; validation: cost 0.36926, error 0.07516\n",
      "Fold 1 is done\n",
      "result after 100 epochs, train: cost 0.34584, error 0.05815 ; validation: cost 0.41012, error 0.08824\n",
      "Fold 2 is done\n",
      "result after 100 epochs, train: cost 0.35389, error 0.06628 ; validation: cost 0.36356, error 0.06557\n",
      "Fold 3 is done\n",
      "result after 100 epochs, train: cost 0.34207, error 0.05319 ; validation: cost 0.37323, error 0.07541\n",
      "Fold 4 is done\n",
      "result after 100 epochs, train: cost 0.35473, error 0.05728 ; validation: cost 0.35812, error 0.06557\n",
      "Fold 5 is done\n"
     ]
    }
   ],
   "source": [
    "#implement k-fold cross validation\n",
    "\n",
    "#choose k-fold \n",
    "k_fold = 5\n",
    "\n",
    "### START YOUR CODE ###\n",
    "\n",
    "x_folds = np.array_split(x_train, k_fold)\n",
    "y_folds = np.array_split(y_train, k_fold)\n",
    "\n",
    "results_k_fold = []\n",
    "\n",
    "for i in range(k_fold):\n",
    "    x_train_fold = x_folds.copy() \n",
    "    x_val_fold = x_folds[i]\n",
    "    del x_train_fold[i]\n",
    "    x_train_fold = np.concatenate(x_train_fold, axis=0)\n",
    "    \n",
    "    y_train_fold = y_folds.copy() \n",
    "    y_val_fold = y_folds[i]\n",
    "    del y_train_fold[i]\n",
    "    y_train_fold = np.concatenate(y_train_fold, axis=0)\n",
    "    \n",
    "    data = {'x_train' : x_train_fold, 'y_train' : y_train_fold,  \\\n",
    "          'x_val' : x_val_fold, 'y_val' : y_val_fold}\n",
    "\n",
    "    batch_size=256\n",
    "\n",
    "    #the number of hidden layer is given as list (including input, i.e. number of features, \n",
    "    #and output layer, i.e. number of classes)\n",
    "    mlp = MultiLayerPerceptron([x.shape[1], 150,10])\n",
    "\n",
    "    #you may choose different learnng rates during the training\n",
    "    mlp.optimise(data, 100, 0.1, batch_size)\n",
    "    results_k_fold.append(mlp.save_results()[0])\n",
    "    print(f\"Fold {i+1} is done\")\n",
    "    \n",
    "results_k_fold = np.array(results_k_fold)\n",
    "### STOP YOUR CODE ###"
   ]
  },
  {
   "cell_type": "code",
   "execution_count": 20,
   "id": "verified-church",
   "metadata": {},
   "outputs": [
    {
     "name": "stdout",
     "output_type": "stream",
     "text": [
      "mean validation error: 0.07399 , variance: 0.00834\n"
     ]
    }
   ],
   "source": [
    "print('mean validation error: %.7r , variance: %.7r' %(np.mean(results_k_fold[:,4]) , np.std(results_k_fold[:,4])))"
   ]
  },
  {
   "cell_type": "markdown",
   "id": "anonymous-giant",
   "metadata": {},
   "source": [
    "### Describe your Findings for Exercise 3\n",
    "\n",
    "By running the training with different settings for learning rate, number of epochs, batch size explore which combination is best suited to obtain good test performance. .\n",
    "\n",
    "Specify your choice of these hyper-parameters and justify why you consider your choice best suited.\n",
    "\n",
    "Finally estimate the variance, i.e. the generalisation error through 5-fold cross validation."
   ]
  },
  {
   "cell_type": "markdown",
   "id": "corrected-barbados",
   "metadata": {},
   "source": [
    "#### YOUR FINDINGS ...\n",
    "It can be seen that the 3 hidden layer model overfits more than the 1 hidden layer model. This is because the architecture of the model is too complex and it has too many parameters. We can also see that the more the model overfits the lower the test errors. So we have to find a compromise for the model between low test error and low overfitting. Compared to the experiment above, the model which seems to respect this compromise the best is: **The model with one hidden layer with Batch size = 256, Learning rate = 0.1, Epoch = 100**\n",
    "\n",
    "It is this model which will be selected.\n",
    "\n",
    "For more details please consult the report"
   ]
  },
  {
   "cell_type": "code",
   "execution_count": 21,
   "id": "selected-grocery",
   "metadata": {},
   "outputs": [
    {
     "name": "stdout",
     "output_type": "stream",
     "text": [
      "(20, 64)\n",
      "[[ 8  1 -1 -1 -1 -1 -1 -1 -1 -1 -1 -1 -1 -1 -1]\n",
      " [ 8  1 -1 -1 -1 -1 -1 -1 -1 -1 -1 -1 -1 -1 -1]\n",
      " [ 1  3 -1 -1 -1 -1 -1 -1 -1 -1 -1 -1 -1 -1 -1]\n",
      " [ 8  8 -1 -1 -1 -1 -1 -1 -1 -1 -1 -1 -1 -1 -1]\n",
      " [ 8  8 -1 -1 -1 -1 -1 -1 -1 -1 -1 -1 -1 -1 -1]\n",
      " [ 1 -1 -1 -1 -1 -1 -1 -1 -1 -1 -1 -1 -1 -1 -1]\n",
      " [ 8 -1 -1 -1 -1 -1 -1 -1 -1 -1 -1 -1 -1 -1 -1]\n",
      " [ 3 -1 -1 -1 -1 -1 -1 -1 -1 -1 -1 -1 -1 -1 -1]\n",
      " [ 1 -1 -1 -1 -1 -1 -1 -1 -1 -1 -1 -1 -1 -1 -1]\n",
      " [ 1 -1 -1 -1 -1 -1 -1 -1 -1 -1 -1 -1 -1 -1 -1]\n",
      " [ 2 -1 -1 -1 -1 -1 -1 -1 -1 -1 -1 -1 -1 -1 -1]\n",
      " [ 9 -1 -1 -1 -1 -1 -1 -1 -1 -1 -1 -1 -1 -1 -1]\n",
      " [ 1 -1 -1 -1 -1 -1 -1 -1 -1 -1 -1 -1 -1 -1 -1]\n",
      " [ 6 -1 -1 -1 -1 -1 -1 -1 -1 -1 -1 -1 -1 -1 -1]\n",
      " [ 4 -1 -1 -1 -1 -1 -1 -1 -1 -1 -1 -1 -1 -1 -1]]\n"
     ]
    },
    {
     "data": {
      "image/png": "[encoded data removed]",
      "text/plain": [
       "<Figure size 288x288 with 1 Axes>"
      ]
     },
     "metadata": {
      "needs_background": "light"
     },
     "output_type": "display_data"
    }
   ],
   "source": [
    "#analyse false classified images\n",
    "\n",
    "#switch to see training errors\n",
    "if False:\n",
    "    y_pred = mlp.y_pred[0]\n",
    "    x_data = mlp.data['x_train']\n",
    "    y_data = mlp.data['y_train']\n",
    "else:\n",
    "    y_pred = mlp.y_pred[1]\n",
    "    x_data = mlp.data['x_val']\n",
    "    y_data = mlp.data['y_val']\n",
    "\n",
    "\n",
    "#choose here the number of digits shown, a full image of rows x cols tiles of digits is created\n",
    "rows = 15\n",
    "cols = 15\n",
    "#figure size can be set\n",
    "fig_size = [4,4]\n",
    "\n",
    "\n",
    "yhat = np.argmax(y_pred, axis=1)\n",
    "indices = np.where(yhat != y_data)[0]\n",
    "\n",
    "false_classifications = x_data[indices,:]\n",
    "\n",
    "print(false_classifications.shape)\n",
    "\n",
    "plot_tiles(false_classifications, rows, cols, img_width, fig_size)\n",
    "\n",
    "\n",
    "#print the correct labels \n",
    "correct_labels = y_data[indices]\n",
    "\n",
    "if correct_labels.shape[0] < rows*cols:\n",
    "    correct_labels = np.append(correct_labels, -np.ones((rows*cols-correct_labels.shape[0])))\n",
    "    \n",
    "correct_labels = correct_labels[:rows*cols].reshape(cols,rows).T\n",
    "\n",
    "print(np.array(correct_labels, dtype = int))"
   ]
  },
  {
   "cell_type": "code",
   "execution_count": 22,
   "id": "raising-clothing",
   "metadata": {},
   "outputs": [
    {
     "data": {
      "image/png": "[encoded data removed]",
      "text/plain": [
       "<Figure size 720x720 with 1 Axes>"
      ]
     },
     "metadata": {
      "needs_background": "light"
     },
     "output_type": "display_data"
    }
   ],
   "source": [
    "#visualise the weights of the first layer, order is:\n",
    "#0 r+1 .... r*(c-1)+1\n",
    "#1 r+2 .... r*(c-1)+2\n",
    "#................\n",
    "#r 2r  .... r*c\n",
    "\n",
    "rows = 10\n",
    "cols = 15\n",
    "#figure size can be set\n",
    "fig_size = [10,10]\n",
    "\n",
    "plot_tiles(mlp.layers[0].W.T, rows, cols, img_width, fig_size)"
   ]
  },
  {
   "cell_type": "markdown",
   "id": "provincial-clinton",
   "metadata": {},
   "source": [
    "# Tests\n",
    "### Test analytical value of derivative using backpropagation through comparison with difference quotient¶\n"
   ]
  },
  {
   "cell_type": "code",
   "execution_count": 28,
   "id": "roman-guard",
   "metadata": {},
   "outputs": [
    {
     "name": "stdout",
     "output_type": "stream",
     "text": [
      "test weights W for layer 0\n",
      "test bias B for layer 0\n",
      "test weights W for layer 1\n",
      "test bias B for layer 1\n",
      "test weights W for layer 2\n",
      "test bias B for layer 2\n",
      "test weights W for layer 3\n",
      "test bias B for layer 3\n"
     ]
    }
   ],
   "source": [
    "#define set of m dummy samples with num_features features each being N(0,1) normalised\n",
    "num_features = 50\n",
    "m = 3\n",
    "num_outcomes = 4\n",
    "x_0 = np.random.randn(m, num_features)\n",
    "y_0 = np.random.randint(0,num_outcomes,size=m)\n",
    "\n",
    "#create a dummy MLP; num of input and output layers is fixed, hidden layers can be configured\n",
    "mlp_0 = MultiLayerPerceptron([num_features, 50, 40, 30,num_outcomes])\n",
    "\n",
    "#do propagation and backpropagation\n",
    "y_pred = mlp_0.propagate(x_0)\n",
    "dL_x = mlp_0.back_propagate(y_0)\n",
    "\n",
    "L = mlp_0.cost_funct(y_pred, y_0)\n",
    "\n",
    "#apply eps to given layer\n",
    "eps = 1.0e-8\n",
    "#maximum allowed difference\n",
    "max_diff = 4.0e-7\n",
    "\n",
    "#loop over all layers\n",
    "layer_ind = 0\n",
    "for layer in mlp_0.layers:\n",
    "    print('test weights W for layer %r' % layer_ind)\n",
    "    #loop over all weights in layer\n",
    "    for i0 in range(layer.W.shape[0]):\n",
    "        for i1 in range(layer.W.shape[1]):\n",
    "            #add eps to weight\n",
    "            layer.W[i0,i1] += eps\n",
    "            #do propagation\n",
    "            y_pred = mlp_0.propagate(x_0)\n",
    "            #determine new cost function and ...\n",
    "            L_eps = mlp_0.cost_funct(y_pred, y_0)\n",
    "            #determine approx. derivative\n",
    "            dL = (L_eps-L)/eps\n",
    "\n",
    "            #compare this value to result from backpropagation\n",
    "            if np.abs(dL - layer.dL_dW[i0,i1]) > max_diff:\n",
    "                print('layer = %r, i0 = %r, i1 = %r, diff = %r' %(layer_ind, i0, i1, dL-layer.dL_dW[i0,i1]))\n",
    "\n",
    "            #set value back to original value\n",
    "            layer.W[i0,i1] -= eps\n",
    "\n",
    "    print('test bias B for layer %r' % layer_ind)\n",
    "    \n",
    "    ### START YOUR CODE ###\n",
    "    for i0 in range(layer.B.shape[0]):\n",
    "        for i1 in range(layer.B.shape[1]):\n",
    "            #add eps to weight\n",
    "            layer.B[i0,i1] += eps\n",
    "            #do propagation\n",
    "            y_pred = mlp_0.propagate(x_0)\n",
    "            #determine new cost function and ...\n",
    "            L_eps = mlp_0.cost_funct(y_pred, y_0)\n",
    "            #determine approx. derivative\n",
    "            dL = (L_eps-L)/eps\n",
    "\n",
    "            #compare this value to result from backpropagation\n",
    "            if np.abs(dL - layer.dL_dB[i0,i1]) > max_diff:\n",
    "                print('layer = %r, i0 = %r, i1 = %r, diff = %r' %(layer_ind, i0, i1, dL-layer.dL_dB[i0,i1]))\n",
    "\n",
    "            #set value back to original value\n",
    "            layer.B[i0,i1] -= eps\n",
    "    ### STOP YOUR CODE ###\n",
    "            \n",
    "    layer_ind += 1"
   ]
  },
  {
   "cell_type": "markdown",
   "id": "greatest-cooperative",
   "metadata": {},
   "source": [
    "# Unit Tests\n",
    "### Unit Test for DenseLayer propagate¶"
   ]
  },
  {
   "cell_type": "code",
   "execution_count": 24,
   "id": "macro-execution",
   "metadata": {},
   "outputs": [],
   "source": [
    "x_0 = np.array([0.2,0.1,-0.3, 0.2, 0.5,-1.0, 1.0,1.5,0.1,-0.3, 0.2,-1.0]).reshape(4,3)\n",
    "\n",
    "\n",
    "#set seed to have reproducible weight and bias values\n",
    "np.random.seed(1)\n",
    "denseLayer = DenseLayer(3,10)\n",
    "\n",
    "#do propagation\n",
    "y_pred = denseLayer.propagate(x_0)\n",
    "\n",
    "#compare with expected result\n",
    "y_exp = np.array([[0.52387181, 0.40396787, 0.40673666, 0.39516787, 0.44870316,\n",
    "        0.46325643, 0.44800045, 0.52250828, 0.64177606, 0.54377411],\n",
    "       [0.65184139, 0.26376729, 0.33724394, 0.34890365, 0.43158856,\n",
    "        0.46702823, 0.44965501, 0.55213273, 0.65999146, 0.53030523],\n",
    "       [0.77477231, 0.1776142 , 0.35920889, 0.29020704, 0.6962619 ,\n",
    "        0.17069921, 0.55595931, 0.31483054, 0.66023506, 0.62258729],\n",
    "       [0.53408132, 0.33982198, 0.36956609, 0.40896545, 0.35927701,\n",
    "        0.61033343, 0.37192652, 0.6134586 , 0.64467654, 0.525402  ]]\n",
    ")\n",
    "np.testing.assert_array_almost_equal(y_pred,y_exp,decimal=8)"
   ]
  },
  {
   "cell_type": "markdown",
   "id": "spatial-template",
   "metadata": {},
   "source": [
    "### Unit Test for DenseLayer back_propagate\n",
    "Assumes that Unit Test for propagate is correct¶"
   ]
  },
  {
   "cell_type": "code",
   "execution_count": 25,
   "id": "behavioral-container",
   "metadata": {},
   "outputs": [],
   "source": [
    "x_0 = np.array([0.2,0.1,-0.3, 0.2, 0.5,-1.0, 1.0,1.5,0.1,-0.3, 0.2,-1.0]).reshape(4,3)\n",
    "\n",
    "\n",
    "#set seed to have reproducible weight and bias values\n",
    "np.random.seed(1)\n",
    "denseLayer = DenseLayer(3,10)\n",
    "\n",
    "#do propagation\n",
    "y_pred = denseLayer.propagate(x_0)\n",
    "dL_da = denseLayer.back_propagate(y_pred)\n",
    "\n",
    "dL_da_exp = np.array([[-0.02431088, -0.04973171,  0.00828529],\n",
    "       [ 0.00498509, -0.00298277, -0.0359108 ],\n",
    "       [ 0.14366991,  0.09539264,  0.02318067],\n",
    "       [-0.0743301 , -0.06057902, -0.02875787]])\n",
    "\n",
    "dL_dW_exp = np.array([[ 0.03776203,  0.00819259,  0.02288887,  0.01621628,  0.04145237,\n",
    "         0.00672648,  0.03889928,  0.01941287,  0.04073352,  0.04009638],\n",
    "       [ 0.0791024 ,  0.02237512,  0.04718678,  0.03962846,  0.07536214,\n",
    "         0.03373019,  0.07249135,  0.05306632,  0.08512549,  0.08129332],\n",
    "       [-0.07662816, -0.03851108, -0.04566434, -0.05011735, -0.05178891,\n",
    "        -0.07338575, -0.05441669, -0.07857942, -0.0813079 , -0.07223553]])\n",
    "\n",
    "dL_dB_exp = np.array([[0.13667473, 0.06266722, 0.08557748, 0.08308514, 0.1117058 ,\n",
    "        0.10018896, 0.11154816, 0.12006886, 0.14785754, 0.13607328]])\n",
    "\n",
    "np.testing.assert_array_almost_equal(dL_da,dL_da_exp,decimal=8)\n",
    "np.testing.assert_array_almost_equal(denseLayer.dL_dW,dL_dW_exp,decimal=8)\n",
    "np.testing.assert_array_almost_equal(denseLayer.dL_dB,dL_dB_exp,decimal=8)"
   ]
  },
  {
   "cell_type": "markdown",
   "id": "surgical-competition",
   "metadata": {},
   "source": [
    "### Unit Test for SoftmaxLayer propagate¶"
   ]
  },
  {
   "cell_type": "code",
   "execution_count": 26,
   "id": "sweet-count",
   "metadata": {},
   "outputs": [],
   "source": [
    "x_0 = np.array([0.2,0.1,-0.3, 0.2, 0.5,-1.0, 1.0,1.5,0.1,-0.3, 0.2,-1.0]).reshape(4,3)\n",
    "\n",
    "\n",
    "#set seed to have reproducible weight and bias values\n",
    "np.random.seed(1)\n",
    "softMaxLayer = SoftmaxLayer(3,10)\n",
    "\n",
    "#do propagation\n",
    "y_pred = softMaxLayer.propagate(x_0)\n",
    "\n",
    "#compare with expected result\n",
    "y_exp = np.array([[0.11362611, 0.06999293, 0.07080156, 0.06747203, 0.0840525 ,\n",
    "        0.08913158, 0.08381403, 0.11300674, 0.18501456, 0.12308797],\n",
    "       [0.18665063, 0.03571663, 0.05072886, 0.05342259, 0.0756958 ,\n",
    "        0.08735819, 0.08145338, 0.12290197, 0.19351435, 0.11255761],\n",
    "       [0.27679327, 0.01737822, 0.04510595, 0.03289875, 0.18444911,\n",
    "        0.01656238, 0.10074499, 0.03697278, 0.15635912, 0.13273545],\n",
    "       [0.11274874, 0.05062964, 0.05765898, 0.06805941, 0.05515356,\n",
    "        0.15405948, 0.05824533, 0.15610028, 0.17845652, 0.10888806]]\n",
    ")\n",
    "np.testing.assert_array_almost_equal(y_pred,y_exp,decimal=8)"
   ]
  },
  {
   "cell_type": "markdown",
   "id": "eleven-gnome",
   "metadata": {},
   "source": [
    "### Unit Test for SoftmaxLayer back_propagate\n",
    "Assumes that Unit Test for propagate is correct¶"
   ]
  },
  {
   "cell_type": "code",
   "execution_count": 27,
   "id": "short-viking",
   "metadata": {},
   "outputs": [],
   "source": [
    "x_0 = np.array([0.2,0.1,-0.3, 0.2, 0.5,-1.0, 1.0,1.5,0.1,-0.3, 0.2,-1.0]).reshape(4,3)\n",
    "\n",
    "\n",
    "#set seed to have reproducible weight and bias values\n",
    "np.random.seed(1)\n",
    "softMaxLayer = SoftmaxLayer(3,10)\n",
    "\n",
    "#do propagation\n",
    "y_pred = softMaxLayer.propagate(x_0)\n",
    "y_0 = np.array([0, 4, 8, 7])\n",
    "dL_da = softMaxLayer.back_propagate(y_0)\n",
    "\n",
    "dL_da_exp = np.array([[-0.64178465, -0.59845119,  0.41885208],\n",
    "       [-0.28299565, -0.40390096, -0.43205205],\n",
    "       [ 0.1360029 ,  0.20574427,  0.06930959],\n",
    "       [ 0.20224965,  0.27875041,  0.29687246]])\n",
    "\n",
    "dL_dW_exp = np.array([[ 2.57559980e-02,  5.83280983e-03,  1.30285837e-02,\n",
    "         9.16496383e-03, -3.68257130e-05,  1.41062101e-03,\n",
    "         2.90812170e-02,  8.43311084e-02, -2.05368013e-01,\n",
    "         3.67995366e-02],\n",
    "       [ 1.10606893e-01,  1.52627166e-02,  2.79088254e-02,\n",
    "         2.41046276e-02, -4.15106198e-02,  2.70619277e-02,\n",
    "         5.29686590e-02, -1.01422806e-02, -2.78627845e-01,\n",
    "         7.23670961e-02],\n",
    "       [-1.45197004e-03, -2.64015821e-02, -3.12794292e-02,\n",
    "        -3.46084327e-02,  2.15594950e-01, -6.66252266e-02,\n",
    "        -3.86921043e-02,  1.72698253e-01, -1.27959830e-01,\n",
    "        -6.12746280e-02]])\n",
    "\n",
    "dL_dB_exp = np.array([[-0.07754531,  0.04342935,  0.05607384,  0.0554632 , -0.15016226,\n",
    "         0.08677791,  0.08106443, -0.14275456, -0.07166386,  0.11931727]])\n",
    "\n",
    "np.testing.assert_array_almost_equal(dL_da,dL_da_exp,decimal=8)\n",
    "np.testing.assert_array_almost_equal(softMaxLayer.dL_dW,dL_dW_exp,decimal=8)\n",
    "np.testing.assert_array_almost_equal(softMaxLayer.dL_dB,dL_dB_exp,decimal=8)\n"
   ]
  },
  {
   "cell_type": "code",
   "execution_count": null,
   "id": "approved-protocol",
   "metadata": {},
   "outputs": [],
   "source": []
  }
 ],
 "metadata": {
  "kernelspec": {
   "display_name": "Python 3",
   "language": "python",
   "name": "python3"
  },
  "language_info": {
   "codemirror_mode": {
    "name": "ipython",
    "version": 3
   },
   "file_extension": ".py",
   "mimetype": "text/x-python",
   "name": "python",
   "nbconvert_exporter": "python",
   "pygments_lexer": "ipython3",
   "version": "3.8.5"
  }
 },
 "nbformat": 4,
 "nbformat_minor": 5
}
